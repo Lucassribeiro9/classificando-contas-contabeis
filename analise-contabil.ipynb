{
 "cells": [
  {
   "cell_type": "markdown",
   "id": "6d117bd1",
   "metadata": {},
   "source": [
    "# Classificador de contas contábeis\n",
    "O objetivo deste projeto é criar um classificador de contas contábeis para ajudar a identificar e categorizar lançamentos contábeis de uma empresa. Nessa primeira etapa, vamos explorar e analisar os dados para entender melhor o problema e identificar as características relevantes para o classificador.\n",
    "\n",
    "## Quais serão as metas a serem atingidas?\n",
    "- Aumentar a probabilidade de acerto para acima de 70%\n",
    "- Preencher a conta contábil quando estiver vazia e a probabilidade for maior de 70%. Caso contrário, a conta será preenchida com a maior probabilidade constatada, porém sinalizando ao contador que ele revise aquela informação.\n",
    "- A probabilidade do lançamento pertencer a tal conta estará na coluna PROBABILIDADE\n",
    "- Criar um relatório de classificação mostrando o funcionamento do modelo e a distribuição do dataset\n",
    "- Preencher a conta contábil e a probabilidade, gerando uma nova planilha com os resultados"
   ]
  },
  {
   "cell_type": "markdown",
   "id": "9ae083b6",
   "metadata": {},
   "source": [
    "## Bibliotecas utilizadas\n",
    "- Pandas: carregamento, manipulação e tratamento de dados, transformando-os em DataFrame\n",
    "- Numpy: computação numérica\n",
    "- Scikit-learn: para o desenvolvimento do projeto (treinamento e avaliação do modelo)\n",
    "- Nltk: ferramenta para processamento de texto (stopwords)\n",
    "- Matplotlib, Plotly e Seaborn: visualização dos dados"
   ]
  },
  {
   "cell_type": "code",
   "execution_count": 137,
   "id": "0",
   "metadata": {},
   "outputs": [
    {
     "name": "stdout",
     "output_type": "stream",
     "text": [
      "Bibliotecas importadas com sucesso!\n"
     ]
    },
    {
     "name": "stderr",
     "output_type": "stream",
     "text": [
      "[nltk_data] Downloading package stopwords to\n",
      "[nltk_data]     C:\\Users\\administrador\\AppData\\Roaming\\nltk_data...\n",
      "[nltk_data]   Package stopwords is already up-to-date!\n"
     ]
    }
   ],
   "source": [
    "# - Bibliotecas para manipulação e análise de dados\n",
    "import pandas as pd\n",
    "import numpy as np\n",
    "import openpyxl\n",
    "\n",
    "# - Bibliotecas para visualização de dados\n",
    "import plotly.express as px\n",
    "import seaborn as sns\n",
    "import matplotlib.pyplot as plt\n",
    "from IPython.display import display, Markdown\n",
    "\n",
    "# - Bibliotecas para ML\n",
    "import nltk\n",
    "nltk.download('stopwords')\n",
    "from sklearn.model_selection import train_test_split\n",
    "from sklearn.feature_extraction.text import TfidfVectorizer\n",
    "from sklearn.feature_extraction.text import CountVectorizer\n",
    "from sklearn.naive_bayes import MultinomialNB\n",
    "from sklearn.pipeline import Pipeline\n",
    "from sklearn.metrics import classification_report, confusion_matrix\n",
    "\n",
    "sns.set_style(\"whitegrid\")\n",
    "\n",
    "print(\"Bibliotecas importadas com sucesso!\")"
   ]
  },
  {
   "cell_type": "markdown",
   "id": "0ffafd5e",
   "metadata": {},
   "source": [
    "### DataFrame com os dados\n",
    "A planilha a ser utilizada está disponível neste repositório como **lanc_cont_ml.xlsx**. Ela possui 5 colunas\n",
    "\n",
    "| Nome da Coluna          | Descrição                                             |\n",
    "|-------------------------|-------------------------------------------------------|\n",
    "| CONTA                   | Número da conta contábil.                             |\n",
    "| BANCO                   | Banco vinculado ao lançamento/conta contábil.         |\n",
    "| DATA                    | Data do lançamento.                                   |\n",
    "| DESCRIÇÃO DO LANÇAMENTO | Descrição do lançamento (Ex: Pagto. Salário).         |\n",
    "| VALOR                   | Valor monetário do lançamento.                        |\n",
    "\n",
    "Antes de iniciarmos as análises e testes de modelo, vamos verificar nosso *dataset*, analisando as 5 primeiras entradas e as dimensões do mesmo. Logo abaixo mostrarei também o número de contas contábeis."
   ]
  },
  {
   "cell_type": "code",
   "execution_count": 138,
   "id": "1",
   "metadata": {},
   "outputs": [
    {
     "data": {
      "text/html": [
       "<div>\n",
       "<style scoped>\n",
       "    .dataframe tbody tr th:only-of-type {\n",
       "        vertical-align: middle;\n",
       "    }\n",
       "\n",
       "    .dataframe tbody tr th {\n",
       "        vertical-align: top;\n",
       "    }\n",
       "\n",
       "    .dataframe thead th {\n",
       "        text-align: right;\n",
       "    }\n",
       "</style>\n",
       "<table border=\"1\" class=\"dataframe\">\n",
       "  <thead>\n",
       "    <tr style=\"text-align: right;\">\n",
       "      <th></th>\n",
       "      <th>CONTA</th>\n",
       "      <th>NOME DA CONTA</th>\n",
       "      <th>BANCO</th>\n",
       "      <th>DATA</th>\n",
       "      <th>DESCRIÇÃO DO LANÇAMENTO</th>\n",
       "      <th>VALOR</th>\n",
       "    </tr>\n",
       "  </thead>\n",
       "  <tbody>\n",
       "    <tr>\n",
       "      <th>0</th>\n",
       "      <td>20102</td>\n",
       "      <td>Despesas Administrativas</td>\n",
       "      <td>ITAÚ</td>\n",
       "      <td>01/01/2024</td>\n",
       "      <td>ALUGUEL - Lançamento teste 5506</td>\n",
       "      <td>-548,96</td>\n",
       "    </tr>\n",
       "    <tr>\n",
       "      <th>1</th>\n",
       "      <td>20104</td>\n",
       "      <td>Impostos e Taxas</td>\n",
       "      <td>ITAÚ</td>\n",
       "      <td>02/01/2024</td>\n",
       "      <td>IMPOSTO - Lançamento teste 2679</td>\n",
       "      <td>-4,503,05</td>\n",
       "    </tr>\n",
       "    <tr>\n",
       "      <th>2</th>\n",
       "      <td>30102</td>\n",
       "      <td>Receita de Venda de Produtos</td>\n",
       "      <td>ITAÚ</td>\n",
       "      <td>02/01/2024</td>\n",
       "      <td>VENDA - Lançamento teste 7912</td>\n",
       "      <td>2,653,82</td>\n",
       "    </tr>\n",
       "    <tr>\n",
       "      <th>3</th>\n",
       "      <td>20101</td>\n",
       "      <td>Despesas com Pessoal</td>\n",
       "      <td>ITAÚ</td>\n",
       "      <td>02/01/2024</td>\n",
       "      <td>SALARIO - Lançamento teste 4582</td>\n",
       "      <td>-644,45</td>\n",
       "    </tr>\n",
       "    <tr>\n",
       "      <th>4</th>\n",
       "      <td>20104</td>\n",
       "      <td>Impostos e Taxas</td>\n",
       "      <td>ITAÚ</td>\n",
       "      <td>04/01/2024</td>\n",
       "      <td>IMPOSTO - Lançamento teste 1434</td>\n",
       "      <td>-10,131,84</td>\n",
       "    </tr>\n",
       "  </tbody>\n",
       "</table>\n",
       "</div>"
      ],
      "text/plain": [
       "   CONTA                 NOME DA CONTA BANCO        DATA  \\\n",
       "0  20102      Despesas Administrativas  ITAÚ  01/01/2024   \n",
       "1  20104              Impostos e Taxas  ITAÚ  02/01/2024   \n",
       "2  30102  Receita de Venda de Produtos  ITAÚ  02/01/2024   \n",
       "3  20101          Despesas com Pessoal  ITAÚ  02/01/2024   \n",
       "4  20104              Impostos e Taxas  ITAÚ  04/01/2024   \n",
       "\n",
       "           DESCRIÇÃO DO LANÇAMENTO       VALOR  \n",
       "0  ALUGUEL - Lançamento teste 5506     -548,96  \n",
       "1  IMPOSTO - Lançamento teste 2679   -4,503,05  \n",
       "2    VENDA - Lançamento teste 7912    2,653,82  \n",
       "3  SALARIO - Lançamento teste 4582     -644,45  \n",
       "4  IMPOSTO - Lançamento teste 1434  -10,131,84  "
      ]
     },
     "execution_count": 138,
     "metadata": {},
     "output_type": "execute_result"
    }
   ],
   "source": [
    "# Criando o DataFrame\n",
    "df = pd.read_excel('lanc_cont_ml.xlsx')\n",
    "\n",
    "# Exibindo as primeiras linhas do DataFrame\n",
    "df.head()"
   ]
  },
  {
   "cell_type": "code",
   "execution_count": 139,
   "id": "2",
   "metadata": {},
   "outputs": [
    {
     "data": {
      "text/markdown": [
       "**O DataFrame possui 500 linhas e 6 colunas.**"
      ],
      "text/plain": [
       "<IPython.core.display.Markdown object>"
      ]
     },
     "metadata": {},
     "output_type": "display_data"
    },
    {
     "data": {
      "text/markdown": [
       "-------------------------------"
      ],
      "text/plain": [
       "<IPython.core.display.Markdown object>"
      ]
     },
     "metadata": {},
     "output_type": "display_data"
    },
    {
     "name": "stdout",
     "output_type": "stream",
     "text": [
      "<class 'pandas.core.frame.DataFrame'>\n",
      "RangeIndex: 500 entries, 0 to 499\n",
      "Data columns (total 6 columns):\n",
      " #   Column                   Non-Null Count  Dtype \n",
      "---  ------                   --------------  ----- \n",
      " 0   CONTA                    500 non-null    int64 \n",
      " 1   NOME DA CONTA            500 non-null    object\n",
      " 2   BANCO                    500 non-null    object\n",
      " 3   DATA                     500 non-null    object\n",
      " 4   DESCRIÇÃO DO LANÇAMENTO  500 non-null    object\n",
      " 5   VALOR                    500 non-null    object\n",
      "dtypes: int64(1), object(5)\n",
      "memory usage: 23.6+ KB\n"
     ]
    },
    {
     "data": {
      "text/markdown": [
       "-------------------------------"
      ],
      "text/plain": [
       "<IPython.core.display.Markdown object>"
      ]
     },
     "metadata": {},
     "output_type": "display_data"
    },
    {
     "data": {
      "text/plain": [
       "['CONTA', 'NOME DA CONTA', 'BANCO', 'DATA', 'DESCRIÇÃO DO LANÇAMENTO', 'VALOR']"
      ]
     },
     "metadata": {},
     "output_type": "display_data"
    },
    {
     "data": {
      "text/markdown": [
       "-------------------------------"
      ],
      "text/plain": [
       "<IPython.core.display.Markdown object>"
      ]
     },
     "metadata": {},
     "output_type": "display_data"
    },
    {
     "data": {
      "text/markdown": [
       "**Número de contas contábeis únicas: 10**"
      ],
      "text/plain": [
       "<IPython.core.display.Markdown object>"
      ]
     },
     "metadata": {},
     "output_type": "display_data"
    },
    {
     "data": {
      "text/markdown": [
       "-------------------------------"
      ],
      "text/plain": [
       "<IPython.core.display.Markdown object>"
      ]
     },
     "metadata": {},
     "output_type": "display_data"
    }
   ],
   "source": [
    "# Mostrando a dimensão do DataFrame\n",
    "display(\n",
    "    Markdown(f\"**O DataFrame possui {df.shape[0]} linhas e {df.shape[1]} colunas.**\")\n",
    ")\n",
    "display(Markdown(\"-------------------------------\"))\n",
    "# Informações técnicas do DataFrame\n",
    "df.info()\n",
    "display(Markdown(\"-------------------------------\"))\n",
    "# pegando colunas e colocando em dataset\n",
    "dataset = df.columns.tolist()\n",
    "display(dataset)\n",
    "\n",
    "display(Markdown(\"-------------------------------\"))\n",
    "# Verificando contas contábeis a serem classificadas\n",
    "num_classes = df[\"CONTA\"].nunique()\n",
    "display(Markdown(f\"**Número de contas contábeis únicas: {num_classes}**\"))\n",
    "display(Markdown(\"-------------------------------\"))"
   ]
  },
  {
   "cell_type": "markdown",
   "id": "476096bf",
   "metadata": {},
   "source": [
    "## Como as contas estão distribuídas?\n",
    "Criando um *DataFrame* para mostrar a distribuição de lançamentos por conta contábil. Logo em seguida, plotarei esses dados para melhor visualização. A distribuição de lançamentos por conta contábil deverá retornar dados conforme o exemplo abaixo:\n",
    "\n",
    "| Conta                   | Quantidade de lançamentos                             |\n",
    "|-------------------------|-------------------------------------------------------|\n",
    "| 20102                   | 67                                                    |\n",
    "| 20105                   | 60                                                    |\n",
    "| 30102                   | 52                                                    |\n"
   ]
  },
  {
   "cell_type": "code",
   "execution_count": 140,
   "id": "3",
   "metadata": {},
   "outputs": [
    {
     "data": {
      "text/markdown": [
       "## **Distribuição de lançamentos por conta contábil:**"
      ],
      "text/plain": [
       "<IPython.core.display.Markdown object>"
      ]
     },
     "metadata": {},
     "output_type": "display_data"
    },
    {
     "data": {
      "text/html": [
       "<div>\n",
       "<style scoped>\n",
       "    .dataframe tbody tr th:only-of-type {\n",
       "        vertical-align: middle;\n",
       "    }\n",
       "\n",
       "    .dataframe tbody tr th {\n",
       "        vertical-align: top;\n",
       "    }\n",
       "\n",
       "    .dataframe thead th {\n",
       "        text-align: right;\n",
       "    }\n",
       "</style>\n",
       "<table border=\"1\" class=\"dataframe\">\n",
       "  <thead>\n",
       "    <tr style=\"text-align: right;\">\n",
       "      <th></th>\n",
       "      <th>Conta</th>\n",
       "      <th>Número de Lançamentos</th>\n",
       "    </tr>\n",
       "  </thead>\n",
       "  <tbody>\n",
       "    <tr>\n",
       "      <th>0</th>\n",
       "      <td>20102</td>\n",
       "      <td>67</td>\n",
       "    </tr>\n",
       "    <tr>\n",
       "      <th>1</th>\n",
       "      <td>20105</td>\n",
       "      <td>60</td>\n",
       "    </tr>\n",
       "    <tr>\n",
       "      <th>2</th>\n",
       "      <td>30102</td>\n",
       "      <td>52</td>\n",
       "    </tr>\n",
       "    <tr>\n",
       "      <th>3</th>\n",
       "      <td>30103</td>\n",
       "      <td>52</td>\n",
       "    </tr>\n",
       "    <tr>\n",
       "      <th>4</th>\n",
       "      <td>30101</td>\n",
       "      <td>51</td>\n",
       "    </tr>\n",
       "    <tr>\n",
       "      <th>5</th>\n",
       "      <td>20103</td>\n",
       "      <td>49</td>\n",
       "    </tr>\n",
       "    <tr>\n",
       "      <th>6</th>\n",
       "      <td>20106</td>\n",
       "      <td>45</td>\n",
       "    </tr>\n",
       "    <tr>\n",
       "      <th>7</th>\n",
       "      <td>20104</td>\n",
       "      <td>42</td>\n",
       "    </tr>\n",
       "    <tr>\n",
       "      <th>8</th>\n",
       "      <td>20107</td>\n",
       "      <td>42</td>\n",
       "    </tr>\n",
       "    <tr>\n",
       "      <th>9</th>\n",
       "      <td>20101</td>\n",
       "      <td>40</td>\n",
       "    </tr>\n",
       "  </tbody>\n",
       "</table>\n",
       "</div>"
      ],
      "text/plain": [
       "   Conta  Número de Lançamentos\n",
       "0  20102                     67\n",
       "1  20105                     60\n",
       "2  30102                     52\n",
       "3  30103                     52\n",
       "4  30101                     51\n",
       "5  20103                     49\n",
       "6  20106                     45\n",
       "7  20104                     42\n",
       "8  20107                     42\n",
       "9  20101                     40"
      ]
     },
     "metadata": {},
     "output_type": "display_data"
    },
    {
     "data": {
      "application/vnd.plotly.v1+json": {
       "config": {
        "plotlyServerURL": "https://plot.ly"
       },
       "data": [
        {
         "hovertemplate": "Conta Contábil=%{x}<br>Número de Lançamentos=%{y}<extra></extra>",
         "legendgroup": "20102",
         "marker": {
          "color": "#636EFA",
          "pattern": {
           "shape": ""
          }
         },
         "name": "20102",
         "orientation": "v",
         "showlegend": true,
         "textfont": {
          "size": 12
         },
         "textposition": "outside",
         "texttemplate": "%{y}",
         "type": "bar",
         "x": [
          "20102"
         ],
         "xaxis": "x",
         "y": {
          "bdata": "Qw==",
          "dtype": "i1"
         },
         "yaxis": "y"
        },
        {
         "hovertemplate": "Conta Contábil=%{x}<br>Número de Lançamentos=%{y}<extra></extra>",
         "legendgroup": "20105",
         "marker": {
          "color": "#EF553B",
          "pattern": {
           "shape": ""
          }
         },
         "name": "20105",
         "orientation": "v",
         "showlegend": true,
         "textfont": {
          "size": 12
         },
         "textposition": "outside",
         "texttemplate": "%{y}",
         "type": "bar",
         "x": [
          "20105"
         ],
         "xaxis": "x",
         "y": {
          "bdata": "PA==",
          "dtype": "i1"
         },
         "yaxis": "y"
        },
        {
         "hovertemplate": "Conta Contábil=%{x}<br>Número de Lançamentos=%{y}<extra></extra>",
         "legendgroup": "30102",
         "marker": {
          "color": "#00CC96",
          "pattern": {
           "shape": ""
          }
         },
         "name": "30102",
         "orientation": "v",
         "showlegend": true,
         "textfont": {
          "size": 12
         },
         "textposition": "outside",
         "texttemplate": "%{y}",
         "type": "bar",
         "x": [
          "30102"
         ],
         "xaxis": "x",
         "y": {
          "bdata": "NA==",
          "dtype": "i1"
         },
         "yaxis": "y"
        },
        {
         "hovertemplate": "Conta Contábil=%{x}<br>Número de Lançamentos=%{y}<extra></extra>",
         "legendgroup": "30103",
         "marker": {
          "color": "#AB63FA",
          "pattern": {
           "shape": ""
          }
         },
         "name": "30103",
         "orientation": "v",
         "showlegend": true,
         "textfont": {
          "size": 12
         },
         "textposition": "outside",
         "texttemplate": "%{y}",
         "type": "bar",
         "x": [
          "30103"
         ],
         "xaxis": "x",
         "y": {
          "bdata": "NA==",
          "dtype": "i1"
         },
         "yaxis": "y"
        },
        {
         "hovertemplate": "Conta Contábil=%{x}<br>Número de Lançamentos=%{y}<extra></extra>",
         "legendgroup": "30101",
         "marker": {
          "color": "#FFA15A",
          "pattern": {
           "shape": ""
          }
         },
         "name": "30101",
         "orientation": "v",
         "showlegend": true,
         "textfont": {
          "size": 12
         },
         "textposition": "outside",
         "texttemplate": "%{y}",
         "type": "bar",
         "x": [
          "30101"
         ],
         "xaxis": "x",
         "y": {
          "bdata": "Mw==",
          "dtype": "i1"
         },
         "yaxis": "y"
        },
        {
         "hovertemplate": "Conta Contábil=%{x}<br>Número de Lançamentos=%{y}<extra></extra>",
         "legendgroup": "20103",
         "marker": {
          "color": "#19D3F3",
          "pattern": {
           "shape": ""
          }
         },
         "name": "20103",
         "orientation": "v",
         "showlegend": true,
         "textfont": {
          "size": 12
         },
         "textposition": "outside",
         "texttemplate": "%{y}",
         "type": "bar",
         "x": [
          "20103"
         ],
         "xaxis": "x",
         "y": {
          "bdata": "MQ==",
          "dtype": "i1"
         },
         "yaxis": "y"
        },
        {
         "hovertemplate": "Conta Contábil=%{x}<br>Número de Lançamentos=%{y}<extra></extra>",
         "legendgroup": "20106",
         "marker": {
          "color": "#FF6692",
          "pattern": {
           "shape": ""
          }
         },
         "name": "20106",
         "orientation": "v",
         "showlegend": true,
         "textfont": {
          "size": 12
         },
         "textposition": "outside",
         "texttemplate": "%{y}",
         "type": "bar",
         "x": [
          "20106"
         ],
         "xaxis": "x",
         "y": {
          "bdata": "LQ==",
          "dtype": "i1"
         },
         "yaxis": "y"
        },
        {
         "hovertemplate": "Conta Contábil=%{x}<br>Número de Lançamentos=%{y}<extra></extra>",
         "legendgroup": "20104",
         "marker": {
          "color": "#B6E880",
          "pattern": {
           "shape": ""
          }
         },
         "name": "20104",
         "orientation": "v",
         "showlegend": true,
         "textfont": {
          "size": 12
         },
         "textposition": "outside",
         "texttemplate": "%{y}",
         "type": "bar",
         "x": [
          "20104"
         ],
         "xaxis": "x",
         "y": {
          "bdata": "Kg==",
          "dtype": "i1"
         },
         "yaxis": "y"
        },
        {
         "hovertemplate": "Conta Contábil=%{x}<br>Número de Lançamentos=%{y}<extra></extra>",
         "legendgroup": "20107",
         "marker": {
          "color": "#FF97FF",
          "pattern": {
           "shape": ""
          }
         },
         "name": "20107",
         "orientation": "v",
         "showlegend": true,
         "textfont": {
          "size": 12
         },
         "textposition": "outside",
         "texttemplate": "%{y}",
         "type": "bar",
         "x": [
          "20107"
         ],
         "xaxis": "x",
         "y": {
          "bdata": "Kg==",
          "dtype": "i1"
         },
         "yaxis": "y"
        },
        {
         "hovertemplate": "Conta Contábil=%{x}<br>Número de Lançamentos=%{y}<extra></extra>",
         "legendgroup": "20101",
         "marker": {
          "color": "#FECB52",
          "pattern": {
           "shape": ""
          }
         },
         "name": "20101",
         "orientation": "v",
         "showlegend": true,
         "textfont": {
          "size": 12
         },
         "textposition": "outside",
         "texttemplate": "%{y}",
         "type": "bar",
         "x": [
          "20101"
         ],
         "xaxis": "x",
         "y": {
          "bdata": "KA==",
          "dtype": "i1"
         },
         "yaxis": "y"
        }
       ],
       "layout": {
        "barmode": "relative",
        "legend": {
         "title": {
          "text": "Conta Contábil"
         },
         "tracegroupgap": 0
        },
        "template": {
         "data": {
          "bar": [
           {
            "error_x": {
             "color": "#2a3f5f"
            },
            "error_y": {
             "color": "#2a3f5f"
            },
            "marker": {
             "line": {
              "color": "#E5ECF6",
              "width": 0.5
             },
             "pattern": {
              "fillmode": "overlay",
              "size": 10,
              "solidity": 0.2
             }
            },
            "type": "bar"
           }
          ],
          "barpolar": [
           {
            "marker": {
             "line": {
              "color": "#E5ECF6",
              "width": 0.5
             },
             "pattern": {
              "fillmode": "overlay",
              "size": 10,
              "solidity": 0.2
             }
            },
            "type": "barpolar"
           }
          ],
          "carpet": [
           {
            "aaxis": {
             "endlinecolor": "#2a3f5f",
             "gridcolor": "white",
             "linecolor": "white",
             "minorgridcolor": "white",
             "startlinecolor": "#2a3f5f"
            },
            "baxis": {
             "endlinecolor": "#2a3f5f",
             "gridcolor": "white",
             "linecolor": "white",
             "minorgridcolor": "white",
             "startlinecolor": "#2a3f5f"
            },
            "type": "carpet"
           }
          ],
          "choropleth": [
           {
            "colorbar": {
             "outlinewidth": 0,
             "ticks": ""
            },
            "type": "choropleth"
           }
          ],
          "contour": [
           {
            "colorbar": {
             "outlinewidth": 0,
             "ticks": ""
            },
            "colorscale": [
             [
              0,
              "#0d0887"
             ],
             [
              0.1111111111111111,
              "#46039f"
             ],
             [
              0.2222222222222222,
              "#7201a8"
             ],
             [
              0.3333333333333333,
              "#9c179e"
             ],
             [
              0.4444444444444444,
              "#bd3786"
             ],
             [
              0.5555555555555556,
              "#d8576b"
             ],
             [
              0.6666666666666666,
              "#ed7953"
             ],
             [
              0.7777777777777778,
              "#fb9f3a"
             ],
             [
              0.8888888888888888,
              "#fdca26"
             ],
             [
              1,
              "#f0f921"
             ]
            ],
            "type": "contour"
           }
          ],
          "contourcarpet": [
           {
            "colorbar": {
             "outlinewidth": 0,
             "ticks": ""
            },
            "type": "contourcarpet"
           }
          ],
          "heatmap": [
           {
            "colorbar": {
             "outlinewidth": 0,
             "ticks": ""
            },
            "colorscale": [
             [
              0,
              "#0d0887"
             ],
             [
              0.1111111111111111,
              "#46039f"
             ],
             [
              0.2222222222222222,
              "#7201a8"
             ],
             [
              0.3333333333333333,
              "#9c179e"
             ],
             [
              0.4444444444444444,
              "#bd3786"
             ],
             [
              0.5555555555555556,
              "#d8576b"
             ],
             [
              0.6666666666666666,
              "#ed7953"
             ],
             [
              0.7777777777777778,
              "#fb9f3a"
             ],
             [
              0.8888888888888888,
              "#fdca26"
             ],
             [
              1,
              "#f0f921"
             ]
            ],
            "type": "heatmap"
           }
          ],
          "histogram": [
           {
            "marker": {
             "pattern": {
              "fillmode": "overlay",
              "size": 10,
              "solidity": 0.2
             }
            },
            "type": "histogram"
           }
          ],
          "histogram2d": [
           {
            "colorbar": {
             "outlinewidth": 0,
             "ticks": ""
            },
            "colorscale": [
             [
              0,
              "#0d0887"
             ],
             [
              0.1111111111111111,
              "#46039f"
             ],
             [
              0.2222222222222222,
              "#7201a8"
             ],
             [
              0.3333333333333333,
              "#9c179e"
             ],
             [
              0.4444444444444444,
              "#bd3786"
             ],
             [
              0.5555555555555556,
              "#d8576b"
             ],
             [
              0.6666666666666666,
              "#ed7953"
             ],
             [
              0.7777777777777778,
              "#fb9f3a"
             ],
             [
              0.8888888888888888,
              "#fdca26"
             ],
             [
              1,
              "#f0f921"
             ]
            ],
            "type": "histogram2d"
           }
          ],
          "histogram2dcontour": [
           {
            "colorbar": {
             "outlinewidth": 0,
             "ticks": ""
            },
            "colorscale": [
             [
              0,
              "#0d0887"
             ],
             [
              0.1111111111111111,
              "#46039f"
             ],
             [
              0.2222222222222222,
              "#7201a8"
             ],
             [
              0.3333333333333333,
              "#9c179e"
             ],
             [
              0.4444444444444444,
              "#bd3786"
             ],
             [
              0.5555555555555556,
              "#d8576b"
             ],
             [
              0.6666666666666666,
              "#ed7953"
             ],
             [
              0.7777777777777778,
              "#fb9f3a"
             ],
             [
              0.8888888888888888,
              "#fdca26"
             ],
             [
              1,
              "#f0f921"
             ]
            ],
            "type": "histogram2dcontour"
           }
          ],
          "mesh3d": [
           {
            "colorbar": {
             "outlinewidth": 0,
             "ticks": ""
            },
            "type": "mesh3d"
           }
          ],
          "parcoords": [
           {
            "line": {
             "colorbar": {
              "outlinewidth": 0,
              "ticks": ""
             }
            },
            "type": "parcoords"
           }
          ],
          "pie": [
           {
            "automargin": true,
            "type": "pie"
           }
          ],
          "scatter": [
           {
            "fillpattern": {
             "fillmode": "overlay",
             "size": 10,
             "solidity": 0.2
            },
            "type": "scatter"
           }
          ],
          "scatter3d": [
           {
            "line": {
             "colorbar": {
              "outlinewidth": 0,
              "ticks": ""
             }
            },
            "marker": {
             "colorbar": {
              "outlinewidth": 0,
              "ticks": ""
             }
            },
            "type": "scatter3d"
           }
          ],
          "scattercarpet": [
           {
            "marker": {
             "colorbar": {
              "outlinewidth": 0,
              "ticks": ""
             }
            },
            "type": "scattercarpet"
           }
          ],
          "scattergeo": [
           {
            "marker": {
             "colorbar": {
              "outlinewidth": 0,
              "ticks": ""
             }
            },
            "type": "scattergeo"
           }
          ],
          "scattergl": [
           {
            "marker": {
             "colorbar": {
              "outlinewidth": 0,
              "ticks": ""
             }
            },
            "type": "scattergl"
           }
          ],
          "scattermap": [
           {
            "marker": {
             "colorbar": {
              "outlinewidth": 0,
              "ticks": ""
             }
            },
            "type": "scattermap"
           }
          ],
          "scattermapbox": [
           {
            "marker": {
             "colorbar": {
              "outlinewidth": 0,
              "ticks": ""
             }
            },
            "type": "scattermapbox"
           }
          ],
          "scatterpolar": [
           {
            "marker": {
             "colorbar": {
              "outlinewidth": 0,
              "ticks": ""
             }
            },
            "type": "scatterpolar"
           }
          ],
          "scatterpolargl": [
           {
            "marker": {
             "colorbar": {
              "outlinewidth": 0,
              "ticks": ""
             }
            },
            "type": "scatterpolargl"
           }
          ],
          "scatterternary": [
           {
            "marker": {
             "colorbar": {
              "outlinewidth": 0,
              "ticks": ""
             }
            },
            "type": "scatterternary"
           }
          ],
          "surface": [
           {
            "colorbar": {
             "outlinewidth": 0,
             "ticks": ""
            },
            "colorscale": [
             [
              0,
              "#0d0887"
             ],
             [
              0.1111111111111111,
              "#46039f"
             ],
             [
              0.2222222222222222,
              "#7201a8"
             ],
             [
              0.3333333333333333,
              "#9c179e"
             ],
             [
              0.4444444444444444,
              "#bd3786"
             ],
             [
              0.5555555555555556,
              "#d8576b"
             ],
             [
              0.6666666666666666,
              "#ed7953"
             ],
             [
              0.7777777777777778,
              "#fb9f3a"
             ],
             [
              0.8888888888888888,
              "#fdca26"
             ],
             [
              1,
              "#f0f921"
             ]
            ],
            "type": "surface"
           }
          ],
          "table": [
           {
            "cells": {
             "fill": {
              "color": "#EBF0F8"
             },
             "line": {
              "color": "white"
             }
            },
            "header": {
             "fill": {
              "color": "#C8D4E3"
             },
             "line": {
              "color": "white"
             }
            },
            "type": "table"
           }
          ]
         },
         "layout": {
          "annotationdefaults": {
           "arrowcolor": "#2a3f5f",
           "arrowhead": 0,
           "arrowwidth": 1
          },
          "autotypenumbers": "strict",
          "coloraxis": {
           "colorbar": {
            "outlinewidth": 0,
            "ticks": ""
           }
          },
          "colorscale": {
           "diverging": [
            [
             0,
             "#8e0152"
            ],
            [
             0.1,
             "#c51b7d"
            ],
            [
             0.2,
             "#de77ae"
            ],
            [
             0.3,
             "#f1b6da"
            ],
            [
             0.4,
             "#fde0ef"
            ],
            [
             0.5,
             "#f7f7f7"
            ],
            [
             0.6,
             "#e6f5d0"
            ],
            [
             0.7,
             "#b8e186"
            ],
            [
             0.8,
             "#7fbc41"
            ],
            [
             0.9,
             "#4d9221"
            ],
            [
             1,
             "#276419"
            ]
           ],
           "sequential": [
            [
             0,
             "#0d0887"
            ],
            [
             0.1111111111111111,
             "#46039f"
            ],
            [
             0.2222222222222222,
             "#7201a8"
            ],
            [
             0.3333333333333333,
             "#9c179e"
            ],
            [
             0.4444444444444444,
             "#bd3786"
            ],
            [
             0.5555555555555556,
             "#d8576b"
            ],
            [
             0.6666666666666666,
             "#ed7953"
            ],
            [
             0.7777777777777778,
             "#fb9f3a"
            ],
            [
             0.8888888888888888,
             "#fdca26"
            ],
            [
             1,
             "#f0f921"
            ]
           ],
           "sequentialminus": [
            [
             0,
             "#0d0887"
            ],
            [
             0.1111111111111111,
             "#46039f"
            ],
            [
             0.2222222222222222,
             "#7201a8"
            ],
            [
             0.3333333333333333,
             "#9c179e"
            ],
            [
             0.4444444444444444,
             "#bd3786"
            ],
            [
             0.5555555555555556,
             "#d8576b"
            ],
            [
             0.6666666666666666,
             "#ed7953"
            ],
            [
             0.7777777777777778,
             "#fb9f3a"
            ],
            [
             0.8888888888888888,
             "#fdca26"
            ],
            [
             1,
             "#f0f921"
            ]
           ]
          },
          "colorway": [
           "#636efa",
           "#EF553B",
           "#00cc96",
           "#ab63fa",
           "#FFA15A",
           "#19d3f3",
           "#FF6692",
           "#B6E880",
           "#FF97FF",
           "#FECB52"
          ],
          "font": {
           "color": "#2a3f5f"
          },
          "geo": {
           "bgcolor": "white",
           "lakecolor": "white",
           "landcolor": "#E5ECF6",
           "showlakes": true,
           "showland": true,
           "subunitcolor": "white"
          },
          "hoverlabel": {
           "align": "left"
          },
          "hovermode": "closest",
          "mapbox": {
           "style": "light"
          },
          "paper_bgcolor": "white",
          "plot_bgcolor": "#E5ECF6",
          "polar": {
           "angularaxis": {
            "gridcolor": "white",
            "linecolor": "white",
            "ticks": ""
           },
           "bgcolor": "#E5ECF6",
           "radialaxis": {
            "gridcolor": "white",
            "linecolor": "white",
            "ticks": ""
           }
          },
          "scene": {
           "xaxis": {
            "backgroundcolor": "#E5ECF6",
            "gridcolor": "white",
            "gridwidth": 2,
            "linecolor": "white",
            "showbackground": true,
            "ticks": "",
            "zerolinecolor": "white"
           },
           "yaxis": {
            "backgroundcolor": "#E5ECF6",
            "gridcolor": "white",
            "gridwidth": 2,
            "linecolor": "white",
            "showbackground": true,
            "ticks": "",
            "zerolinecolor": "white"
           },
           "zaxis": {
            "backgroundcolor": "#E5ECF6",
            "gridcolor": "white",
            "gridwidth": 2,
            "linecolor": "white",
            "showbackground": true,
            "ticks": "",
            "zerolinecolor": "white"
           }
          },
          "shapedefaults": {
           "line": {
            "color": "#2a3f5f"
           }
          },
          "ternary": {
           "aaxis": {
            "gridcolor": "white",
            "linecolor": "white",
            "ticks": ""
           },
           "baxis": {
            "gridcolor": "white",
            "linecolor": "white",
            "ticks": ""
           },
           "bgcolor": "#E5ECF6",
           "caxis": {
            "gridcolor": "white",
            "linecolor": "white",
            "ticks": ""
           }
          },
          "title": {
           "x": 0.05
          },
          "xaxis": {
           "automargin": true,
           "gridcolor": "white",
           "linecolor": "white",
           "ticks": "",
           "title": {
            "standoff": 15
           },
           "zerolinecolor": "white",
           "zerolinewidth": 2
          },
          "yaxis": {
           "automargin": true,
           "gridcolor": "white",
           "linecolor": "white",
           "ticks": "",
           "title": {
            "standoff": 15
           },
           "zerolinecolor": "white",
           "zerolinewidth": 2
          }
         }
        },
        "title": {
         "text": "Distribuição de Lançamentos por Conta Contábil"
        },
        "xaxis": {
         "anchor": "y",
         "categoryarray": [
          "20102",
          "20105",
          "30102",
          "30103",
          "30101",
          "20103",
          "20106",
          "20104",
          "20107",
          "20101"
         ],
         "categoryorder": "array",
         "domain": [
          0,
          1
         ],
         "tickangle": -90,
         "title": {
          "text": "Conta Contábil"
         }
        },
        "yaxis": {
         "anchor": "x",
         "domain": [
          0,
          1
         ],
         "title": {
          "text": "Número de Lançamentos"
         }
        }
       }
      }
     },
     "metadata": {},
     "output_type": "display_data"
    }
   ],
   "source": [
    "# Montagem de grafico de barras para visualizar a distribuição das classes\n",
    "display(Markdown(\"## **Distribuição de lançamentos por conta contábil:**\"))\n",
    "summary_data = {\n",
    "    \"Conta\": df['CONTA'].value_counts().index,\n",
    "    \"Número de Lançamentos\": df['CONTA'].value_counts().values\n",
    "}\n",
    "df_summary = pd.DataFrame(summary_data)\n",
    "# Ordenando o DataFrame pelo número de lançamentos\n",
    "df_summary = df_summary.sort_values(by=\"Número de Lançamentos\", ascending=False)\n",
    "# Exibindo o DataFrame resumido\n",
    "display(df_summary)\n",
    "# Criando DF para Plotly\n",
    "count_contas = df['CONTA'].value_counts()\n",
    "df_plot = count_contas.reset_index()\n",
    "df_plot.columns = [\"Conta Contábil\", \"Número de Lançamentos\"]\n",
    "# Garante que a coluna de contas seja tratada como texto\n",
    "df_plot[\"Conta Contábil\"] = df_plot[\"Conta Contábil\"].astype(str)\n",
    "\n",
    "# Adicionado o parâmetro 'text_auto=True' para mostrar os valores\n",
    "fig = px.bar(\n",
    "    df_plot,\n",
    "    x=\"Conta Contábil\",\n",
    "    y=\"Número de Lançamentos\",\n",
    "    title=\"Distribuição de Lançamentos por Conta Contábil\",\n",
    "    color=\"Conta Contábil\",  \n",
    "    color_discrete_sequence=px.colors.qualitative.Plotly,  \n",
    "    text_auto=True,\n",
    ")\n",
    "\n",
    "# Customiza a aparência do texto nas barras para melhor legibilidade\n",
    "fig.update_traces(\n",
    "    textposition=\"outside\", textfont_size=12  # Coloca o texto fora (acima) da barra\n",
    ")\n",
    "fig.update_layout(xaxis_tickangle=-90)\n",
    "fig.show()"
   ]
  },
  {
   "cell_type": "markdown",
   "id": "f5d98f1a",
   "metadata": {},
   "source": [
    "## Como podemos tratar o texto para fazer a classificação?\n",
    "Para tratar o texto, vamos utilizar o *nltk* para limpar o texto com as *stopwords* através da função *clean_text*.\n",
    "\n",
    "- **Stopwords**: são as palavras mais comuns e frequentes em um idioma ou contexto, que servem como conexão para formar uma oração ou frase. Elas podem ser removidas do texto para melhorar a qualidade da classificação.\n",
    "\n",
    "O *dataset* a seguir faz a comparação do histórico original com o histórico limpo."
   ]
  },
  {
   "cell_type": "code",
   "execution_count": 141,
   "id": "4",
   "metadata": {},
   "outputs": [
    {
     "data": {
      "text/markdown": [
       "## Limpando os textos das descrições..."
      ],
      "text/plain": [
       "<IPython.core.display.Markdown object>"
      ]
     },
     "metadata": {},
     "output_type": "display_data"
    },
    {
     "data": {
      "text/markdown": [
       "### Comparação entre texto original e texto limpo:"
      ],
      "text/plain": [
       "<IPython.core.display.Markdown object>"
      ]
     },
     "metadata": {},
     "output_type": "display_data"
    },
    {
     "data": {
      "text/html": [
       "<div>\n",
       "<style scoped>\n",
       "    .dataframe tbody tr th:only-of-type {\n",
       "        vertical-align: middle;\n",
       "    }\n",
       "\n",
       "    .dataframe tbody tr th {\n",
       "        vertical-align: top;\n",
       "    }\n",
       "\n",
       "    .dataframe thead th {\n",
       "        text-align: right;\n",
       "    }\n",
       "</style>\n",
       "<table border=\"1\" class=\"dataframe\">\n",
       "  <thead>\n",
       "    <tr style=\"text-align: right;\">\n",
       "      <th></th>\n",
       "      <th>DESCRIÇÃO DO LANÇAMENTO</th>\n",
       "      <th>DESCRIÇÃO_LIMPA</th>\n",
       "    </tr>\n",
       "  </thead>\n",
       "  <tbody>\n",
       "    <tr>\n",
       "      <th>0</th>\n",
       "      <td>ALUGUEL - Lançamento teste 5506</td>\n",
       "      <td>aluguel lançamento teste</td>\n",
       "    </tr>\n",
       "    <tr>\n",
       "      <th>1</th>\n",
       "      <td>IMPOSTO - Lançamento teste 2679</td>\n",
       "      <td>imposto lançamento teste</td>\n",
       "    </tr>\n",
       "    <tr>\n",
       "      <th>2</th>\n",
       "      <td>VENDA - Lançamento teste 7912</td>\n",
       "      <td>venda lançamento teste</td>\n",
       "    </tr>\n",
       "    <tr>\n",
       "      <th>3</th>\n",
       "      <td>SALARIO - Lançamento teste 4582</td>\n",
       "      <td>salario lançamento teste</td>\n",
       "    </tr>\n",
       "    <tr>\n",
       "      <th>4</th>\n",
       "      <td>IMPOSTO - Lançamento teste 1434</td>\n",
       "      <td>imposto lançamento teste</td>\n",
       "    </tr>\n",
       "    <tr>\n",
       "      <th>5</th>\n",
       "      <td>VENDA - Lançamento teste 9928</td>\n",
       "      <td>venda lançamento teste</td>\n",
       "    </tr>\n",
       "    <tr>\n",
       "      <th>6</th>\n",
       "      <td>VIAGEM - Lançamento teste 5557</td>\n",
       "      <td>viagem lançamento teste</td>\n",
       "    </tr>\n",
       "    <tr>\n",
       "      <th>7</th>\n",
       "      <td>SALARIO - Lançamento teste 3615</td>\n",
       "      <td>salario lançamento teste</td>\n",
       "    </tr>\n",
       "    <tr>\n",
       "      <th>8</th>\n",
       "      <td>VIAGEM - Lançamento teste 3547</td>\n",
       "      <td>viagem lançamento teste</td>\n",
       "    </tr>\n",
       "    <tr>\n",
       "      <th>9</th>\n",
       "      <td>IMPOSTO - Lançamento teste 6514</td>\n",
       "      <td>imposto lançamento teste</td>\n",
       "    </tr>\n",
       "  </tbody>\n",
       "</table>\n",
       "</div>"
      ],
      "text/plain": [
       "           DESCRIÇÃO DO LANÇAMENTO           DESCRIÇÃO_LIMPA\n",
       "0  ALUGUEL - Lançamento teste 5506  aluguel lançamento teste\n",
       "1  IMPOSTO - Lançamento teste 2679  imposto lançamento teste\n",
       "2    VENDA - Lançamento teste 7912    venda lançamento teste\n",
       "3  SALARIO - Lançamento teste 4582  salario lançamento teste\n",
       "4  IMPOSTO - Lançamento teste 1434  imposto lançamento teste\n",
       "5    VENDA - Lançamento teste 9928    venda lançamento teste\n",
       "6   VIAGEM - Lançamento teste 5557   viagem lançamento teste\n",
       "7  SALARIO - Lançamento teste 3615  salario lançamento teste\n",
       "8   VIAGEM - Lançamento teste 3547   viagem lançamento teste\n",
       "9  IMPOSTO - Lançamento teste 6514  imposto lançamento teste"
      ]
     },
     "execution_count": 141,
     "metadata": {},
     "output_type": "execute_result"
    }
   ],
   "source": [
    "# Tratamento de texto - descrição\n",
    "import re\n",
    "from nltk.corpus import stopwords\n",
    "\n",
    "# função para limpar o texto\n",
    "def clean_text(text):\n",
    "    # transformar em minúsculas\n",
    "    text = str(text).lower()\n",
    "    # remover numeros\n",
    "    text = re.sub(r'\\d+', ' ', text)\n",
    "    # remover pontuação e caracteres especiais\n",
    "    text = re.sub(r'[^\\w\\s]', ' ', text)\n",
    "    # remover espaços extras\n",
    "    text = text.strip()\n",
    "    text = re.sub(r'\\s+', ' ', text)\n",
    "    # remover stopwords\n",
    "    stopwords_pt = set(stopwords.words('portuguese'))\n",
    "    # Opcional: adicionar stopwords condizentes ao contexto\n",
    "    custom_stopwords = {'Lançamento', 'pagto', 'aplicações'}\n",
    "    # update\n",
    "    stopwords_pt.update(custom_stopwords)\n",
    "    # Separar as palavras\n",
    "    words = text.split()\n",
    "    # Remover as stopwords\n",
    "    words_filtered = [word for word in words if word not in stopwords_pt and len(word) > 2]\n",
    "    # Juntar as palavras novamente\n",
    "    clean_text = ' '.join(words_filtered)\n",
    "    return clean_text\n",
    "\n",
    "display(Markdown(\"## Limpando os textos das descrições...\"))\n",
    "# Aplicando a função de limpeza ao DataFrame\n",
    "# Criando uma coluna com o texto limpo\n",
    "df[\"DESCRIÇÃO_LIMPA\"] = df[\"DESCRIÇÃO DO LANÇAMENTO\"].apply(clean_text)\n",
    "# Comparação\n",
    "display(Markdown(\"### Comparação entre texto original e texto limpo:\"))\n",
    "df[[\"DESCRIÇÃO DO LANÇAMENTO\", \"DESCRIÇÃO_LIMPA\"]].head(10)"
   ]
  },
  {
   "cell_type": "markdown",
   "id": "ed3c7109",
   "metadata": {},
   "source": [
    "### Quais são as palavras mais frequentes?\n",
    "O *dataset* a seguir mostra as palavras mais frequentes após o tratamento do histórico."
   ]
  },
  {
   "cell_type": "code",
   "execution_count": 142,
   "id": "5",
   "metadata": {},
   "outputs": [
    {
     "data": {
      "text/markdown": [
       "### Palavras mais frequentes nas descrições limpas:"
      ],
      "text/plain": [
       "<IPython.core.display.Markdown object>"
      ]
     },
     "metadata": {},
     "output_type": "display_data"
    },
    {
     "data": {
      "text/html": [
       "<div>\n",
       "<style scoped>\n",
       "    .dataframe tbody tr th:only-of-type {\n",
       "        vertical-align: middle;\n",
       "    }\n",
       "\n",
       "    .dataframe tbody tr th {\n",
       "        vertical-align: top;\n",
       "    }\n",
       "\n",
       "    .dataframe thead th {\n",
       "        text-align: right;\n",
       "    }\n",
       "</style>\n",
       "<table border=\"1\" class=\"dataframe\">\n",
       "  <thead>\n",
       "    <tr style=\"text-align: right;\">\n",
       "      <th></th>\n",
       "      <th>Palavra</th>\n",
       "      <th>Frequência</th>\n",
       "    </tr>\n",
       "  </thead>\n",
       "  <tbody>\n",
       "    <tr>\n",
       "      <th>0</th>\n",
       "      <td>lançamento</td>\n",
       "      <td>500</td>\n",
       "    </tr>\n",
       "    <tr>\n",
       "      <th>1</th>\n",
       "      <td>teste</td>\n",
       "      <td>500</td>\n",
       "    </tr>\n",
       "    <tr>\n",
       "      <th>2</th>\n",
       "      <td>aluguel</td>\n",
       "      <td>67</td>\n",
       "    </tr>\n",
       "    <tr>\n",
       "      <th>3</th>\n",
       "      <td>fornecedor</td>\n",
       "      <td>60</td>\n",
       "    </tr>\n",
       "    <tr>\n",
       "      <th>4</th>\n",
       "      <td>venda</td>\n",
       "      <td>52</td>\n",
       "    </tr>\n",
       "    <tr>\n",
       "      <th>5</th>\n",
       "      <td>rendimento</td>\n",
       "      <td>52</td>\n",
       "    </tr>\n",
       "    <tr>\n",
       "      <th>6</th>\n",
       "      <td>recebimento</td>\n",
       "      <td>51</td>\n",
       "    </tr>\n",
       "    <tr>\n",
       "      <th>7</th>\n",
       "      <td>anuncio</td>\n",
       "      <td>49</td>\n",
       "    </tr>\n",
       "    <tr>\n",
       "      <th>8</th>\n",
       "      <td>software</td>\n",
       "      <td>45</td>\n",
       "    </tr>\n",
       "    <tr>\n",
       "      <th>9</th>\n",
       "      <td>imposto</td>\n",
       "      <td>42</td>\n",
       "    </tr>\n",
       "    <tr>\n",
       "      <th>10</th>\n",
       "      <td>viagem</td>\n",
       "      <td>42</td>\n",
       "    </tr>\n",
       "    <tr>\n",
       "      <th>11</th>\n",
       "      <td>salario</td>\n",
       "      <td>40</td>\n",
       "    </tr>\n",
       "  </tbody>\n",
       "</table>\n",
       "</div>"
      ],
      "text/plain": [
       "        Palavra  Frequência\n",
       "0    lançamento         500\n",
       "1         teste         500\n",
       "2       aluguel          67\n",
       "3    fornecedor          60\n",
       "4         venda          52\n",
       "5    rendimento          52\n",
       "6   recebimento          51\n",
       "7       anuncio          49\n",
       "8      software          45\n",
       "9       imposto          42\n",
       "10       viagem          42\n",
       "11      salario          40"
      ]
     },
     "execution_count": 142,
     "metadata": {},
     "output_type": "execute_result"
    }
   ],
   "source": [
    "# Análise de frequência das palavras\n",
    "\n",
    "count_vectorizer = CountVectorizer()\n",
    "# matriz de contagem de palavras\n",
    "arr_count = count_vectorizer.fit_transform(df[\"DESCRIÇÃO_LIMPA\"])\n",
    "# Somando as ocorrências de cada palavra\n",
    "sum_words = arr_count.sum(axis=0)\n",
    "# Criando um dicionário de palavras e suas frequências\n",
    "words_freq = [(word, sum_words[0, idx]) for word, idx in count_vectorizer.vocabulary_.items()]\n",
    "# Ordenar lista da mais frequente para a menos frequente\n",
    "words_freq_sorted = sorted(words_freq, key=lambda x: x[1], reverse=True)\n",
    "# Criando DataFrame\n",
    "df_words_freq = pd.DataFrame(words_freq_sorted, columns=['Palavra', 'Frequência'])\n",
    "\n",
    "# Mostrando as palavras mais frequentes\n",
    "display(Markdown(\"### Palavras mais frequentes nas descrições limpas:\"))\n",
    "df_words_freq.head(50) "
   ]
  },
  {
   "cell_type": "markdown",
   "id": "49a76c93",
   "metadata": {},
   "source": [
    "## Criando o modelo\n",
    "Antes de criar o modelo, é criado um filtro para prepará-lo. A divisão do modelo deve ter estratificação com pelo menos 5 ocorrências por classe. A divisão entre dados é composta por: **70% treino e 30% teste**.\n",
    "Lembrando que:\n",
    "\n",
    "##### **X = coluna com histórico**\n",
    "##### **y = coluna com as contas contábeis**"
   ]
  },
  {
   "cell_type": "code",
   "execution_count": 143,
   "id": "6",
   "metadata": {},
   "outputs": [
    {
     "data": {
      "text/markdown": [
       "**Modelo treinado com sucesso!**"
      ],
      "text/plain": [
       "<IPython.core.display.Markdown object>"
      ]
     },
     "metadata": {},
     "output_type": "display_data"
    }
   ],
   "source": [
    "# Criando filtro para preparar modelo. A divisão do modelo deve ter estratificação com pelo menos 5 ocorrências por classe\n",
    "count_acc = df['CONTA'].value_counts()\n",
    "valid_acc = count_acc[count_acc >= 5].index\n",
    "df_filtered = df[df['CONTA'].isin(valid_acc)]\n",
    "\n",
    "# Criando primeiro modelo de teste\n",
    "X = df_filtered[\"DESCRIÇÃO_LIMPA\"]\n",
    "y = df_filtered[\"CONTA\"]\n",
    "# Divisão entre dados de treino e teste: 70% treino e 30% teste\n",
    "X_train, X_test, y_train, y_test = train_test_split(X, y, test_size=0.3, random_state=42, stratify=y)\n",
    "# Definir e criar pipeline\n",
    "text_clf_pipeline = Pipeline([\n",
    "    ('tfidf', TfidfVectorizer()),\n",
    "    ('clf', MultinomialNB()),\n",
    "])   \n",
    "# Treinando o pipeline\n",
    "text_clf_pipeline.fit(X_train, y_train)\n",
    "display(Markdown(\"**Modelo treinado com sucesso!**\"))    "
   ]
  },
  {
   "cell_type": "markdown",
   "id": "91d8aecf",
   "metadata": {},
   "source": [
    "# Relatório de classificação\n",
    "O relatório nos mostrará o resultado da classificação dividido em 4 colunas:\n",
    "\n",
    "- **Precision**: de toda a classificação, qual a porcentagem de acertos? (Mede a qualidade da previsão)\n",
    "- **Recall**: de todos os exemplos que realmente eram de *X*, quantos o modelo conseguiu encontrar? (Mede a quantidade de acertos)\n",
    "- **F1-Score**: uma média entre *Precision* e *Recall*. Ótima métrica para verificar o balanceamento do *dataset*\n",
    "- **Accuracy**: Acurácia é a porcentagem de acertos em relação ao total de previsões\n",
    "(Acurácia = Número de acertos / Número total de amostras)\n",
    "\n",
    "## Matriz de confusão\n",
    "Para ter uma visão mais detalhada de onde tivemos acertos e erros, usaremos a Matriz de Confusão\n",
    "\n",
    "- Linhas representam a conta real\n",
    "- Colunas representam a conta prevista pelo modelo\n",
    "- Os números na diagonal principal são os acertos\n",
    "- Qualquer número fora da diagonal representa um erro de classificação"
   ]
  },
  {
   "cell_type": "code",
   "execution_count": 144,
   "id": "7",
   "metadata": {},
   "outputs": [
    {
     "data": {
      "text/markdown": [
       "## **Relatório de Classificação do Modelo**"
      ],
      "text/plain": [
       "<IPython.core.display.Markdown object>"
      ]
     },
     "metadata": {},
     "output_type": "display_data"
    },
    {
     "data": {
      "text/markdown": [
       "**Acurácia do Modelo:** 100.00%"
      ],
      "text/plain": [
       "<IPython.core.display.Markdown object>"
      ]
     },
     "metadata": {},
     "output_type": "display_data"
    },
    {
     "data": {
      "text/html": [
       "<style type=\"text/css\">\n",
       "#T_e6ba3_row0_col2, #T_e6ba3_row1_col2, #T_e6ba3_row2_col2, #T_e6ba3_row3_col2, #T_e6ba3_row4_col2, #T_e6ba3_row5_col2, #T_e6ba3_row6_col2, #T_e6ba3_row7_col2, #T_e6ba3_row8_col2, #T_e6ba3_row9_col2, #T_e6ba3_row10_col2, #T_e6ba3_row11_col2 {\n",
       "  background-color: #f7fbff;\n",
       "  color: #000000;\n",
       "}\n",
       "</style>\n",
       "<table id=\"T_e6ba3\">\n",
       "  <caption>Relatório de Classificação por Conta Contábil</caption>\n",
       "  <thead>\n",
       "    <tr>\n",
       "      <th class=\"blank level0\" >&nbsp;</th>\n",
       "      <th id=\"T_e6ba3_level0_col0\" class=\"col_heading level0 col0\" >Precisão</th>\n",
       "      <th id=\"T_e6ba3_level0_col1\" class=\"col_heading level0 col1\" >Recall</th>\n",
       "      <th id=\"T_e6ba3_level0_col2\" class=\"col_heading level0 col2\" >F1-Score</th>\n",
       "      <th id=\"T_e6ba3_level0_col3\" class=\"col_heading level0 col3\" >Nº de amostras (Suporte)</th>\n",
       "    </tr>\n",
       "  </thead>\n",
       "  <tbody>\n",
       "    <tr>\n",
       "      <th id=\"T_e6ba3_level0_row0\" class=\"row_heading level0 row0\" >20101</th>\n",
       "      <td id=\"T_e6ba3_row0_col0\" class=\"data row0 col0\" >100.00%</td>\n",
       "      <td id=\"T_e6ba3_row0_col1\" class=\"data row0 col1\" >100.00%</td>\n",
       "      <td id=\"T_e6ba3_row0_col2\" class=\"data row0 col2\" >100.00%</td>\n",
       "      <td id=\"T_e6ba3_row0_col3\" class=\"data row0 col3\" >12</td>\n",
       "    </tr>\n",
       "    <tr>\n",
       "      <th id=\"T_e6ba3_level0_row1\" class=\"row_heading level0 row1\" >20102</th>\n",
       "      <td id=\"T_e6ba3_row1_col0\" class=\"data row1 col0\" >100.00%</td>\n",
       "      <td id=\"T_e6ba3_row1_col1\" class=\"data row1 col1\" >100.00%</td>\n",
       "      <td id=\"T_e6ba3_row1_col2\" class=\"data row1 col2\" >100.00%</td>\n",
       "      <td id=\"T_e6ba3_row1_col3\" class=\"data row1 col3\" >20</td>\n",
       "    </tr>\n",
       "    <tr>\n",
       "      <th id=\"T_e6ba3_level0_row2\" class=\"row_heading level0 row2\" >20103</th>\n",
       "      <td id=\"T_e6ba3_row2_col0\" class=\"data row2 col0\" >100.00%</td>\n",
       "      <td id=\"T_e6ba3_row2_col1\" class=\"data row2 col1\" >100.00%</td>\n",
       "      <td id=\"T_e6ba3_row2_col2\" class=\"data row2 col2\" >100.00%</td>\n",
       "      <td id=\"T_e6ba3_row2_col3\" class=\"data row2 col3\" >15</td>\n",
       "    </tr>\n",
       "    <tr>\n",
       "      <th id=\"T_e6ba3_level0_row3\" class=\"row_heading level0 row3\" >20104</th>\n",
       "      <td id=\"T_e6ba3_row3_col0\" class=\"data row3 col0\" >100.00%</td>\n",
       "      <td id=\"T_e6ba3_row3_col1\" class=\"data row3 col1\" >100.00%</td>\n",
       "      <td id=\"T_e6ba3_row3_col2\" class=\"data row3 col2\" >100.00%</td>\n",
       "      <td id=\"T_e6ba3_row3_col3\" class=\"data row3 col3\" >13</td>\n",
       "    </tr>\n",
       "    <tr>\n",
       "      <th id=\"T_e6ba3_level0_row4\" class=\"row_heading level0 row4\" >20105</th>\n",
       "      <td id=\"T_e6ba3_row4_col0\" class=\"data row4 col0\" >100.00%</td>\n",
       "      <td id=\"T_e6ba3_row4_col1\" class=\"data row4 col1\" >100.00%</td>\n",
       "      <td id=\"T_e6ba3_row4_col2\" class=\"data row4 col2\" >100.00%</td>\n",
       "      <td id=\"T_e6ba3_row4_col3\" class=\"data row4 col3\" >18</td>\n",
       "    </tr>\n",
       "    <tr>\n",
       "      <th id=\"T_e6ba3_level0_row5\" class=\"row_heading level0 row5\" >20106</th>\n",
       "      <td id=\"T_e6ba3_row5_col0\" class=\"data row5 col0\" >100.00%</td>\n",
       "      <td id=\"T_e6ba3_row5_col1\" class=\"data row5 col1\" >100.00%</td>\n",
       "      <td id=\"T_e6ba3_row5_col2\" class=\"data row5 col2\" >100.00%</td>\n",
       "      <td id=\"T_e6ba3_row5_col3\" class=\"data row5 col3\" >13</td>\n",
       "    </tr>\n",
       "    <tr>\n",
       "      <th id=\"T_e6ba3_level0_row6\" class=\"row_heading level0 row6\" >20107</th>\n",
       "      <td id=\"T_e6ba3_row6_col0\" class=\"data row6 col0\" >100.00%</td>\n",
       "      <td id=\"T_e6ba3_row6_col1\" class=\"data row6 col1\" >100.00%</td>\n",
       "      <td id=\"T_e6ba3_row6_col2\" class=\"data row6 col2\" >100.00%</td>\n",
       "      <td id=\"T_e6ba3_row6_col3\" class=\"data row6 col3\" >12</td>\n",
       "    </tr>\n",
       "    <tr>\n",
       "      <th id=\"T_e6ba3_level0_row7\" class=\"row_heading level0 row7\" >30101</th>\n",
       "      <td id=\"T_e6ba3_row7_col0\" class=\"data row7 col0\" >100.00%</td>\n",
       "      <td id=\"T_e6ba3_row7_col1\" class=\"data row7 col1\" >100.00%</td>\n",
       "      <td id=\"T_e6ba3_row7_col2\" class=\"data row7 col2\" >100.00%</td>\n",
       "      <td id=\"T_e6ba3_row7_col3\" class=\"data row7 col3\" >15</td>\n",
       "    </tr>\n",
       "    <tr>\n",
       "      <th id=\"T_e6ba3_level0_row8\" class=\"row_heading level0 row8\" >30102</th>\n",
       "      <td id=\"T_e6ba3_row8_col0\" class=\"data row8 col0\" >100.00%</td>\n",
       "      <td id=\"T_e6ba3_row8_col1\" class=\"data row8 col1\" >100.00%</td>\n",
       "      <td id=\"T_e6ba3_row8_col2\" class=\"data row8 col2\" >100.00%</td>\n",
       "      <td id=\"T_e6ba3_row8_col3\" class=\"data row8 col3\" >16</td>\n",
       "    </tr>\n",
       "    <tr>\n",
       "      <th id=\"T_e6ba3_level0_row9\" class=\"row_heading level0 row9\" >30103</th>\n",
       "      <td id=\"T_e6ba3_row9_col0\" class=\"data row9 col0\" >100.00%</td>\n",
       "      <td id=\"T_e6ba3_row9_col1\" class=\"data row9 col1\" >100.00%</td>\n",
       "      <td id=\"T_e6ba3_row9_col2\" class=\"data row9 col2\" >100.00%</td>\n",
       "      <td id=\"T_e6ba3_row9_col3\" class=\"data row9 col3\" >16</td>\n",
       "    </tr>\n",
       "    <tr>\n",
       "      <th id=\"T_e6ba3_level0_row10\" class=\"row_heading level0 row10\" >macro avg</th>\n",
       "      <td id=\"T_e6ba3_row10_col0\" class=\"data row10 col0\" >100.00%</td>\n",
       "      <td id=\"T_e6ba3_row10_col1\" class=\"data row10 col1\" >100.00%</td>\n",
       "      <td id=\"T_e6ba3_row10_col2\" class=\"data row10 col2\" >100.00%</td>\n",
       "      <td id=\"T_e6ba3_row10_col3\" class=\"data row10 col3\" >150</td>\n",
       "    </tr>\n",
       "    <tr>\n",
       "      <th id=\"T_e6ba3_level0_row11\" class=\"row_heading level0 row11\" >weighted avg</th>\n",
       "      <td id=\"T_e6ba3_row11_col0\" class=\"data row11 col0\" >100.00%</td>\n",
       "      <td id=\"T_e6ba3_row11_col1\" class=\"data row11 col1\" >100.00%</td>\n",
       "      <td id=\"T_e6ba3_row11_col2\" class=\"data row11 col2\" >100.00%</td>\n",
       "      <td id=\"T_e6ba3_row11_col3\" class=\"data row11 col3\" >150</td>\n",
       "    </tr>\n",
       "  </tbody>\n",
       "</table>\n"
      ],
      "text/plain": [
       "<pandas.io.formats.style.Styler at 0x20d878e98e0>"
      ]
     },
     "metadata": {},
     "output_type": "display_data"
    },
    {
     "data": {
      "application/vnd.plotly.v1+json": {
       "config": {
        "plotlyServerURL": "https://plot.ly"
       },
       "data": [
        {
         "coloraxis": "coloraxis",
         "hovertemplate": "<b>Conta Prevista</b>: %{x}<br><b>Conta Real</b>: %{y}<br><b>Número de Ocorrências</b>: %{z}<extra></extra>",
         "name": "0",
         "texttemplate": "%{z}",
         "type": "heatmap",
         "x": [
          "20101",
          "20102",
          "20103",
          "20104",
          "20105",
          "20106",
          "20107",
          "30101",
          "30102",
          "30103"
         ],
         "xaxis": "x",
         "y": [
          "20101",
          "20102",
          "20103",
          "20104",
          "20105",
          "20106",
          "20107",
          "30101",
          "30102",
          "30103"
         ],
         "yaxis": "y",
         "z": {
          "bdata": "DAAAAAAAAAAAAAAUAAAAAAAAAAAAAA8AAAAAAAAAAAAADQAAAAAAAAAAAAASAAAAAAAAAAAAAA0AAAAAAAAAAAAADAAAAAAAAAAAAAAPAAAAAAAAAAAAABAAAAAAAAAAAAAAEA==",
          "dtype": "i1",
          "shape": "10, 10"
         }
        }
       ],
       "layout": {
        "coloraxis": {
         "colorbar": {
          "title": {
           "text": "<b>Número de Ocorrências</b>"
          }
         },
         "colorscale": [
          [
           0,
           "rgb(247,251,255)"
          ],
          [
           0.125,
           "rgb(222,235,247)"
          ],
          [
           0.25,
           "rgb(198,219,239)"
          ],
          [
           0.375,
           "rgb(158,202,225)"
          ],
          [
           0.5,
           "rgb(107,174,214)"
          ],
          [
           0.625,
           "rgb(66,146,198)"
          ],
          [
           0.75,
           "rgb(33,113,181)"
          ],
          [
           0.875,
           "rgb(8,81,156)"
          ],
          [
           1,
           "rgb(8,48,107)"
          ]
         ]
        },
        "height": 800,
        "template": {
         "data": {
          "bar": [
           {
            "error_x": {
             "color": "#2a3f5f"
            },
            "error_y": {
             "color": "#2a3f5f"
            },
            "marker": {
             "line": {
              "color": "#E5ECF6",
              "width": 0.5
             },
             "pattern": {
              "fillmode": "overlay",
              "size": 10,
              "solidity": 0.2
             }
            },
            "type": "bar"
           }
          ],
          "barpolar": [
           {
            "marker": {
             "line": {
              "color": "#E5ECF6",
              "width": 0.5
             },
             "pattern": {
              "fillmode": "overlay",
              "size": 10,
              "solidity": 0.2
             }
            },
            "type": "barpolar"
           }
          ],
          "carpet": [
           {
            "aaxis": {
             "endlinecolor": "#2a3f5f",
             "gridcolor": "white",
             "linecolor": "white",
             "minorgridcolor": "white",
             "startlinecolor": "#2a3f5f"
            },
            "baxis": {
             "endlinecolor": "#2a3f5f",
             "gridcolor": "white",
             "linecolor": "white",
             "minorgridcolor": "white",
             "startlinecolor": "#2a3f5f"
            },
            "type": "carpet"
           }
          ],
          "choropleth": [
           {
            "colorbar": {
             "outlinewidth": 0,
             "ticks": ""
            },
            "type": "choropleth"
           }
          ],
          "contour": [
           {
            "colorbar": {
             "outlinewidth": 0,
             "ticks": ""
            },
            "colorscale": [
             [
              0,
              "#0d0887"
             ],
             [
              0.1111111111111111,
              "#46039f"
             ],
             [
              0.2222222222222222,
              "#7201a8"
             ],
             [
              0.3333333333333333,
              "#9c179e"
             ],
             [
              0.4444444444444444,
              "#bd3786"
             ],
             [
              0.5555555555555556,
              "#d8576b"
             ],
             [
              0.6666666666666666,
              "#ed7953"
             ],
             [
              0.7777777777777778,
              "#fb9f3a"
             ],
             [
              0.8888888888888888,
              "#fdca26"
             ],
             [
              1,
              "#f0f921"
             ]
            ],
            "type": "contour"
           }
          ],
          "contourcarpet": [
           {
            "colorbar": {
             "outlinewidth": 0,
             "ticks": ""
            },
            "type": "contourcarpet"
           }
          ],
          "heatmap": [
           {
            "colorbar": {
             "outlinewidth": 0,
             "ticks": ""
            },
            "colorscale": [
             [
              0,
              "#0d0887"
             ],
             [
              0.1111111111111111,
              "#46039f"
             ],
             [
              0.2222222222222222,
              "#7201a8"
             ],
             [
              0.3333333333333333,
              "#9c179e"
             ],
             [
              0.4444444444444444,
              "#bd3786"
             ],
             [
              0.5555555555555556,
              "#d8576b"
             ],
             [
              0.6666666666666666,
              "#ed7953"
             ],
             [
              0.7777777777777778,
              "#fb9f3a"
             ],
             [
              0.8888888888888888,
              "#fdca26"
             ],
             [
              1,
              "#f0f921"
             ]
            ],
            "type": "heatmap"
           }
          ],
          "histogram": [
           {
            "marker": {
             "pattern": {
              "fillmode": "overlay",
              "size": 10,
              "solidity": 0.2
             }
            },
            "type": "histogram"
           }
          ],
          "histogram2d": [
           {
            "colorbar": {
             "outlinewidth": 0,
             "ticks": ""
            },
            "colorscale": [
             [
              0,
              "#0d0887"
             ],
             [
              0.1111111111111111,
              "#46039f"
             ],
             [
              0.2222222222222222,
              "#7201a8"
             ],
             [
              0.3333333333333333,
              "#9c179e"
             ],
             [
              0.4444444444444444,
              "#bd3786"
             ],
             [
              0.5555555555555556,
              "#d8576b"
             ],
             [
              0.6666666666666666,
              "#ed7953"
             ],
             [
              0.7777777777777778,
              "#fb9f3a"
             ],
             [
              0.8888888888888888,
              "#fdca26"
             ],
             [
              1,
              "#f0f921"
             ]
            ],
            "type": "histogram2d"
           }
          ],
          "histogram2dcontour": [
           {
            "colorbar": {
             "outlinewidth": 0,
             "ticks": ""
            },
            "colorscale": [
             [
              0,
              "#0d0887"
             ],
             [
              0.1111111111111111,
              "#46039f"
             ],
             [
              0.2222222222222222,
              "#7201a8"
             ],
             [
              0.3333333333333333,
              "#9c179e"
             ],
             [
              0.4444444444444444,
              "#bd3786"
             ],
             [
              0.5555555555555556,
              "#d8576b"
             ],
             [
              0.6666666666666666,
              "#ed7953"
             ],
             [
              0.7777777777777778,
              "#fb9f3a"
             ],
             [
              0.8888888888888888,
              "#fdca26"
             ],
             [
              1,
              "#f0f921"
             ]
            ],
            "type": "histogram2dcontour"
           }
          ],
          "mesh3d": [
           {
            "colorbar": {
             "outlinewidth": 0,
             "ticks": ""
            },
            "type": "mesh3d"
           }
          ],
          "parcoords": [
           {
            "line": {
             "colorbar": {
              "outlinewidth": 0,
              "ticks": ""
             }
            },
            "type": "parcoords"
           }
          ],
          "pie": [
           {
            "automargin": true,
            "type": "pie"
           }
          ],
          "scatter": [
           {
            "fillpattern": {
             "fillmode": "overlay",
             "size": 10,
             "solidity": 0.2
            },
            "type": "scatter"
           }
          ],
          "scatter3d": [
           {
            "line": {
             "colorbar": {
              "outlinewidth": 0,
              "ticks": ""
             }
            },
            "marker": {
             "colorbar": {
              "outlinewidth": 0,
              "ticks": ""
             }
            },
            "type": "scatter3d"
           }
          ],
          "scattercarpet": [
           {
            "marker": {
             "colorbar": {
              "outlinewidth": 0,
              "ticks": ""
             }
            },
            "type": "scattercarpet"
           }
          ],
          "scattergeo": [
           {
            "marker": {
             "colorbar": {
              "outlinewidth": 0,
              "ticks": ""
             }
            },
            "type": "scattergeo"
           }
          ],
          "scattergl": [
           {
            "marker": {
             "colorbar": {
              "outlinewidth": 0,
              "ticks": ""
             }
            },
            "type": "scattergl"
           }
          ],
          "scattermap": [
           {
            "marker": {
             "colorbar": {
              "outlinewidth": 0,
              "ticks": ""
             }
            },
            "type": "scattermap"
           }
          ],
          "scattermapbox": [
           {
            "marker": {
             "colorbar": {
              "outlinewidth": 0,
              "ticks": ""
             }
            },
            "type": "scattermapbox"
           }
          ],
          "scatterpolar": [
           {
            "marker": {
             "colorbar": {
              "outlinewidth": 0,
              "ticks": ""
             }
            },
            "type": "scatterpolar"
           }
          ],
          "scatterpolargl": [
           {
            "marker": {
             "colorbar": {
              "outlinewidth": 0,
              "ticks": ""
             }
            },
            "type": "scatterpolargl"
           }
          ],
          "scatterternary": [
           {
            "marker": {
             "colorbar": {
              "outlinewidth": 0,
              "ticks": ""
             }
            },
            "type": "scatterternary"
           }
          ],
          "surface": [
           {
            "colorbar": {
             "outlinewidth": 0,
             "ticks": ""
            },
            "colorscale": [
             [
              0,
              "#0d0887"
             ],
             [
              0.1111111111111111,
              "#46039f"
             ],
             [
              0.2222222222222222,
              "#7201a8"
             ],
             [
              0.3333333333333333,
              "#9c179e"
             ],
             [
              0.4444444444444444,
              "#bd3786"
             ],
             [
              0.5555555555555556,
              "#d8576b"
             ],
             [
              0.6666666666666666,
              "#ed7953"
             ],
             [
              0.7777777777777778,
              "#fb9f3a"
             ],
             [
              0.8888888888888888,
              "#fdca26"
             ],
             [
              1,
              "#f0f921"
             ]
            ],
            "type": "surface"
           }
          ],
          "table": [
           {
            "cells": {
             "fill": {
              "color": "#EBF0F8"
             },
             "line": {
              "color": "white"
             }
            },
            "header": {
             "fill": {
              "color": "#C8D4E3"
             },
             "line": {
              "color": "white"
             }
            },
            "type": "table"
           }
          ]
         },
         "layout": {
          "annotationdefaults": {
           "arrowcolor": "#2a3f5f",
           "arrowhead": 0,
           "arrowwidth": 1
          },
          "autotypenumbers": "strict",
          "coloraxis": {
           "colorbar": {
            "outlinewidth": 0,
            "ticks": ""
           }
          },
          "colorscale": {
           "diverging": [
            [
             0,
             "#8e0152"
            ],
            [
             0.1,
             "#c51b7d"
            ],
            [
             0.2,
             "#de77ae"
            ],
            [
             0.3,
             "#f1b6da"
            ],
            [
             0.4,
             "#fde0ef"
            ],
            [
             0.5,
             "#f7f7f7"
            ],
            [
             0.6,
             "#e6f5d0"
            ],
            [
             0.7,
             "#b8e186"
            ],
            [
             0.8,
             "#7fbc41"
            ],
            [
             0.9,
             "#4d9221"
            ],
            [
             1,
             "#276419"
            ]
           ],
           "sequential": [
            [
             0,
             "#0d0887"
            ],
            [
             0.1111111111111111,
             "#46039f"
            ],
            [
             0.2222222222222222,
             "#7201a8"
            ],
            [
             0.3333333333333333,
             "#9c179e"
            ],
            [
             0.4444444444444444,
             "#bd3786"
            ],
            [
             0.5555555555555556,
             "#d8576b"
            ],
            [
             0.6666666666666666,
             "#ed7953"
            ],
            [
             0.7777777777777778,
             "#fb9f3a"
            ],
            [
             0.8888888888888888,
             "#fdca26"
            ],
            [
             1,
             "#f0f921"
            ]
           ],
           "sequentialminus": [
            [
             0,
             "#0d0887"
            ],
            [
             0.1111111111111111,
             "#46039f"
            ],
            [
             0.2222222222222222,
             "#7201a8"
            ],
            [
             0.3333333333333333,
             "#9c179e"
            ],
            [
             0.4444444444444444,
             "#bd3786"
            ],
            [
             0.5555555555555556,
             "#d8576b"
            ],
            [
             0.6666666666666666,
             "#ed7953"
            ],
            [
             0.7777777777777778,
             "#fb9f3a"
            ],
            [
             0.8888888888888888,
             "#fdca26"
            ],
            [
             1,
             "#f0f921"
            ]
           ]
          },
          "colorway": [
           "#636efa",
           "#EF553B",
           "#00cc96",
           "#ab63fa",
           "#FFA15A",
           "#19d3f3",
           "#FF6692",
           "#B6E880",
           "#FF97FF",
           "#FECB52"
          ],
          "font": {
           "color": "#2a3f5f"
          },
          "geo": {
           "bgcolor": "white",
           "lakecolor": "white",
           "landcolor": "#E5ECF6",
           "showlakes": true,
           "showland": true,
           "subunitcolor": "white"
          },
          "hoverlabel": {
           "align": "left"
          },
          "hovermode": "closest",
          "mapbox": {
           "style": "light"
          },
          "paper_bgcolor": "white",
          "plot_bgcolor": "#E5ECF6",
          "polar": {
           "angularaxis": {
            "gridcolor": "white",
            "linecolor": "white",
            "ticks": ""
           },
           "bgcolor": "#E5ECF6",
           "radialaxis": {
            "gridcolor": "white",
            "linecolor": "white",
            "ticks": ""
           }
          },
          "scene": {
           "xaxis": {
            "backgroundcolor": "#E5ECF6",
            "gridcolor": "white",
            "gridwidth": 2,
            "linecolor": "white",
            "showbackground": true,
            "ticks": "",
            "zerolinecolor": "white"
           },
           "yaxis": {
            "backgroundcolor": "#E5ECF6",
            "gridcolor": "white",
            "gridwidth": 2,
            "linecolor": "white",
            "showbackground": true,
            "ticks": "",
            "zerolinecolor": "white"
           },
           "zaxis": {
            "backgroundcolor": "#E5ECF6",
            "gridcolor": "white",
            "gridwidth": 2,
            "linecolor": "white",
            "showbackground": true,
            "ticks": "",
            "zerolinecolor": "white"
           }
          },
          "shapedefaults": {
           "line": {
            "color": "#2a3f5f"
           }
          },
          "ternary": {
           "aaxis": {
            "gridcolor": "white",
            "linecolor": "white",
            "ticks": ""
           },
           "baxis": {
            "gridcolor": "white",
            "linecolor": "white",
            "ticks": ""
           },
           "bgcolor": "#E5ECF6",
           "caxis": {
            "gridcolor": "white",
            "linecolor": "white",
            "ticks": ""
           }
          },
          "title": {
           "x": 0.05
          },
          "xaxis": {
           "automargin": true,
           "gridcolor": "white",
           "linecolor": "white",
           "ticks": "",
           "title": {
            "standoff": 15
           },
           "zerolinecolor": "white",
           "zerolinewidth": 2
          },
          "yaxis": {
           "automargin": true,
           "gridcolor": "white",
           "linecolor": "white",
           "ticks": "",
           "title": {
            "standoff": 15
           },
           "zerolinecolor": "white",
           "zerolinewidth": 2
          }
         }
        },
        "title": {
         "text": "<b>Matriz de Confusão</b>",
         "x": 0.5
        },
        "width": 800,
        "xaxis": {
         "anchor": "y",
         "constrain": "domain",
         "domain": [
          0,
          1
         ],
         "scaleanchor": "y",
         "tickangle": -45,
         "title": {
          "text": "<b>Conta Prevista</b>"
         }
        },
        "yaxis": {
         "anchor": "x",
         "autorange": "reversed",
         "constrain": "domain",
         "domain": [
          0,
          1
         ],
         "title": {
          "text": "<b>Conta Real</b>"
         }
        }
       }
      }
     },
     "metadata": {},
     "output_type": "display_data"
    }
   ],
   "source": [
    "# Avaliando o modelo, criando matriz de confusão e relatório de classificação\n",
    "# Usando o pipeline para fazer previsões\n",
    "y_pred = text_clf_pipeline.predict(X_test)\n",
    "# Imprimindo o relatório de classificação com melhor visualização\n",
    "rp_dict = classification_report(y_test, y_pred, output_dict=True)\n",
    "accuracy = rp_dict.pop('accuracy')\n",
    "df_rp = pd.DataFrame(rp_dict).T\n",
    "df_rp['support'] = df_rp['support'].astype(int)\n",
    "df_rp.rename(\n",
    "    columns={\n",
    "        'precision': 'Precisão',\n",
    "        'recall': 'Recall',\n",
    "        'f1-score': 'F1-Score',\n",
    "        'support': 'Nº de amostras (Suporte)'\n",
    "    }, inplace=True\n",
    ")\n",
    "\n",
    "display(Markdown(\"## **Relatório de Classificação do Modelo**\"))\n",
    "display(Markdown(f\"**Acurácia do Modelo:** {accuracy:.2%}\"))\n",
    "# Usando mapa de calor e Styler para melhor visualização\n",
    "styled_df_rp = df_rp.style.format({\n",
    "    'Precisão': '{:.2%}',\n",
    "    'Recall': '{:.2%}',\n",
    "    'F1-Score': '{:.2%}',\n",
    "    'Nº de amostras (Suporte)': '{:,}'\n",
    "}).background_gradient(cmap='Blues', subset=['F1-Score']).set_caption(\"Relatório de Classificação por Conta Contábil\")\n",
    "display(styled_df_rp)\n",
    "# Gerar e visualizar matriz de confusão\n",
    "conf_matrix = confusion_matrix(y_test, y_pred)\n",
    "labels = sorted(y_test.unique().astype(str))  # Garantir que os rótulos estejam em ordem e como strings\n",
    "# Criando matriz de confusão com Plotly\n",
    "fig = px.imshow(\n",
    "    conf_matrix,\n",
    "    x=labels,\n",
    "    y=labels,\n",
    "    text_auto=True,\n",
    "    title=\"<b>Matriz de Confusão</b>\",\n",
    "    labels=dict(x=\"<b>Conta Prevista</b>\", y=\"<b>Conta Real</b>\", color=\"<b>Número de Ocorrências</b>\"),\n",
    "    color_continuous_scale=px.colors.sequential.Blues\n",
    ")\n",
    "# Ajuste de layout para melhor visualização\n",
    "fig.update_layout(\n",
    "    width=800,\n",
    "    height=800,\n",
    "    xaxis_tickangle=-45,\n",
    "    title_x=0.5  # Centraliza o título\n",
    ")\n",
    "fig.show()"
   ]
  },
  {
   "cell_type": "markdown",
   "id": "6bc9dfeb",
   "metadata": {},
   "source": [
    "## Análise de keywords\n",
    "Aqui será analisado a distribuição das keywords, dividindo seus resultados em 3 colunas:\n",
    "\n",
    "- **Keyword**: são as palavras consideradas como principais na classificação do lançamento\n",
    "- **Frequência total**: quantas vezes elas aparecem\n",
    "- **Conta dominante**: nas vezes em que aparecem, em quais contas seus lançamentos costumam ser atribuídos\n",
    "  \n",
    "Através desses dados, é possível prever quais palavras são mais determinantes e menos ambíguas na hora de realizar a classificação dos lançamentos"
   ]
  },
  {
   "cell_type": "code",
   "execution_count": 145,
   "id": "8",
   "metadata": {},
   "outputs": [
    {
     "name": "stdout",
     "output_type": "stream",
     "text": [
      "Iniciando análise de palavras-chave...\n",
      "Vocabulário extraído com 12 palavras.\n"
     ]
    },
    {
     "data": {
      "application/vnd.jupyter.widget-view+json": {
       "model_id": "4bf8eff58421458598a38c7ff50337a2",
       "version_major": 2,
       "version_minor": 0
      },
      "text/plain": [
       "Analisando palavras:   0%|          | 0/12 [00:00<?, ?it/s]"
      ]
     },
     "metadata": {},
     "output_type": "display_data"
    },
    {
     "data": {
      "text/html": [
       "<style type=\"text/css\">\n",
       "</style>\n",
       "<table id=\"T_99698\">\n",
       "  <caption><b>Palavras com maior exclusividade</b></caption>\n",
       "  <thead>\n",
       "    <tr>\n",
       "      <th class=\"blank level0\" >&nbsp;</th>\n",
       "      <th id=\"T_99698_level0_col0\" class=\"col_heading level0 col0\" >Keyword</th>\n",
       "      <th id=\"T_99698_level0_col1\" class=\"col_heading level0 col1\" >Frequência Total</th>\n",
       "      <th id=\"T_99698_level0_col2\" class=\"col_heading level0 col2\" >Conta dominante</th>\n",
       "      <th id=\"T_99698_level0_col3\" class=\"col_heading level0 col3\" >Frequência na conta dominante</th>\n",
       "      <th id=\"T_99698_level0_col4\" class=\"col_heading level0 col4\" >Exclusividade (%)</th>\n",
       "    </tr>\n",
       "  </thead>\n",
       "  <tbody>\n",
       "    <tr>\n",
       "      <th id=\"T_99698_level0_row0\" class=\"row_heading level0 row0\" >4</th>\n",
       "      <td id=\"T_99698_row0_col0\" class=\"data row0 col0\" >lançamento</td>\n",
       "      <td id=\"T_99698_row0_col1\" class=\"data row0 col1\" >500</td>\n",
       "      <td id=\"T_99698_row0_col2\" class=\"data row0 col2\" >20102</td>\n",
       "      <td id=\"T_99698_row0_col3\" class=\"data row0 col3\" >67</td>\n",
       "      <td id=\"T_99698_row0_col4\" class=\"data row0 col4\" >13.40</td>\n",
       "    </tr>\n",
       "    <tr>\n",
       "      <th id=\"T_99698_level0_row1\" class=\"row_heading level0 row1\" >9</th>\n",
       "      <td id=\"T_99698_row1_col0\" class=\"data row1 col0\" >teste</td>\n",
       "      <td id=\"T_99698_row1_col1\" class=\"data row1 col1\" >500</td>\n",
       "      <td id=\"T_99698_row1_col2\" class=\"data row1 col2\" >20102</td>\n",
       "      <td id=\"T_99698_row1_col3\" class=\"data row1 col3\" >67</td>\n",
       "      <td id=\"T_99698_row1_col4\" class=\"data row1 col4\" >13.40</td>\n",
       "    </tr>\n",
       "    <tr>\n",
       "      <th id=\"T_99698_level0_row2\" class=\"row_heading level0 row2\" >0</th>\n",
       "      <td id=\"T_99698_row2_col0\" class=\"data row2 col0\" >aluguel</td>\n",
       "      <td id=\"T_99698_row2_col1\" class=\"data row2 col1\" >67</td>\n",
       "      <td id=\"T_99698_row2_col2\" class=\"data row2 col2\" >20102</td>\n",
       "      <td id=\"T_99698_row2_col3\" class=\"data row2 col3\" >67</td>\n",
       "      <td id=\"T_99698_row2_col4\" class=\"data row2 col4\" >100.00</td>\n",
       "    </tr>\n",
       "    <tr>\n",
       "      <th id=\"T_99698_level0_row3\" class=\"row_heading level0 row3\" >1</th>\n",
       "      <td id=\"T_99698_row3_col0\" class=\"data row3 col0\" >anuncio</td>\n",
       "      <td id=\"T_99698_row3_col1\" class=\"data row3 col1\" >49</td>\n",
       "      <td id=\"T_99698_row3_col2\" class=\"data row3 col2\" >20103</td>\n",
       "      <td id=\"T_99698_row3_col3\" class=\"data row3 col3\" >49</td>\n",
       "      <td id=\"T_99698_row3_col4\" class=\"data row3 col4\" >100.00</td>\n",
       "    </tr>\n",
       "    <tr>\n",
       "      <th id=\"T_99698_level0_row4\" class=\"row_heading level0 row4\" >2</th>\n",
       "      <td id=\"T_99698_row4_col0\" class=\"data row4 col0\" >fornecedor</td>\n",
       "      <td id=\"T_99698_row4_col1\" class=\"data row4 col1\" >60</td>\n",
       "      <td id=\"T_99698_row4_col2\" class=\"data row4 col2\" >20105</td>\n",
       "      <td id=\"T_99698_row4_col3\" class=\"data row4 col3\" >60</td>\n",
       "      <td id=\"T_99698_row4_col4\" class=\"data row4 col4\" >100.00</td>\n",
       "    </tr>\n",
       "    <tr>\n",
       "      <th id=\"T_99698_level0_row5\" class=\"row_heading level0 row5\" >3</th>\n",
       "      <td id=\"T_99698_row5_col0\" class=\"data row5 col0\" >imposto</td>\n",
       "      <td id=\"T_99698_row5_col1\" class=\"data row5 col1\" >42</td>\n",
       "      <td id=\"T_99698_row5_col2\" class=\"data row5 col2\" >20104</td>\n",
       "      <td id=\"T_99698_row5_col3\" class=\"data row5 col3\" >42</td>\n",
       "      <td id=\"T_99698_row5_col4\" class=\"data row5 col4\" >100.00</td>\n",
       "    </tr>\n",
       "    <tr>\n",
       "      <th id=\"T_99698_level0_row6\" class=\"row_heading level0 row6\" >5</th>\n",
       "      <td id=\"T_99698_row6_col0\" class=\"data row6 col0\" >recebimento</td>\n",
       "      <td id=\"T_99698_row6_col1\" class=\"data row6 col1\" >51</td>\n",
       "      <td id=\"T_99698_row6_col2\" class=\"data row6 col2\" >30101</td>\n",
       "      <td id=\"T_99698_row6_col3\" class=\"data row6 col3\" >51</td>\n",
       "      <td id=\"T_99698_row6_col4\" class=\"data row6 col4\" >100.00</td>\n",
       "    </tr>\n",
       "    <tr>\n",
       "      <th id=\"T_99698_level0_row7\" class=\"row_heading level0 row7\" >6</th>\n",
       "      <td id=\"T_99698_row7_col0\" class=\"data row7 col0\" >rendimento</td>\n",
       "      <td id=\"T_99698_row7_col1\" class=\"data row7 col1\" >52</td>\n",
       "      <td id=\"T_99698_row7_col2\" class=\"data row7 col2\" >30103</td>\n",
       "      <td id=\"T_99698_row7_col3\" class=\"data row7 col3\" >52</td>\n",
       "      <td id=\"T_99698_row7_col4\" class=\"data row7 col4\" >100.00</td>\n",
       "    </tr>\n",
       "    <tr>\n",
       "      <th id=\"T_99698_level0_row8\" class=\"row_heading level0 row8\" >7</th>\n",
       "      <td id=\"T_99698_row8_col0\" class=\"data row8 col0\" >salario</td>\n",
       "      <td id=\"T_99698_row8_col1\" class=\"data row8 col1\" >40</td>\n",
       "      <td id=\"T_99698_row8_col2\" class=\"data row8 col2\" >20101</td>\n",
       "      <td id=\"T_99698_row8_col3\" class=\"data row8 col3\" >40</td>\n",
       "      <td id=\"T_99698_row8_col4\" class=\"data row8 col4\" >100.00</td>\n",
       "    </tr>\n",
       "    <tr>\n",
       "      <th id=\"T_99698_level0_row9\" class=\"row_heading level0 row9\" >8</th>\n",
       "      <td id=\"T_99698_row9_col0\" class=\"data row9 col0\" >software</td>\n",
       "      <td id=\"T_99698_row9_col1\" class=\"data row9 col1\" >45</td>\n",
       "      <td id=\"T_99698_row9_col2\" class=\"data row9 col2\" >20106</td>\n",
       "      <td id=\"T_99698_row9_col3\" class=\"data row9 col3\" >45</td>\n",
       "      <td id=\"T_99698_row9_col4\" class=\"data row9 col4\" >100.00</td>\n",
       "    </tr>\n",
       "  </tbody>\n",
       "</table>\n"
      ],
      "text/plain": [
       "<pandas.io.formats.style.Styler at 0x20d855b2660>"
      ]
     },
     "metadata": {},
     "output_type": "display_data"
    },
    {
     "data": {
      "text/html": [
       "<style type=\"text/css\">\n",
       "</style>\n",
       "<table id=\"T_dbb6d\">\n",
       "  <caption><b>Palavras com menor exclusividade</b></caption>\n",
       "  <thead>\n",
       "    <tr>\n",
       "      <th class=\"blank level0\" >&nbsp;</th>\n",
       "      <th id=\"T_dbb6d_level0_col0\" class=\"col_heading level0 col0\" >Keyword</th>\n",
       "      <th id=\"T_dbb6d_level0_col1\" class=\"col_heading level0 col1\" >Frequência Total</th>\n",
       "      <th id=\"T_dbb6d_level0_col2\" class=\"col_heading level0 col2\" >Conta dominante</th>\n",
       "      <th id=\"T_dbb6d_level0_col3\" class=\"col_heading level0 col3\" >Frequência na conta dominante</th>\n",
       "      <th id=\"T_dbb6d_level0_col4\" class=\"col_heading level0 col4\" >Exclusividade (%)</th>\n",
       "    </tr>\n",
       "  </thead>\n",
       "  <tbody>\n",
       "    <tr>\n",
       "      <th id=\"T_dbb6d_level0_row0\" class=\"row_heading level0 row0\" >0</th>\n",
       "      <td id=\"T_dbb6d_row0_col0\" class=\"data row0 col0\" >aluguel</td>\n",
       "      <td id=\"T_dbb6d_row0_col1\" class=\"data row0 col1\" >67</td>\n",
       "      <td id=\"T_dbb6d_row0_col2\" class=\"data row0 col2\" >20102</td>\n",
       "      <td id=\"T_dbb6d_row0_col3\" class=\"data row0 col3\" >67</td>\n",
       "      <td id=\"T_dbb6d_row0_col4\" class=\"data row0 col4\" >100.00</td>\n",
       "    </tr>\n",
       "    <tr>\n",
       "      <th id=\"T_dbb6d_level0_row1\" class=\"row_heading level0 row1\" >1</th>\n",
       "      <td id=\"T_dbb6d_row1_col0\" class=\"data row1 col0\" >anuncio</td>\n",
       "      <td id=\"T_dbb6d_row1_col1\" class=\"data row1 col1\" >49</td>\n",
       "      <td id=\"T_dbb6d_row1_col2\" class=\"data row1 col2\" >20103</td>\n",
       "      <td id=\"T_dbb6d_row1_col3\" class=\"data row1 col3\" >49</td>\n",
       "      <td id=\"T_dbb6d_row1_col4\" class=\"data row1 col4\" >100.00</td>\n",
       "    </tr>\n",
       "    <tr>\n",
       "      <th id=\"T_dbb6d_level0_row2\" class=\"row_heading level0 row2\" >2</th>\n",
       "      <td id=\"T_dbb6d_row2_col0\" class=\"data row2 col0\" >fornecedor</td>\n",
       "      <td id=\"T_dbb6d_row2_col1\" class=\"data row2 col1\" >60</td>\n",
       "      <td id=\"T_dbb6d_row2_col2\" class=\"data row2 col2\" >20105</td>\n",
       "      <td id=\"T_dbb6d_row2_col3\" class=\"data row2 col3\" >60</td>\n",
       "      <td id=\"T_dbb6d_row2_col4\" class=\"data row2 col4\" >100.00</td>\n",
       "    </tr>\n",
       "    <tr>\n",
       "      <th id=\"T_dbb6d_level0_row3\" class=\"row_heading level0 row3\" >3</th>\n",
       "      <td id=\"T_dbb6d_row3_col0\" class=\"data row3 col0\" >imposto</td>\n",
       "      <td id=\"T_dbb6d_row3_col1\" class=\"data row3 col1\" >42</td>\n",
       "      <td id=\"T_dbb6d_row3_col2\" class=\"data row3 col2\" >20104</td>\n",
       "      <td id=\"T_dbb6d_row3_col3\" class=\"data row3 col3\" >42</td>\n",
       "      <td id=\"T_dbb6d_row3_col4\" class=\"data row3 col4\" >100.00</td>\n",
       "    </tr>\n",
       "    <tr>\n",
       "      <th id=\"T_dbb6d_level0_row4\" class=\"row_heading level0 row4\" >5</th>\n",
       "      <td id=\"T_dbb6d_row4_col0\" class=\"data row4 col0\" >recebimento</td>\n",
       "      <td id=\"T_dbb6d_row4_col1\" class=\"data row4 col1\" >51</td>\n",
       "      <td id=\"T_dbb6d_row4_col2\" class=\"data row4 col2\" >30101</td>\n",
       "      <td id=\"T_dbb6d_row4_col3\" class=\"data row4 col3\" >51</td>\n",
       "      <td id=\"T_dbb6d_row4_col4\" class=\"data row4 col4\" >100.00</td>\n",
       "    </tr>\n",
       "    <tr>\n",
       "      <th id=\"T_dbb6d_level0_row5\" class=\"row_heading level0 row5\" >6</th>\n",
       "      <td id=\"T_dbb6d_row5_col0\" class=\"data row5 col0\" >rendimento</td>\n",
       "      <td id=\"T_dbb6d_row5_col1\" class=\"data row5 col1\" >52</td>\n",
       "      <td id=\"T_dbb6d_row5_col2\" class=\"data row5 col2\" >30103</td>\n",
       "      <td id=\"T_dbb6d_row5_col3\" class=\"data row5 col3\" >52</td>\n",
       "      <td id=\"T_dbb6d_row5_col4\" class=\"data row5 col4\" >100.00</td>\n",
       "    </tr>\n",
       "    <tr>\n",
       "      <th id=\"T_dbb6d_level0_row6\" class=\"row_heading level0 row6\" >7</th>\n",
       "      <td id=\"T_dbb6d_row6_col0\" class=\"data row6 col0\" >salario</td>\n",
       "      <td id=\"T_dbb6d_row6_col1\" class=\"data row6 col1\" >40</td>\n",
       "      <td id=\"T_dbb6d_row6_col2\" class=\"data row6 col2\" >20101</td>\n",
       "      <td id=\"T_dbb6d_row6_col3\" class=\"data row6 col3\" >40</td>\n",
       "      <td id=\"T_dbb6d_row6_col4\" class=\"data row6 col4\" >100.00</td>\n",
       "    </tr>\n",
       "    <tr>\n",
       "      <th id=\"T_dbb6d_level0_row7\" class=\"row_heading level0 row7\" >8</th>\n",
       "      <td id=\"T_dbb6d_row7_col0\" class=\"data row7 col0\" >software</td>\n",
       "      <td id=\"T_dbb6d_row7_col1\" class=\"data row7 col1\" >45</td>\n",
       "      <td id=\"T_dbb6d_row7_col2\" class=\"data row7 col2\" >20106</td>\n",
       "      <td id=\"T_dbb6d_row7_col3\" class=\"data row7 col3\" >45</td>\n",
       "      <td id=\"T_dbb6d_row7_col4\" class=\"data row7 col4\" >100.00</td>\n",
       "    </tr>\n",
       "    <tr>\n",
       "      <th id=\"T_dbb6d_level0_row8\" class=\"row_heading level0 row8\" >10</th>\n",
       "      <td id=\"T_dbb6d_row8_col0\" class=\"data row8 col0\" >venda</td>\n",
       "      <td id=\"T_dbb6d_row8_col1\" class=\"data row8 col1\" >52</td>\n",
       "      <td id=\"T_dbb6d_row8_col2\" class=\"data row8 col2\" >30102</td>\n",
       "      <td id=\"T_dbb6d_row8_col3\" class=\"data row8 col3\" >52</td>\n",
       "      <td id=\"T_dbb6d_row8_col4\" class=\"data row8 col4\" >100.00</td>\n",
       "    </tr>\n",
       "    <tr>\n",
       "      <th id=\"T_dbb6d_level0_row9\" class=\"row_heading level0 row9\" >11</th>\n",
       "      <td id=\"T_dbb6d_row9_col0\" class=\"data row9 col0\" >viagem</td>\n",
       "      <td id=\"T_dbb6d_row9_col1\" class=\"data row9 col1\" >42</td>\n",
       "      <td id=\"T_dbb6d_row9_col2\" class=\"data row9 col2\" >20107</td>\n",
       "      <td id=\"T_dbb6d_row9_col3\" class=\"data row9 col3\" >42</td>\n",
       "      <td id=\"T_dbb6d_row9_col4\" class=\"data row9 col4\" >100.00</td>\n",
       "    </tr>\n",
       "  </tbody>\n",
       "</table>\n"
      ],
      "text/plain": [
       "<pandas.io.formats.style.Styler at 0x20d8b9c7380>"
      ]
     },
     "metadata": {},
     "output_type": "display_data"
    }
   ],
   "source": [
    "# Analisando a distribuição das keywords, verificando se pertencem a mais de uma conta\n",
    "from tqdm.auto import tqdm # barra de progresso\n",
    "print(\"Iniciando análise de palavras-chave...\")\n",
    "df_analysis = df_filtered.copy()\n",
    "# Extraindo todo o vocabulário\n",
    "vectorizer_vocab = CountVectorizer(min_df=2)\n",
    "vectorizer_vocab.fit(df_analysis[\"DESCRIÇÃO_LIMPA\"])\n",
    "vocab = vectorizer_vocab.get_feature_names_out()\n",
    "print(f\"Vocabulário extraído com {len(vocab)} palavras.\")\n",
    "\n",
    "# Iterar sobre cada palavra e calcular as estatísticas\n",
    "analysis_list = []\n",
    "for word in tqdm(vocab, desc=\"Analisando palavras\"):\n",
    "    # Filtrar linhas que contêm a palavra\n",
    "    df_word = df_analysis[df_analysis[\"DESCRIÇÃO_LIMPA\"].str.contains(rf'\\b{word}\\b', regex=True)]\n",
    "    if not df_word.empty:\n",
    "        total_freq = len(df_word)\n",
    "        dist = df_word['CONTA'].value_counts()\n",
    "        dominant_acc = dist.index[0]\n",
    "        dominant_freq = dist.iloc[0]\n",
    "        exclusivity = (dominant_freq / total_freq) * 100\n",
    "        \n",
    "        # Guarda os resultados\n",
    "        analysis_list.append({\n",
    "            \"Keyword\": word,\n",
    "            \"Frequência Total\": total_freq,\n",
    "            \"Conta dominante\": dominant_acc,\n",
    "            \"Frequência na conta dominante\": dominant_freq,\n",
    "            \"Exclusividade (%)\": exclusivity\n",
    "        })\n",
    "\n",
    "# Dicionário para formatar as colunas\n",
    "format_dict = {\n",
    "    \"Exclusividade (%)\": \"{:.2f}\",\n",
    "    \"Frequência Total\": \"{:,.0f}\",\n",
    "    \"Frequência na conta dominante\": \"{:,.0f}\"\n",
    "}\n",
    "# Criando DataFrame com os resultados\n",
    "df_keyword_analysis = pd.DataFrame(analysis_list)\n",
    "# Ordenando por exclusividade\n",
    "df_keyword_analysis_sorted = df_keyword_analysis.sort_values(by=\"Exclusividade (%)\", ascending=True)\n",
    "\n",
    "# Palavras mais exclusivas\n",
    "df_top_exclusive = df_keyword_analysis_sorted\n",
    "# Menos exclusivas\n",
    "df_bottom_exclusive = df_keyword_analysis_sorted[df_keyword_analysis_sorted[\"Frequência Total\"] > 10].sort_values(by=\"Exclusividade (%)\", ascending=False)\n",
    "# Mostrando os resultados\n",
    "display(df_top_exclusive.head(10).style.format(format_dict).set_caption(\"<b>Palavras com maior exclusividade</b>\"))\n",
    "display(df_bottom_exclusive.head(10).style.format(format_dict).set_caption(\"<b>Palavras com menor exclusividade</b>\"))"
   ]
  },
  {
   "cell_type": "markdown",
   "id": "b0358c91",
   "metadata": {},
   "source": [
    "## Probabilidade de previsão\n",
    "Aqui será mostrado a probabilidade de previsão pela ordem das classes do modelo."
   ]
  },
  {
   "cell_type": "code",
   "execution_count": 146,
   "id": "9",
   "metadata": {},
   "outputs": [
    {
     "data": {
      "text/markdown": [
       "Calculando probabilidades de previsão"
      ],
      "text/plain": [
       "<IPython.core.display.Markdown object>"
      ]
     },
     "metadata": {},
     "output_type": "display_data"
    },
    {
     "data": {
      "text/markdown": [
       "**Ordem das classes conforme o modelo: [20101 20102 20103 20104 20105 20106 20107 30101 30102 30103]**"
      ],
      "text/plain": [
       "<IPython.core.display.Markdown object>"
      ]
     },
     "metadata": {},
     "output_type": "display_data"
    },
    {
     "data": {
      "text/html": [
       "<style type=\"text/css\">\n",
       "</style>\n",
       "<table id=\"T_e2c0a\">\n",
       "  <caption><b>Exemplo de Lançamentos com Probabilidade de Classificação</b></caption>\n",
       "  <thead>\n",
       "    <tr>\n",
       "      <th class=\"blank level0\" >&nbsp;</th>\n",
       "      <th id=\"T_e2c0a_level0_col0\" class=\"col_heading level0 col0\" >CONTA</th>\n",
       "      <th id=\"T_e2c0a_level0_col1\" class=\"col_heading level0 col1\" >DESCRIÇÃO DO LANÇAMENTO</th>\n",
       "      <th id=\"T_e2c0a_level0_col2\" class=\"col_heading level0 col2\" >CLASSIFICAÇÃO_PROB</th>\n",
       "    </tr>\n",
       "  </thead>\n",
       "  <tbody>\n",
       "    <tr>\n",
       "      <th id=\"T_e2c0a_level0_row0\" class=\"row_heading level0 row0\" >0</th>\n",
       "      <td id=\"T_e2c0a_row0_col0\" class=\"data row0 col0\" >20102</td>\n",
       "      <td id=\"T_e2c0a_row0_col1\" class=\"data row0 col1\" >ALUGUEL - Lançamento teste 5506</td>\n",
       "      <td id=\"T_e2c0a_row0_col2\" class=\"data row0 col2\" >79.18%</td>\n",
       "    </tr>\n",
       "    <tr>\n",
       "      <th id=\"T_e2c0a_level0_row1\" class=\"row_heading level0 row1\" >1</th>\n",
       "      <td id=\"T_e2c0a_row1_col0\" class=\"data row1 col0\" >20104</td>\n",
       "      <td id=\"T_e2c0a_row1_col1\" class=\"data row1 col1\" >IMPOSTO - Lançamento teste 2679</td>\n",
       "      <td id=\"T_e2c0a_row1_col2\" class=\"data row1 col2\" >69.26%</td>\n",
       "    </tr>\n",
       "    <tr>\n",
       "      <th id=\"T_e2c0a_level0_row2\" class=\"row_heading level0 row2\" >2</th>\n",
       "      <td id=\"T_e2c0a_row2_col0\" class=\"data row2 col0\" >30102</td>\n",
       "      <td id=\"T_e2c0a_row2_col1\" class=\"data row2 col1\" >VENDA - Lançamento teste 7912</td>\n",
       "      <td id=\"T_e2c0a_row2_col2\" class=\"data row2 col2\" >74.14%</td>\n",
       "    </tr>\n",
       "    <tr>\n",
       "      <th id=\"T_e2c0a_level0_row3\" class=\"row_heading level0 row3\" >3</th>\n",
       "      <td id=\"T_e2c0a_row3_col0\" class=\"data row3 col0\" >20101</td>\n",
       "      <td id=\"T_e2c0a_row3_col1\" class=\"data row3 col1\" >SALARIO - Lançamento teste 4582</td>\n",
       "      <td id=\"T_e2c0a_row3_col2\" class=\"data row3 col2\" >68.40%</td>\n",
       "    </tr>\n",
       "    <tr>\n",
       "      <th id=\"T_e2c0a_level0_row4\" class=\"row_heading level0 row4\" >4</th>\n",
       "      <td id=\"T_e2c0a_row4_col0\" class=\"data row4 col0\" >20104</td>\n",
       "      <td id=\"T_e2c0a_row4_col1\" class=\"data row4 col1\" >IMPOSTO - Lançamento teste 1434</td>\n",
       "      <td id=\"T_e2c0a_row4_col2\" class=\"data row4 col2\" >69.26%</td>\n",
       "    </tr>\n",
       "    <tr>\n",
       "      <th id=\"T_e2c0a_level0_row5\" class=\"row_heading level0 row5\" >5</th>\n",
       "      <td id=\"T_e2c0a_row5_col0\" class=\"data row5 col0\" >30102</td>\n",
       "      <td id=\"T_e2c0a_row5_col1\" class=\"data row5 col1\" >VENDA - Lançamento teste 9928</td>\n",
       "      <td id=\"T_e2c0a_row5_col2\" class=\"data row5 col2\" >74.14%</td>\n",
       "    </tr>\n",
       "    <tr>\n",
       "      <th id=\"T_e2c0a_level0_row6\" class=\"row_heading level0 row6\" >6</th>\n",
       "      <td id=\"T_e2c0a_row6_col0\" class=\"data row6 col0\" >20107</td>\n",
       "      <td id=\"T_e2c0a_row6_col1\" class=\"data row6 col1\" >VIAGEM - Lançamento teste 5557</td>\n",
       "      <td id=\"T_e2c0a_row6_col2\" class=\"data row6 col2\" >70.08%</td>\n",
       "    </tr>\n",
       "    <tr>\n",
       "      <th id=\"T_e2c0a_level0_row7\" class=\"row_heading level0 row7\" >7</th>\n",
       "      <td id=\"T_e2c0a_row7_col0\" class=\"data row7 col0\" >20101</td>\n",
       "      <td id=\"T_e2c0a_row7_col1\" class=\"data row7 col1\" >SALARIO - Lançamento teste 3615</td>\n",
       "      <td id=\"T_e2c0a_row7_col2\" class=\"data row7 col2\" >68.40%</td>\n",
       "    </tr>\n",
       "    <tr>\n",
       "      <th id=\"T_e2c0a_level0_row8\" class=\"row_heading level0 row8\" >8</th>\n",
       "      <td id=\"T_e2c0a_row8_col0\" class=\"data row8 col0\" >20107</td>\n",
       "      <td id=\"T_e2c0a_row8_col1\" class=\"data row8 col1\" >VIAGEM - Lançamento teste 3547</td>\n",
       "      <td id=\"T_e2c0a_row8_col2\" class=\"data row8 col2\" >70.08%</td>\n",
       "    </tr>\n",
       "    <tr>\n",
       "      <th id=\"T_e2c0a_level0_row9\" class=\"row_heading level0 row9\" >9</th>\n",
       "      <td id=\"T_e2c0a_row9_col0\" class=\"data row9 col0\" >20104</td>\n",
       "      <td id=\"T_e2c0a_row9_col1\" class=\"data row9 col1\" >IMPOSTO - Lançamento teste 6514</td>\n",
       "      <td id=\"T_e2c0a_row9_col2\" class=\"data row9 col2\" >69.26%</td>\n",
       "    </tr>\n",
       "    <tr>\n",
       "      <th id=\"T_e2c0a_level0_row10\" class=\"row_heading level0 row10\" >10</th>\n",
       "      <td id=\"T_e2c0a_row10_col0\" class=\"data row10 col0\" >20102</td>\n",
       "      <td id=\"T_e2c0a_row10_col1\" class=\"data row10 col1\" >ALUGUEL - Lançamento teste 2584</td>\n",
       "      <td id=\"T_e2c0a_row10_col2\" class=\"data row10 col2\" >79.18%</td>\n",
       "    </tr>\n",
       "    <tr>\n",
       "      <th id=\"T_e2c0a_level0_row11\" class=\"row_heading level0 row11\" >11</th>\n",
       "      <td id=\"T_e2c0a_row11_col0\" class=\"data row11 col0\" >20106</td>\n",
       "      <td id=\"T_e2c0a_row11_col1\" class=\"data row11 col1\" >SOFTWARE - Lançamento teste 5333</td>\n",
       "      <td id=\"T_e2c0a_row11_col2\" class=\"data row11 col2\" >71.57%</td>\n",
       "    </tr>\n",
       "    <tr>\n",
       "      <th id=\"T_e2c0a_level0_row12\" class=\"row_heading level0 row12\" >12</th>\n",
       "      <td id=\"T_e2c0a_row12_col0\" class=\"data row12 col0\" >20101</td>\n",
       "      <td id=\"T_e2c0a_row12_col1\" class=\"data row12 col1\" >SALARIO - Lançamento teste 9785</td>\n",
       "      <td id=\"T_e2c0a_row12_col2\" class=\"data row12 col2\" >68.40%</td>\n",
       "    </tr>\n",
       "    <tr>\n",
       "      <th id=\"T_e2c0a_level0_row13\" class=\"row_heading level0 row13\" >13</th>\n",
       "      <td id=\"T_e2c0a_row13_col0\" class=\"data row13 col0\" >20102</td>\n",
       "      <td id=\"T_e2c0a_row13_col1\" class=\"data row13 col1\" >ALUGUEL - Lançamento teste 7201</td>\n",
       "      <td id=\"T_e2c0a_row13_col2\" class=\"data row13 col2\" >79.18%</td>\n",
       "    </tr>\n",
       "    <tr>\n",
       "      <th id=\"T_e2c0a_level0_row14\" class=\"row_heading level0 row14\" >14</th>\n",
       "      <td id=\"T_e2c0a_row14_col0\" class=\"data row14 col0\" >20102</td>\n",
       "      <td id=\"T_e2c0a_row14_col1\" class=\"data row14 col1\" >ALUGUEL - Lançamento teste 6925</td>\n",
       "      <td id=\"T_e2c0a_row14_col2\" class=\"data row14 col2\" >79.18%</td>\n",
       "    </tr>\n",
       "    <tr>\n",
       "      <th id=\"T_e2c0a_level0_row15\" class=\"row_heading level0 row15\" >15</th>\n",
       "      <td id=\"T_e2c0a_row15_col0\" class=\"data row15 col0\" >30103</td>\n",
       "      <td id=\"T_e2c0a_row15_col1\" class=\"data row15 col1\" >RENDIMENTO - Lançamento teste 2139</td>\n",
       "      <td id=\"T_e2c0a_row15_col2\" class=\"data row15 col2\" >74.14%</td>\n",
       "    </tr>\n",
       "    <tr>\n",
       "      <th id=\"T_e2c0a_level0_row16\" class=\"row_heading level0 row16\" >16</th>\n",
       "      <td id=\"T_e2c0a_row16_col0\" class=\"data row16 col0\" >20101</td>\n",
       "      <td id=\"T_e2c0a_row16_col1\" class=\"data row16 col1\" >SALARIO - Lançamento teste 5741</td>\n",
       "      <td id=\"T_e2c0a_row16_col2\" class=\"data row16 col2\" >68.40%</td>\n",
       "    </tr>\n",
       "    <tr>\n",
       "      <th id=\"T_e2c0a_level0_row17\" class=\"row_heading level0 row17\" >17</th>\n",
       "      <td id=\"T_e2c0a_row17_col0\" class=\"data row17 col0\" >20102</td>\n",
       "      <td id=\"T_e2c0a_row17_col1\" class=\"data row17 col1\" >ALUGUEL - Lançamento teste 2654</td>\n",
       "      <td id=\"T_e2c0a_row17_col2\" class=\"data row17 col2\" >79.18%</td>\n",
       "    </tr>\n",
       "    <tr>\n",
       "      <th id=\"T_e2c0a_level0_row18\" class=\"row_heading level0 row18\" >18</th>\n",
       "      <td id=\"T_e2c0a_row18_col0\" class=\"data row18 col0\" >20107</td>\n",
       "      <td id=\"T_e2c0a_row18_col1\" class=\"data row18 col1\" >VIAGEM - Lançamento teste 6977</td>\n",
       "      <td id=\"T_e2c0a_row18_col2\" class=\"data row18 col2\" >70.08%</td>\n",
       "    </tr>\n",
       "    <tr>\n",
       "      <th id=\"T_e2c0a_level0_row19\" class=\"row_heading level0 row19\" >19</th>\n",
       "      <td id=\"T_e2c0a_row19_col0\" class=\"data row19 col0\" >20103</td>\n",
       "      <td id=\"T_e2c0a_row19_col1\" class=\"data row19 col1\" >ANUNCIO - Lançamento teste 4432</td>\n",
       "      <td id=\"T_e2c0a_row19_col2\" class=\"data row19 col2\" >72.92%</td>\n",
       "    </tr>\n",
       "  </tbody>\n",
       "</table>\n"
      ],
      "text/plain": [
       "<pandas.io.formats.style.Styler at 0x20d8a2f4560>"
      ]
     },
     "metadata": {},
     "output_type": "display_data"
    }
   ],
   "source": [
    "# Probabilidade de previsão e coluna de classificação\n",
    "display(Markdown(\"Calculando probabilidades de previsão\"))\n",
    "# Obter a matriz de probabilidades\n",
    "arr_proba = text_clf_pipeline.predict_proba(X)\n",
    "# Ordem da classe conforme o modelo\n",
    "model_classes = text_clf_pipeline.classes_\n",
    "display(Markdown(f\"**Ordem das classes conforme o modelo: {model_classes}**\"))\n",
    "# Criação do map para encontrar o índice da classe\n",
    "class_index_map = {cls: i for i, cls in enumerate(model_classes)}\n",
    "# Para cada linha do dataset, descobrir qual o indice da classe\n",
    "# Pegando dados de y, que são as contas reais de cada lançamento\n",
    "index_real_cls = y.map(class_index_map).values\n",
    "# Calculando a probabilidade da classe real para cada linha\n",
    "real_proba = arr_proba[np.arange(len(y)), index_real_cls]\n",
    "# Criando coluna no DataFrame\n",
    "df_filtered.loc[:, 'CLASSIFICAÇÃO_PROB'] = real_proba * 100\n",
    "\n",
    "# Mostrando o resultado final\n",
    "df_display = df_filtered.copy()\n",
    "df_display['CLASSIFICAÇÃO_PROB'] = df_display['CLASSIFICAÇÃO_PROB'].map('{:.2f}%'.format)\n",
    "\n",
    "# Exibir colunas mais importantes\n",
    "columns_to_display = ['CONTA', 'DESCRIÇÃO DO LANÇAMENTO', 'CLASSIFICAÇÃO_PROB']\n",
    "display(df_display[columns_to_display].head(20).style.set_caption(\"<b>Exemplo de Lançamentos com Probabilidade de Classificação</b>\"))"
   ]
  },
  {
   "cell_type": "markdown",
   "id": "5298be00",
   "metadata": {},
   "source": [
    "## Testando inserção de dados\n",
    "Testada uma nova entrada e retornando a probabilidade de previsão. Nota-se que a probabilidade de previsão vai diminuindo conforme o modelo aprende mais das contas."
   ]
  },
  {
   "cell_type": "code",
   "execution_count": 147,
   "id": "10",
   "metadata": {},
   "outputs": [
    {
     "data": {
      "text/markdown": [
       "Resultados das previsões para novos lançamentos:"
      ],
      "text/plain": [
       "<IPython.core.display.Markdown object>"
      ]
     },
     "metadata": {},
     "output_type": "display_data"
    },
    {
     "data": {
      "text/html": [
       "<div>\n",
       "<style scoped>\n",
       "    .dataframe tbody tr th:only-of-type {\n",
       "        vertical-align: middle;\n",
       "    }\n",
       "\n",
       "    .dataframe tbody tr th {\n",
       "        vertical-align: top;\n",
       "    }\n",
       "\n",
       "    .dataframe thead th {\n",
       "        text-align: right;\n",
       "    }\n",
       "</style>\n",
       "<table border=\"1\" class=\"dataframe\">\n",
       "  <thead>\n",
       "    <tr style=\"text-align: right;\">\n",
       "      <th></th>\n",
       "      <th>Probabilidade</th>\n",
       "    </tr>\n",
       "  </thead>\n",
       "  <tbody>\n",
       "    <tr>\n",
       "      <th>20102</th>\n",
       "      <td>83.41%</td>\n",
       "    </tr>\n",
       "    <tr>\n",
       "      <th>20105</th>\n",
       "      <td>1.90%</td>\n",
       "    </tr>\n",
       "    <tr>\n",
       "      <th>30101</th>\n",
       "      <td>1.86%</td>\n",
       "    </tr>\n",
       "    <tr>\n",
       "      <th>30102</th>\n",
       "      <td>1.86%</td>\n",
       "    </tr>\n",
       "    <tr>\n",
       "      <th>30103</th>\n",
       "      <td>1.86%</td>\n",
       "    </tr>\n",
       "    <tr>\n",
       "      <th>20103</th>\n",
       "      <td>1.85%</td>\n",
       "    </tr>\n",
       "    <tr>\n",
       "      <th>20106</th>\n",
       "      <td>1.83%</td>\n",
       "    </tr>\n",
       "    <tr>\n",
       "      <th>20107</th>\n",
       "      <td>1.82%</td>\n",
       "    </tr>\n",
       "    <tr>\n",
       "      <th>20104</th>\n",
       "      <td>1.80%</td>\n",
       "    </tr>\n",
       "    <tr>\n",
       "      <th>20101</th>\n",
       "      <td>1.79%</td>\n",
       "    </tr>\n",
       "  </tbody>\n",
       "</table>\n",
       "</div>"
      ],
      "text/plain": [
       "      Probabilidade\n",
       "20102        83.41%\n",
       "20105         1.90%\n",
       "30101         1.86%\n",
       "30102         1.86%\n",
       "30103         1.86%\n",
       "20103         1.85%\n",
       "20106         1.83%\n",
       "20107         1.82%\n",
       "20104         1.80%\n",
       "20101         1.79%"
      ]
     },
     "metadata": {},
     "output_type": "display_data"
    },
    {
     "data": {
      "text/markdown": [
       "Analisando a melhor previsão do modelo..."
      ],
      "text/plain": [
       "<IPython.core.display.Markdown object>"
      ]
     },
     "metadata": {},
     "output_type": "display_data"
    },
    {
     "data": {
      "text/markdown": [
       "Melhor previsão: Conta 20102 com probabilidade de 83.41%"
      ],
      "text/plain": [
       "<IPython.core.display.Markdown object>"
      ]
     },
     "metadata": {},
     "output_type": "display_data"
    }
   ],
   "source": [
    "# Testando com novo lançamento\n",
    "new_entries = [\"pagto aluguel\"]\n",
    "# Limpando os novos lançamentos\n",
    "new_entries_clean = clean_text(new_entries)\n",
    "# Fazendo previsões\n",
    "proba = text_clf_pipeline.predict_proba([new_entries_clean])\n",
    "# Obtendo classes previstas\n",
    "classes = text_clf_pipeline.classes_\n",
    "# DataFrame mostrando resultados. O .T deixa as contas como linhas\n",
    "df_results = pd.DataFrame(proba, columns=classes).T\n",
    "df_results.rename(columns={0: 'Probabilidade'}, inplace=True)\n",
    "# Convertendo para porcentagem\n",
    "df_results['Probabilidade'] = df_results['Probabilidade'] * 100\n",
    "# Ordenando da maior para a menor probabilidade\n",
    "df_results_sorted = df_results.sort_values(by='Probabilidade', ascending=False)\n",
    "df_results_sorted['Probabilidade'] = df_results_sorted['Probabilidade'].map('{:.2f}%'.format) \n",
    "display(Markdown(\"Resultados das previsões para novos lançamentos:\"))\n",
    "display(df_results_sorted)\n",
    "\n",
    "# Mostrando a melhor e pior previsão do modelo\n",
    "display(Markdown(\"Analisando a melhor previsão do modelo...\"))\n",
    "# Encontrando a melhor previsão\n",
    "best_acc = df_results_sorted.iloc[0]\n",
    "best_proba = df_results_sorted.iloc[0,0]\n",
    "display(Markdown(f\"Melhor previsão: Conta {best_acc.name} com probabilidade de {best_proba}\"))"
   ]
  },
  {
   "cell_type": "code",
   "execution_count": 148,
   "id": "0a691731",
   "metadata": {},
   "outputs": [
    {
     "name": "stdout",
     "output_type": "stream",
     "text": [
      "Modelo salvo em modelo_contabil_pipeline.joblib\n"
     ]
    }
   ],
   "source": [
    "# Salvando modelo treinado\n",
    "import joblib\n",
    "model_name = 'modelo_contabil_pipeline.joblib'\n",
    "joblib.dump(text_clf_pipeline, model_name)\n",
    "print(f\"Modelo salvo em {model_name}\")"
   ]
  },
  {
   "cell_type": "markdown",
   "id": "92660407",
   "metadata": {},
   "source": [
    "## Testando o modelo já salvo\n",
    "Repetindo os testes anteriores, mas agora usando o modelo salvo."
   ]
  },
  {
   "cell_type": "code",
   "execution_count": 149,
   "id": "835bff41",
   "metadata": {},
   "outputs": [
    {
     "data": {
      "text/markdown": [
       "Testando modelo salvo..."
      ],
      "text/plain": [
       "<IPython.core.display.Markdown object>"
      ]
     },
     "metadata": {},
     "output_type": "display_data"
    },
    {
     "data": {
      "text/markdown": [
       "**Bibliotecas importadas com sucesso!**"
      ],
      "text/plain": [
       "<IPython.core.display.Markdown object>"
      ]
     },
     "metadata": {},
     "output_type": "display_data"
    },
    {
     "data": {
      "text/markdown": [
       "O lançamento 'TESTE. pagto aluguel' foi classificado na conta '20102' com probabilidade de 81.22%"
      ],
      "text/plain": [
       "<IPython.core.display.Markdown object>"
      ]
     },
     "metadata": {},
     "output_type": "display_data"
    }
   ],
   "source": [
    "# Testando modelo salvo\n",
    "load_model = joblib.load(model_name)\n",
    "test_entry = [\"TESTE. pagto aluguel\"]\n",
    "# Usando modelo carregado para fazer previsão\n",
    "predict = load_model.predict(test_entry)\n",
    "proba = load_model.predict_proba(test_entry)\n",
    "# Pega a probabilidade da classe prevista\n",
    "max_prob = proba.max()\n",
    "\n",
    "display(Markdown(\"Testando modelo salvo...\"))\n",
    "display(Markdown(\"**Bibliotecas importadas com sucesso!**\"))\n",
    "display(Markdown(f\"O lançamento '{test_entry[0]}' foi classificado na conta '{predict[0]}' com probabilidade de {max_prob*100:.2f}%\"))\n"
   ]
  },
  {
   "cell_type": "markdown",
   "id": "44662a58",
   "metadata": {},
   "source": [
    "# Testando o modelo para preencher as contas de lançamentos sem classificação"
   ]
  },
  {
   "cell_type": "code",
   "execution_count": 150,
   "id": "6abc4a9b",
   "metadata": {},
   "outputs": [
    {
     "data": {
      "text/markdown": [
       "### Dados carregados do arquivo: **lanc_cont_ml_blank.xlsx**"
      ],
      "text/plain": [
       "<IPython.core.display.Markdown object>"
      ]
     },
     "metadata": {},
     "output_type": "display_data"
    },
    {
     "data": {
      "text/markdown": [
       "- Total de lançamentos carregados: **514**"
      ],
      "text/plain": [
       "<IPython.core.display.Markdown object>"
      ]
     },
     "metadata": {},
     "output_type": "display_data"
    },
    {
     "data": {
      "text/markdown": [
       "- Lançamentos para TREINO: **500**"
      ],
      "text/plain": [
       "<IPython.core.display.Markdown object>"
      ]
     },
     "metadata": {},
     "output_type": "display_data"
    },
    {
     "data": {
      "text/markdown": [
       "- Lançamentos para CLASSIFICAÇÃO: **14**"
      ],
      "text/plain": [
       "<IPython.core.display.Markdown object>"
      ]
     },
     "metadata": {},
     "output_type": "display_data"
    },
    {
     "data": {
      "text/markdown": [
       ">  A soma dos lançamentos para treino e classificação confere com o total carregado."
      ],
      "text/plain": [
       "<IPython.core.display.Markdown object>"
      ]
     },
     "metadata": {},
     "output_type": "display_data"
    }
   ],
   "source": [
    "# Testando modelo para preencher as contas de lançamentos sem classificação\n",
    "blank_sheet = 'lanc_cont_ml_blank.xlsx'\n",
    "df = pd.read_excel(blank_sheet)\n",
    "df.head(5)\n",
    "\n",
    "# Definindo as colunas e separando os dataframes\n",
    "col_his = 'DESCRIÇÃO DO LANÇAMENTO'\n",
    "col_acc = 'CONTA'  # Coluna onde a conta será preenchida\n",
    "\n",
    "# Condição para separar treino e classificação\n",
    "condition_for_class = df[col_acc].isna() | (df[col_acc].astype(str).str.strip() == '')\n",
    "# DataFrame para classificar\n",
    "df_for_class = df[condition_for_class].copy()\n",
    "# DF para treino usando o inverso da condição (~)\n",
    "df_training = df[~condition_for_class].copy() \n",
    "# Verificando os resultados obtidos\n",
    "display(Markdown(f\"### Dados carregados do arquivo: **{blank_sheet}**\"))\n",
    "display(Markdown(f\"- Total de lançamentos carregados: **{len(df)}**\"))\n",
    "display(Markdown(f\"- Lançamentos para TREINO: **{len(df_training)}**\"))\n",
    "display(Markdown(f\"- Lançamentos para CLASSIFICAÇÃO: **{len(df_for_class)}**\"))\n",
    "\n",
    "if len(df) == (len(df_training) + len(df_for_class)):\n",
    "    display(\n",
    "        Markdown(\n",
    "            \">  A soma dos lançamentos para treino e classificação confere com o total carregado.\"\n",
    "        )\n",
    "    )\n",
    "else:\n",
    "    display(\n",
    "        Markdown(\n",
    "            \">  Atenção: A soma dos lançamentos para treino e classificação NÃO confere com o total carregado.\"\n",
    "        )\n",
    "    )"
   ]
  },
  {
   "cell_type": "code",
   "execution_count": 151,
   "id": "7ce2e5a5",
   "metadata": {},
   "outputs": [
    {
     "data": {
      "text/markdown": [
       "Dados de treino divididos: 350 para treino e 150 para teste"
      ],
      "text/plain": [
       "<IPython.core.display.Markdown object>"
      ]
     },
     "metadata": {},
     "output_type": "display_data"
    },
    {
     "data": {
      "text/markdown": [
       "Modelo treinado com sucesso!"
      ],
      "text/plain": [
       "<IPython.core.display.Markdown object>"
      ]
     },
     "metadata": {},
     "output_type": "display_data"
    }
   ],
   "source": [
    "# treinando modelo com regressão\n",
    "# filtrando df\n",
    "acc_count = df_training[col_acc].value_counts()\n",
    "cutoff = 7\n",
    "valid_acc = acc_count[acc_count >= cutoff].index\n",
    "df_filtered = df_training[df_training[col_acc].isin(valid_acc)].copy()\n",
    "\n",
    "df_filtered[col_acc] = df_filtered[col_acc].astype(int) \n",
    "df_filtered[\"DESCRIÇÃO_LIMPA\"] = df_filtered[col_his].apply(clean_text)\n",
    "X = df_filtered[\"DESCRIÇÃO_LIMPA\"]\n",
    "y = df_filtered[col_acc]\n",
    "\n",
    "X_train, X_test, y_train, y_test = train_test_split(X, y, test_size=0.3, random_state=42, stratify=y)\n",
    "display(Markdown(f\"Dados de treino divididos: {len(X_train)} para treino e {len(X_test)} para teste\"))\n",
    "\n",
    "from sklearn.linear_model import LogisticRegression\n",
    "# Definir e criar pipeline\n",
    "text_clf_pipeline = Pipeline([\n",
    "    ('tfidf', TfidfVectorizer(ngram_range=(1,2))),\n",
    "    ('clf', LogisticRegression(random_state=42)),\n",
    "    ])\n",
    "text_clf_pipeline.fit(X_train, y_train)\n",
    "display(Markdown(\"Modelo treinado com sucesso!\"))"
   ]
  },
  {
   "cell_type": "markdown",
   "id": "9394ebb7",
   "metadata": {},
   "source": [
    "# Relatório de classificação\n",
    "O relatório nos mostrará o resultado da classificação dividido em 4 colunas:\n",
    "\n",
    "- **Precision**: de toda a classificação, qual a porcentagem de acertos? (Mede a qualidade da previsão)\n",
    "- **Recall**: de todos os exemplos que realmente eram de *X*, quantos o modelo conseguiu encontrar? (Mede a quantidade de acertos)\n",
    "- **F1-Score**: uma média entre *Precision* e *Recall*. Ótima métrica para verificar o balanceamento do *dataset*\n",
    "- **Accuracy**: Acurácia é a porcentagem de acertos em relação ao total de previsões\n",
    "(Acurácia = Número de acertos / Número total de amostras)\n",
    "\n",
    "## Matriz de confusão\n",
    "Para ter uma visão mais detalhada de onde tivemos acertos e erros, usaremos a Matriz de Confusão\n",
    "\n",
    "- Linhas representam a conta real\n",
    "- Colunas representam a conta prevista pelo modelo\n",
    "- Os números na diagonal principal são os acertos\n",
    "- Qualquer número fora da diagonal representa um erro de classificação"
   ]
  },
  {
   "cell_type": "code",
   "execution_count": 152,
   "id": "29828c75",
   "metadata": {},
   "outputs": [
    {
     "data": {
      "text/markdown": [
       "## **Relatório de Classificação do Modelo**"
      ],
      "text/plain": [
       "<IPython.core.display.Markdown object>"
      ]
     },
     "metadata": {},
     "output_type": "display_data"
    },
    {
     "data": {
      "text/markdown": [
       "**Acurácia do Modelo:** 100.00%"
      ],
      "text/plain": [
       "<IPython.core.display.Markdown object>"
      ]
     },
     "metadata": {},
     "output_type": "display_data"
    },
    {
     "data": {
      "text/html": [
       "<style type=\"text/css\">\n",
       "#T_38969_row0_col2, #T_38969_row1_col2, #T_38969_row2_col2, #T_38969_row3_col2, #T_38969_row4_col2, #T_38969_row5_col2, #T_38969_row6_col2, #T_38969_row7_col2, #T_38969_row8_col2, #T_38969_row9_col2, #T_38969_row10_col2, #T_38969_row11_col2 {\n",
       "  background-color: #f7fbff;\n",
       "  color: #000000;\n",
       "}\n",
       "</style>\n",
       "<table id=\"T_38969\">\n",
       "  <caption>Relatório de Classificação por Conta Contábil</caption>\n",
       "  <thead>\n",
       "    <tr>\n",
       "      <th class=\"blank level0\" >&nbsp;</th>\n",
       "      <th id=\"T_38969_level0_col0\" class=\"col_heading level0 col0\" >Precisão</th>\n",
       "      <th id=\"T_38969_level0_col1\" class=\"col_heading level0 col1\" >Recall</th>\n",
       "      <th id=\"T_38969_level0_col2\" class=\"col_heading level0 col2\" >F1-Score</th>\n",
       "      <th id=\"T_38969_level0_col3\" class=\"col_heading level0 col3\" >Nº de amostras (Suporte)</th>\n",
       "    </tr>\n",
       "  </thead>\n",
       "  <tbody>\n",
       "    <tr>\n",
       "      <th id=\"T_38969_level0_row0\" class=\"row_heading level0 row0\" >20101</th>\n",
       "      <td id=\"T_38969_row0_col0\" class=\"data row0 col0\" >100.00%</td>\n",
       "      <td id=\"T_38969_row0_col1\" class=\"data row0 col1\" >100.00%</td>\n",
       "      <td id=\"T_38969_row0_col2\" class=\"data row0 col2\" >100.00%</td>\n",
       "      <td id=\"T_38969_row0_col3\" class=\"data row0 col3\" >12</td>\n",
       "    </tr>\n",
       "    <tr>\n",
       "      <th id=\"T_38969_level0_row1\" class=\"row_heading level0 row1\" >20102</th>\n",
       "      <td id=\"T_38969_row1_col0\" class=\"data row1 col0\" >100.00%</td>\n",
       "      <td id=\"T_38969_row1_col1\" class=\"data row1 col1\" >100.00%</td>\n",
       "      <td id=\"T_38969_row1_col2\" class=\"data row1 col2\" >100.00%</td>\n",
       "      <td id=\"T_38969_row1_col3\" class=\"data row1 col3\" >20</td>\n",
       "    </tr>\n",
       "    <tr>\n",
       "      <th id=\"T_38969_level0_row2\" class=\"row_heading level0 row2\" >20103</th>\n",
       "      <td id=\"T_38969_row2_col0\" class=\"data row2 col0\" >100.00%</td>\n",
       "      <td id=\"T_38969_row2_col1\" class=\"data row2 col1\" >100.00%</td>\n",
       "      <td id=\"T_38969_row2_col2\" class=\"data row2 col2\" >100.00%</td>\n",
       "      <td id=\"T_38969_row2_col3\" class=\"data row2 col3\" >15</td>\n",
       "    </tr>\n",
       "    <tr>\n",
       "      <th id=\"T_38969_level0_row3\" class=\"row_heading level0 row3\" >20104</th>\n",
       "      <td id=\"T_38969_row3_col0\" class=\"data row3 col0\" >100.00%</td>\n",
       "      <td id=\"T_38969_row3_col1\" class=\"data row3 col1\" >100.00%</td>\n",
       "      <td id=\"T_38969_row3_col2\" class=\"data row3 col2\" >100.00%</td>\n",
       "      <td id=\"T_38969_row3_col3\" class=\"data row3 col3\" >13</td>\n",
       "    </tr>\n",
       "    <tr>\n",
       "      <th id=\"T_38969_level0_row4\" class=\"row_heading level0 row4\" >20105</th>\n",
       "      <td id=\"T_38969_row4_col0\" class=\"data row4 col0\" >100.00%</td>\n",
       "      <td id=\"T_38969_row4_col1\" class=\"data row4 col1\" >100.00%</td>\n",
       "      <td id=\"T_38969_row4_col2\" class=\"data row4 col2\" >100.00%</td>\n",
       "      <td id=\"T_38969_row4_col3\" class=\"data row4 col3\" >18</td>\n",
       "    </tr>\n",
       "    <tr>\n",
       "      <th id=\"T_38969_level0_row5\" class=\"row_heading level0 row5\" >20106</th>\n",
       "      <td id=\"T_38969_row5_col0\" class=\"data row5 col0\" >100.00%</td>\n",
       "      <td id=\"T_38969_row5_col1\" class=\"data row5 col1\" >100.00%</td>\n",
       "      <td id=\"T_38969_row5_col2\" class=\"data row5 col2\" >100.00%</td>\n",
       "      <td id=\"T_38969_row5_col3\" class=\"data row5 col3\" >13</td>\n",
       "    </tr>\n",
       "    <tr>\n",
       "      <th id=\"T_38969_level0_row6\" class=\"row_heading level0 row6\" >20107</th>\n",
       "      <td id=\"T_38969_row6_col0\" class=\"data row6 col0\" >100.00%</td>\n",
       "      <td id=\"T_38969_row6_col1\" class=\"data row6 col1\" >100.00%</td>\n",
       "      <td id=\"T_38969_row6_col2\" class=\"data row6 col2\" >100.00%</td>\n",
       "      <td id=\"T_38969_row6_col3\" class=\"data row6 col3\" >12</td>\n",
       "    </tr>\n",
       "    <tr>\n",
       "      <th id=\"T_38969_level0_row7\" class=\"row_heading level0 row7\" >30101</th>\n",
       "      <td id=\"T_38969_row7_col0\" class=\"data row7 col0\" >100.00%</td>\n",
       "      <td id=\"T_38969_row7_col1\" class=\"data row7 col1\" >100.00%</td>\n",
       "      <td id=\"T_38969_row7_col2\" class=\"data row7 col2\" >100.00%</td>\n",
       "      <td id=\"T_38969_row7_col3\" class=\"data row7 col3\" >15</td>\n",
       "    </tr>\n",
       "    <tr>\n",
       "      <th id=\"T_38969_level0_row8\" class=\"row_heading level0 row8\" >30102</th>\n",
       "      <td id=\"T_38969_row8_col0\" class=\"data row8 col0\" >100.00%</td>\n",
       "      <td id=\"T_38969_row8_col1\" class=\"data row8 col1\" >100.00%</td>\n",
       "      <td id=\"T_38969_row8_col2\" class=\"data row8 col2\" >100.00%</td>\n",
       "      <td id=\"T_38969_row8_col3\" class=\"data row8 col3\" >16</td>\n",
       "    </tr>\n",
       "    <tr>\n",
       "      <th id=\"T_38969_level0_row9\" class=\"row_heading level0 row9\" >30103</th>\n",
       "      <td id=\"T_38969_row9_col0\" class=\"data row9 col0\" >100.00%</td>\n",
       "      <td id=\"T_38969_row9_col1\" class=\"data row9 col1\" >100.00%</td>\n",
       "      <td id=\"T_38969_row9_col2\" class=\"data row9 col2\" >100.00%</td>\n",
       "      <td id=\"T_38969_row9_col3\" class=\"data row9 col3\" >16</td>\n",
       "    </tr>\n",
       "    <tr>\n",
       "      <th id=\"T_38969_level0_row10\" class=\"row_heading level0 row10\" >macro avg</th>\n",
       "      <td id=\"T_38969_row10_col0\" class=\"data row10 col0\" >100.00%</td>\n",
       "      <td id=\"T_38969_row10_col1\" class=\"data row10 col1\" >100.00%</td>\n",
       "      <td id=\"T_38969_row10_col2\" class=\"data row10 col2\" >100.00%</td>\n",
       "      <td id=\"T_38969_row10_col3\" class=\"data row10 col3\" >150</td>\n",
       "    </tr>\n",
       "    <tr>\n",
       "      <th id=\"T_38969_level0_row11\" class=\"row_heading level0 row11\" >weighted avg</th>\n",
       "      <td id=\"T_38969_row11_col0\" class=\"data row11 col0\" >100.00%</td>\n",
       "      <td id=\"T_38969_row11_col1\" class=\"data row11 col1\" >100.00%</td>\n",
       "      <td id=\"T_38969_row11_col2\" class=\"data row11 col2\" >100.00%</td>\n",
       "      <td id=\"T_38969_row11_col3\" class=\"data row11 col3\" >150</td>\n",
       "    </tr>\n",
       "  </tbody>\n",
       "</table>\n"
      ],
      "text/plain": [
       "<pandas.io.formats.style.Styler at 0x20d8b7a5d30>"
      ]
     },
     "metadata": {},
     "output_type": "display_data"
    },
    {
     "data": {
      "application/vnd.plotly.v1+json": {
       "config": {
        "plotlyServerURL": "https://plot.ly"
       },
       "data": [
        {
         "coloraxis": "coloraxis",
         "hovertemplate": "<b>Conta Prevista</b>: %{x}<br><b>Conta Real</b>: %{y}<br><b>Número de Ocorrências</b>: %{z}<extra></extra>",
         "name": "0",
         "texttemplate": "%{z}",
         "type": "heatmap",
         "x": [
          "20101",
          "20102",
          "20103",
          "20104",
          "20105",
          "20106",
          "20107",
          "30101",
          "30102",
          "30103"
         ],
         "xaxis": "x",
         "y": [
          "20101",
          "20102",
          "20103",
          "20104",
          "20105",
          "20106",
          "20107",
          "30101",
          "30102",
          "30103"
         ],
         "yaxis": "y",
         "z": {
          "bdata": "DAAAAAAAAAAAAAAUAAAAAAAAAAAAAA8AAAAAAAAAAAAADQAAAAAAAAAAAAASAAAAAAAAAAAAAA0AAAAAAAAAAAAADAAAAAAAAAAAAAAPAAAAAAAAAAAAABAAAAAAAAAAAAAAEA==",
          "dtype": "i1",
          "shape": "10, 10"
         }
        }
       ],
       "layout": {
        "coloraxis": {
         "colorbar": {
          "title": {
           "text": "<b>Número de Ocorrências</b>"
          }
         },
         "colorscale": [
          [
           0,
           "rgb(247,251,255)"
          ],
          [
           0.125,
           "rgb(222,235,247)"
          ],
          [
           0.25,
           "rgb(198,219,239)"
          ],
          [
           0.375,
           "rgb(158,202,225)"
          ],
          [
           0.5,
           "rgb(107,174,214)"
          ],
          [
           0.625,
           "rgb(66,146,198)"
          ],
          [
           0.75,
           "rgb(33,113,181)"
          ],
          [
           0.875,
           "rgb(8,81,156)"
          ],
          [
           1,
           "rgb(8,48,107)"
          ]
         ]
        },
        "height": 800,
        "template": {
         "data": {
          "bar": [
           {
            "error_x": {
             "color": "#2a3f5f"
            },
            "error_y": {
             "color": "#2a3f5f"
            },
            "marker": {
             "line": {
              "color": "#E5ECF6",
              "width": 0.5
             },
             "pattern": {
              "fillmode": "overlay",
              "size": 10,
              "solidity": 0.2
             }
            },
            "type": "bar"
           }
          ],
          "barpolar": [
           {
            "marker": {
             "line": {
              "color": "#E5ECF6",
              "width": 0.5
             },
             "pattern": {
              "fillmode": "overlay",
              "size": 10,
              "solidity": 0.2
             }
            },
            "type": "barpolar"
           }
          ],
          "carpet": [
           {
            "aaxis": {
             "endlinecolor": "#2a3f5f",
             "gridcolor": "white",
             "linecolor": "white",
             "minorgridcolor": "white",
             "startlinecolor": "#2a3f5f"
            },
            "baxis": {
             "endlinecolor": "#2a3f5f",
             "gridcolor": "white",
             "linecolor": "white",
             "minorgridcolor": "white",
             "startlinecolor": "#2a3f5f"
            },
            "type": "carpet"
           }
          ],
          "choropleth": [
           {
            "colorbar": {
             "outlinewidth": 0,
             "ticks": ""
            },
            "type": "choropleth"
           }
          ],
          "contour": [
           {
            "colorbar": {
             "outlinewidth": 0,
             "ticks": ""
            },
            "colorscale": [
             [
              0,
              "#0d0887"
             ],
             [
              0.1111111111111111,
              "#46039f"
             ],
             [
              0.2222222222222222,
              "#7201a8"
             ],
             [
              0.3333333333333333,
              "#9c179e"
             ],
             [
              0.4444444444444444,
              "#bd3786"
             ],
             [
              0.5555555555555556,
              "#d8576b"
             ],
             [
              0.6666666666666666,
              "#ed7953"
             ],
             [
              0.7777777777777778,
              "#fb9f3a"
             ],
             [
              0.8888888888888888,
              "#fdca26"
             ],
             [
              1,
              "#f0f921"
             ]
            ],
            "type": "contour"
           }
          ],
          "contourcarpet": [
           {
            "colorbar": {
             "outlinewidth": 0,
             "ticks": ""
            },
            "type": "contourcarpet"
           }
          ],
          "heatmap": [
           {
            "colorbar": {
             "outlinewidth": 0,
             "ticks": ""
            },
            "colorscale": [
             [
              0,
              "#0d0887"
             ],
             [
              0.1111111111111111,
              "#46039f"
             ],
             [
              0.2222222222222222,
              "#7201a8"
             ],
             [
              0.3333333333333333,
              "#9c179e"
             ],
             [
              0.4444444444444444,
              "#bd3786"
             ],
             [
              0.5555555555555556,
              "#d8576b"
             ],
             [
              0.6666666666666666,
              "#ed7953"
             ],
             [
              0.7777777777777778,
              "#fb9f3a"
             ],
             [
              0.8888888888888888,
              "#fdca26"
             ],
             [
              1,
              "#f0f921"
             ]
            ],
            "type": "heatmap"
           }
          ],
          "histogram": [
           {
            "marker": {
             "pattern": {
              "fillmode": "overlay",
              "size": 10,
              "solidity": 0.2
             }
            },
            "type": "histogram"
           }
          ],
          "histogram2d": [
           {
            "colorbar": {
             "outlinewidth": 0,
             "ticks": ""
            },
            "colorscale": [
             [
              0,
              "#0d0887"
             ],
             [
              0.1111111111111111,
              "#46039f"
             ],
             [
              0.2222222222222222,
              "#7201a8"
             ],
             [
              0.3333333333333333,
              "#9c179e"
             ],
             [
              0.4444444444444444,
              "#bd3786"
             ],
             [
              0.5555555555555556,
              "#d8576b"
             ],
             [
              0.6666666666666666,
              "#ed7953"
             ],
             [
              0.7777777777777778,
              "#fb9f3a"
             ],
             [
              0.8888888888888888,
              "#fdca26"
             ],
             [
              1,
              "#f0f921"
             ]
            ],
            "type": "histogram2d"
           }
          ],
          "histogram2dcontour": [
           {
            "colorbar": {
             "outlinewidth": 0,
             "ticks": ""
            },
            "colorscale": [
             [
              0,
              "#0d0887"
             ],
             [
              0.1111111111111111,
              "#46039f"
             ],
             [
              0.2222222222222222,
              "#7201a8"
             ],
             [
              0.3333333333333333,
              "#9c179e"
             ],
             [
              0.4444444444444444,
              "#bd3786"
             ],
             [
              0.5555555555555556,
              "#d8576b"
             ],
             [
              0.6666666666666666,
              "#ed7953"
             ],
             [
              0.7777777777777778,
              "#fb9f3a"
             ],
             [
              0.8888888888888888,
              "#fdca26"
             ],
             [
              1,
              "#f0f921"
             ]
            ],
            "type": "histogram2dcontour"
           }
          ],
          "mesh3d": [
           {
            "colorbar": {
             "outlinewidth": 0,
             "ticks": ""
            },
            "type": "mesh3d"
           }
          ],
          "parcoords": [
           {
            "line": {
             "colorbar": {
              "outlinewidth": 0,
              "ticks": ""
             }
            },
            "type": "parcoords"
           }
          ],
          "pie": [
           {
            "automargin": true,
            "type": "pie"
           }
          ],
          "scatter": [
           {
            "fillpattern": {
             "fillmode": "overlay",
             "size": 10,
             "solidity": 0.2
            },
            "type": "scatter"
           }
          ],
          "scatter3d": [
           {
            "line": {
             "colorbar": {
              "outlinewidth": 0,
              "ticks": ""
             }
            },
            "marker": {
             "colorbar": {
              "outlinewidth": 0,
              "ticks": ""
             }
            },
            "type": "scatter3d"
           }
          ],
          "scattercarpet": [
           {
            "marker": {
             "colorbar": {
              "outlinewidth": 0,
              "ticks": ""
             }
            },
            "type": "scattercarpet"
           }
          ],
          "scattergeo": [
           {
            "marker": {
             "colorbar": {
              "outlinewidth": 0,
              "ticks": ""
             }
            },
            "type": "scattergeo"
           }
          ],
          "scattergl": [
           {
            "marker": {
             "colorbar": {
              "outlinewidth": 0,
              "ticks": ""
             }
            },
            "type": "scattergl"
           }
          ],
          "scattermap": [
           {
            "marker": {
             "colorbar": {
              "outlinewidth": 0,
              "ticks": ""
             }
            },
            "type": "scattermap"
           }
          ],
          "scattermapbox": [
           {
            "marker": {
             "colorbar": {
              "outlinewidth": 0,
              "ticks": ""
             }
            },
            "type": "scattermapbox"
           }
          ],
          "scatterpolar": [
           {
            "marker": {
             "colorbar": {
              "outlinewidth": 0,
              "ticks": ""
             }
            },
            "type": "scatterpolar"
           }
          ],
          "scatterpolargl": [
           {
            "marker": {
             "colorbar": {
              "outlinewidth": 0,
              "ticks": ""
             }
            },
            "type": "scatterpolargl"
           }
          ],
          "scatterternary": [
           {
            "marker": {
             "colorbar": {
              "outlinewidth": 0,
              "ticks": ""
             }
            },
            "type": "scatterternary"
           }
          ],
          "surface": [
           {
            "colorbar": {
             "outlinewidth": 0,
             "ticks": ""
            },
            "colorscale": [
             [
              0,
              "#0d0887"
             ],
             [
              0.1111111111111111,
              "#46039f"
             ],
             [
              0.2222222222222222,
              "#7201a8"
             ],
             [
              0.3333333333333333,
              "#9c179e"
             ],
             [
              0.4444444444444444,
              "#bd3786"
             ],
             [
              0.5555555555555556,
              "#d8576b"
             ],
             [
              0.6666666666666666,
              "#ed7953"
             ],
             [
              0.7777777777777778,
              "#fb9f3a"
             ],
             [
              0.8888888888888888,
              "#fdca26"
             ],
             [
              1,
              "#f0f921"
             ]
            ],
            "type": "surface"
           }
          ],
          "table": [
           {
            "cells": {
             "fill": {
              "color": "#EBF0F8"
             },
             "line": {
              "color": "white"
             }
            },
            "header": {
             "fill": {
              "color": "#C8D4E3"
             },
             "line": {
              "color": "white"
             }
            },
            "type": "table"
           }
          ]
         },
         "layout": {
          "annotationdefaults": {
           "arrowcolor": "#2a3f5f",
           "arrowhead": 0,
           "arrowwidth": 1
          },
          "autotypenumbers": "strict",
          "coloraxis": {
           "colorbar": {
            "outlinewidth": 0,
            "ticks": ""
           }
          },
          "colorscale": {
           "diverging": [
            [
             0,
             "#8e0152"
            ],
            [
             0.1,
             "#c51b7d"
            ],
            [
             0.2,
             "#de77ae"
            ],
            [
             0.3,
             "#f1b6da"
            ],
            [
             0.4,
             "#fde0ef"
            ],
            [
             0.5,
             "#f7f7f7"
            ],
            [
             0.6,
             "#e6f5d0"
            ],
            [
             0.7,
             "#b8e186"
            ],
            [
             0.8,
             "#7fbc41"
            ],
            [
             0.9,
             "#4d9221"
            ],
            [
             1,
             "#276419"
            ]
           ],
           "sequential": [
            [
             0,
             "#0d0887"
            ],
            [
             0.1111111111111111,
             "#46039f"
            ],
            [
             0.2222222222222222,
             "#7201a8"
            ],
            [
             0.3333333333333333,
             "#9c179e"
            ],
            [
             0.4444444444444444,
             "#bd3786"
            ],
            [
             0.5555555555555556,
             "#d8576b"
            ],
            [
             0.6666666666666666,
             "#ed7953"
            ],
            [
             0.7777777777777778,
             "#fb9f3a"
            ],
            [
             0.8888888888888888,
             "#fdca26"
            ],
            [
             1,
             "#f0f921"
            ]
           ],
           "sequentialminus": [
            [
             0,
             "#0d0887"
            ],
            [
             0.1111111111111111,
             "#46039f"
            ],
            [
             0.2222222222222222,
             "#7201a8"
            ],
            [
             0.3333333333333333,
             "#9c179e"
            ],
            [
             0.4444444444444444,
             "#bd3786"
            ],
            [
             0.5555555555555556,
             "#d8576b"
            ],
            [
             0.6666666666666666,
             "#ed7953"
            ],
            [
             0.7777777777777778,
             "#fb9f3a"
            ],
            [
             0.8888888888888888,
             "#fdca26"
            ],
            [
             1,
             "#f0f921"
            ]
           ]
          },
          "colorway": [
           "#636efa",
           "#EF553B",
           "#00cc96",
           "#ab63fa",
           "#FFA15A",
           "#19d3f3",
           "#FF6692",
           "#B6E880",
           "#FF97FF",
           "#FECB52"
          ],
          "font": {
           "color": "#2a3f5f"
          },
          "geo": {
           "bgcolor": "white",
           "lakecolor": "white",
           "landcolor": "#E5ECF6",
           "showlakes": true,
           "showland": true,
           "subunitcolor": "white"
          },
          "hoverlabel": {
           "align": "left"
          },
          "hovermode": "closest",
          "mapbox": {
           "style": "light"
          },
          "paper_bgcolor": "white",
          "plot_bgcolor": "#E5ECF6",
          "polar": {
           "angularaxis": {
            "gridcolor": "white",
            "linecolor": "white",
            "ticks": ""
           },
           "bgcolor": "#E5ECF6",
           "radialaxis": {
            "gridcolor": "white",
            "linecolor": "white",
            "ticks": ""
           }
          },
          "scene": {
           "xaxis": {
            "backgroundcolor": "#E5ECF6",
            "gridcolor": "white",
            "gridwidth": 2,
            "linecolor": "white",
            "showbackground": true,
            "ticks": "",
            "zerolinecolor": "white"
           },
           "yaxis": {
            "backgroundcolor": "#E5ECF6",
            "gridcolor": "white",
            "gridwidth": 2,
            "linecolor": "white",
            "showbackground": true,
            "ticks": "",
            "zerolinecolor": "white"
           },
           "zaxis": {
            "backgroundcolor": "#E5ECF6",
            "gridcolor": "white",
            "gridwidth": 2,
            "linecolor": "white",
            "showbackground": true,
            "ticks": "",
            "zerolinecolor": "white"
           }
          },
          "shapedefaults": {
           "line": {
            "color": "#2a3f5f"
           }
          },
          "ternary": {
           "aaxis": {
            "gridcolor": "white",
            "linecolor": "white",
            "ticks": ""
           },
           "baxis": {
            "gridcolor": "white",
            "linecolor": "white",
            "ticks": ""
           },
           "bgcolor": "#E5ECF6",
           "caxis": {
            "gridcolor": "white",
            "linecolor": "white",
            "ticks": ""
           }
          },
          "title": {
           "x": 0.05
          },
          "xaxis": {
           "automargin": true,
           "gridcolor": "white",
           "linecolor": "white",
           "ticks": "",
           "title": {
            "standoff": 15
           },
           "zerolinecolor": "white",
           "zerolinewidth": 2
          },
          "yaxis": {
           "automargin": true,
           "gridcolor": "white",
           "linecolor": "white",
           "ticks": "",
           "title": {
            "standoff": 15
           },
           "zerolinecolor": "white",
           "zerolinewidth": 2
          }
         }
        },
        "title": {
         "text": "<b>Matriz de Confusão</b>",
         "x": 0.5
        },
        "width": 800,
        "xaxis": {
         "anchor": "y",
         "constrain": "domain",
         "domain": [
          0,
          1
         ],
         "scaleanchor": "y",
         "tickangle": -45,
         "title": {
          "text": "<b>Conta Prevista</b>"
         }
        },
        "yaxis": {
         "anchor": "x",
         "autorange": "reversed",
         "constrain": "domain",
         "domain": [
          0,
          1
         ],
         "title": {
          "text": "<b>Conta Real</b>"
         }
        }
       }
      }
     },
     "metadata": {},
     "output_type": "display_data"
    }
   ],
   "source": [
    "# Avaliando novo modelo\n",
    "# Avaliando o modelo, criando matriz de confusão e relatório de classificação\n",
    "# Usando o pipeline para fazer previsões\n",
    "y_pred = text_clf_pipeline.predict(X_test)\n",
    "# Imprimindo o relatório de classificação com melhor visualização\n",
    "rp_dict = classification_report(y_test, y_pred, output_dict=True)\n",
    "accuracy = rp_dict.pop(\"accuracy\")\n",
    "df_rp = pd.DataFrame(rp_dict).T\n",
    "df_rp[\"support\"] = df_rp[\"support\"].astype(int)\n",
    "df_rp.rename(\n",
    "    columns={\n",
    "        \"precision\": \"Precisão\",\n",
    "        \"recall\": \"Recall\",\n",
    "        \"f1-score\": \"F1-Score\",\n",
    "        \"support\": \"Nº de amostras (Suporte)\",\n",
    "    },\n",
    "    inplace=True,\n",
    ")\n",
    "\n",
    "display(Markdown(\"## **Relatório de Classificação do Modelo**\"))\n",
    "display(Markdown(f\"**Acurácia do Modelo:** {accuracy:.2%}\"))\n",
    "# Usando mapa de calor e Styler para melhor visualização\n",
    "styled_df_rp = (\n",
    "    df_rp.style.format(\n",
    "        {\n",
    "            \"Precisão\": \"{:.2%}\",\n",
    "            \"Recall\": \"{:.2%}\",\n",
    "            \"F1-Score\": \"{:.2%}\",\n",
    "            \"Nº de amostras (Suporte)\": \"{:,}\",\n",
    "        }\n",
    "    )\n",
    "    .background_gradient(cmap=\"Blues\", subset=[\"F1-Score\"])\n",
    "    .set_caption(\"Relatório de Classificação por Conta Contábil\")\n",
    ")\n",
    "display(styled_df_rp)\n",
    "# Gerar e visualizar matriz de confusão\n",
    "conf_matrix = confusion_matrix(y_test, y_pred)\n",
    "labels = sorted(\n",
    "    y_test.unique().astype(str)\n",
    ")  # Garantir que os rótulos estejam em ordem e como strings\n",
    "# Criando matriz de confusão com Plotly\n",
    "fig = px.imshow(\n",
    "    conf_matrix,\n",
    "    x=labels,\n",
    "    y=labels,\n",
    "    text_auto=True,\n",
    "    title=\"<b>Matriz de Confusão</b>\",\n",
    "    labels=dict(\n",
    "        x=\"<b>Conta Prevista</b>\",\n",
    "        y=\"<b>Conta Real</b>\",\n",
    "        color=\"<b>Número de Ocorrências</b>\",\n",
    "    ),\n",
    "    color_continuous_scale=px.colors.sequential.Blues,\n",
    ")\n",
    "# Ajuste de layout para melhor visualização\n",
    "fig.update_layout(\n",
    "    width=800, height=800, xaxis_tickangle=-45, title_x=0.5  # Centraliza o título\n",
    ")\n",
    "fig.show()"
   ]
  },
  {
   "cell_type": "markdown",
   "id": "7768135e",
   "metadata": {},
   "source": [
    "## Aplicando regra de negócio\n",
    "Para preencher as contas, usaremos a seguinte regra:\n",
    "\n",
    "- Se a probabilidade de uma conta for maior ou igual a 70%, preencher com essa conta\n",
    "- Se for abaixo de 70%, realizar o preenchimento com o melhor resultado obtido, porém sinalizando que o usuário revise tal informação"
   ]
  },
  {
   "cell_type": "code",
   "execution_count": 153,
   "id": "244fba2b",
   "metadata": {},
   "outputs": [
    {
     "data": {
      "text/markdown": [
       "Iniciando o processo de classificação..."
      ],
      "text/plain": [
       "<IPython.core.display.Markdown object>"
      ]
     },
     "metadata": {},
     "output_type": "display_data"
    },
    {
     "data": {
      "text/markdown": [
       "\n",
       "Classificação concluída. Resultados:"
      ],
      "text/plain": [
       "<IPython.core.display.Markdown object>"
      ]
     },
     "metadata": {},
     "output_type": "display_data"
    },
    {
     "data": {
      "text/html": [
       "<div>\n",
       "<style scoped>\n",
       "    .dataframe tbody tr th:only-of-type {\n",
       "        vertical-align: middle;\n",
       "    }\n",
       "\n",
       "    .dataframe tbody tr th {\n",
       "        vertical-align: top;\n",
       "    }\n",
       "\n",
       "    .dataframe thead th {\n",
       "        text-align: right;\n",
       "    }\n",
       "</style>\n",
       "<table border=\"1\" class=\"dataframe\">\n",
       "  <thead>\n",
       "    <tr style=\"text-align: right;\">\n",
       "      <th></th>\n",
       "      <th>DESCRIÇÃO DO LANÇAMENTO</th>\n",
       "      <th>CONTA</th>\n",
       "      <th>CLASSIFICAÇÃO_PROB</th>\n",
       "    </tr>\n",
       "  </thead>\n",
       "  <tbody>\n",
       "    <tr>\n",
       "      <th>500</th>\n",
       "      <td>IMPOSTO - Lançamento teste 3253</td>\n",
       "      <td>20104</td>\n",
       "      <td>85.82%</td>\n",
       "    </tr>\n",
       "    <tr>\n",
       "      <th>501</th>\n",
       "      <td>ANUNCIO - Lançamento teste 2657</td>\n",
       "      <td>20103</td>\n",
       "      <td>87.52%</td>\n",
       "    </tr>\n",
       "    <tr>\n",
       "      <th>502</th>\n",
       "      <td>VENDA - Lançamento teste 9626</td>\n",
       "      <td>30102</td>\n",
       "      <td>88.07%</td>\n",
       "    </tr>\n",
       "    <tr>\n",
       "      <th>503</th>\n",
       "      <td>SALARIO - Lançamento teste 3147</td>\n",
       "      <td>20101</td>\n",
       "      <td>85.43%</td>\n",
       "    </tr>\n",
       "    <tr>\n",
       "      <th>504</th>\n",
       "      <td>RENDIMENTO - Lançamento teste 3658</td>\n",
       "      <td>30103</td>\n",
       "      <td>88.07%</td>\n",
       "    </tr>\n",
       "    <tr>\n",
       "      <th>505</th>\n",
       "      <td>ANUNCIO - Lançamento teste 3712</td>\n",
       "      <td>20103</td>\n",
       "      <td>87.52%</td>\n",
       "    </tr>\n",
       "    <tr>\n",
       "      <th>506</th>\n",
       "      <td>RECEBIMENTO - Lançamento teste 6968</td>\n",
       "      <td>30101</td>\n",
       "      <td>88.07%</td>\n",
       "    </tr>\n",
       "    <tr>\n",
       "      <th>507</th>\n",
       "      <td>IMPOSTO - Lançamento teste 5668</td>\n",
       "      <td>20104</td>\n",
       "      <td>85.82%</td>\n",
       "    </tr>\n",
       "    <tr>\n",
       "      <th>508</th>\n",
       "      <td>RECEBIMENTO - Lançamento teste 4918</td>\n",
       "      <td>30101</td>\n",
       "      <td>88.07%</td>\n",
       "    </tr>\n",
       "    <tr>\n",
       "      <th>509</th>\n",
       "      <td>FORNECEDOR - Lançamento teste 8684</td>\n",
       "      <td>20105</td>\n",
       "      <td>89.45%</td>\n",
       "    </tr>\n",
       "    <tr>\n",
       "      <th>510</th>\n",
       "      <td>IMPOSTO - Lançamento teste 8218</td>\n",
       "      <td>20104</td>\n",
       "      <td>85.82%</td>\n",
       "    </tr>\n",
       "    <tr>\n",
       "      <th>511</th>\n",
       "      <td>RECEBIMENTO - Lançamento teste 7256</td>\n",
       "      <td>30101</td>\n",
       "      <td>88.07%</td>\n",
       "    </tr>\n",
       "    <tr>\n",
       "      <th>512</th>\n",
       "      <td>VENDA - Lançamento teste 3655</td>\n",
       "      <td>30102</td>\n",
       "      <td>88.07%</td>\n",
       "    </tr>\n",
       "    <tr>\n",
       "      <th>513</th>\n",
       "      <td>IMPOSTO - Lançamento teste 3267</td>\n",
       "      <td>20104</td>\n",
       "      <td>85.82%</td>\n",
       "    </tr>\n",
       "  </tbody>\n",
       "</table>\n",
       "</div>"
      ],
      "text/plain": [
       "                 DESCRIÇÃO DO LANÇAMENTO  CONTA CLASSIFICAÇÃO_PROB\n",
       "500      IMPOSTO - Lançamento teste 3253  20104             85.82%\n",
       "501      ANUNCIO - Lançamento teste 2657  20103             87.52%\n",
       "502        VENDA - Lançamento teste 9626  30102             88.07%\n",
       "503      SALARIO - Lançamento teste 3147  20101             85.43%\n",
       "504   RENDIMENTO - Lançamento teste 3658  30103             88.07%\n",
       "505      ANUNCIO - Lançamento teste 3712  20103             87.52%\n",
       "506  RECEBIMENTO - Lançamento teste 6968  30101             88.07%\n",
       "507      IMPOSTO - Lançamento teste 5668  20104             85.82%\n",
       "508  RECEBIMENTO - Lançamento teste 4918  30101             88.07%\n",
       "509   FORNECEDOR - Lançamento teste 8684  20105             89.45%\n",
       "510      IMPOSTO - Lançamento teste 8218  20104             85.82%\n",
       "511  RECEBIMENTO - Lançamento teste 7256  30101             88.07%\n",
       "512        VENDA - Lançamento teste 3655  30102             88.07%\n",
       "513      IMPOSTO - Lançamento teste 3267  20104             85.82%"
      ]
     },
     "metadata": {},
     "output_type": "display_data"
    }
   ],
   "source": [
    "# Aplicando regra de negócio para preencher as contas\n",
    "# Iniciando o processo de classificação\n",
    "display(Markdown(\"Iniciando o processo de classificação...\"))\n",
    "classify_texts = df_for_class[col_his].apply(clean_text)\n",
    "# usando o modelo para fazer as probabilidades\n",
    "arr_proba = text_clf_pipeline.predict_proba(classify_texts)\n",
    "# Processar os resultados e aplicar a regra de negócio\n",
    "fill_accounts = []\n",
    "final_proba = []\n",
    "confidence_limit = 0.70 # critério de 70%\n",
    "\n",
    "for i in range(len(arr_proba)):\n",
    "    # pega as probabilidades para o lançamento atual\n",
    "    lanc_proba = arr_proba[i]\n",
    "    # encontra o indice da maior probabilidade\n",
    "    best_acc_index = lanc_proba.argmax()\n",
    "    # valor da maior probabilidade\n",
    "    max_proba = lanc_proba[best_acc_index]\n",
    "    # pega o código da conta\n",
    "    predicted_acc = text_clf_pipeline.classes_[best_acc_index]\n",
    "    # aplica a regra de negócio\n",
    "    if max_proba >= confidence_limit:\n",
    "        fill_accounts.append(predicted_acc)\n",
    "        final_proba.append(f\"{max_proba:.2%}\")  # convertendo para porcentagem\n",
    "    else:\n",
    "        fill_accounts.append(predicted_acc) # não preencher\n",
    "        final_proba.append(f\"Revisar! Sugestão de conta: {predicted_acc} ({max_proba:.2%})\") # convertendo para porcentagem\n",
    "\n",
    "# Adicionando os resultados ao DataFrame original\n",
    "df_for_class['CONTA'] = fill_accounts\n",
    "df_for_class['CLASSIFICAÇÃO_PROB'] = final_proba\n",
    "\n",
    "display(Markdown(\"\\nClassificação concluída. Resultados:\"))\n",
    "display(df_for_class[[col_his, 'CONTA', 'CLASSIFICAÇÃO_PROB']].head(20))"
   ]
  },
  {
   "cell_type": "markdown",
   "id": "3355e743",
   "metadata": {},
   "source": [
    "## Geração da planilha com os resultados\n",
    "Gerando a planilha aplicando a regra definida"
   ]
  },
  {
   "cell_type": "code",
   "execution_count": 154,
   "id": "116fc2be",
   "metadata": {},
   "outputs": [
    {
     "data": {
      "text/markdown": [
       "\n",
       "Planilha final salva como 'classificacao_contas_resultado.xlsx' com 514 lançamentos."
      ],
      "text/plain": [
       "<IPython.core.display.Markdown object>"
      ]
     },
     "metadata": {},
     "output_type": "display_data"
    },
    {
     "data": {
      "text/html": [
       "<div>\n",
       "<style scoped>\n",
       "    .dataframe tbody tr th:only-of-type {\n",
       "        vertical-align: middle;\n",
       "    }\n",
       "\n",
       "    .dataframe tbody tr th {\n",
       "        vertical-align: top;\n",
       "    }\n",
       "\n",
       "    .dataframe thead th {\n",
       "        text-align: right;\n",
       "    }\n",
       "</style>\n",
       "<table border=\"1\" class=\"dataframe\">\n",
       "  <thead>\n",
       "    <tr style=\"text-align: right;\">\n",
       "      <th></th>\n",
       "      <th>CONTA</th>\n",
       "      <th>BANCO</th>\n",
       "      <th>DATA</th>\n",
       "      <th>DESCRIÇÃO DO LANÇAMENTO</th>\n",
       "      <th>VALOR</th>\n",
       "      <th>CLASSIFICAÇÃO_PROB</th>\n",
       "    </tr>\n",
       "  </thead>\n",
       "  <tbody>\n",
       "    <tr>\n",
       "      <th>495</th>\n",
       "      <td>20105.0</td>\n",
       "      <td>ITAÚ</td>\n",
       "      <td>25/12/2024</td>\n",
       "      <td>FORNECEDOR - Lançamento teste 8684</td>\n",
       "      <td>-19,313,65</td>\n",
       "      <td>Conta já existente</td>\n",
       "    </tr>\n",
       "    <tr>\n",
       "      <th>496</th>\n",
       "      <td>20104.0</td>\n",
       "      <td>ITAÚ</td>\n",
       "      <td>29/12/2024</td>\n",
       "      <td>IMPOSTO - Lançamento teste 8218</td>\n",
       "      <td>-7,388,43</td>\n",
       "      <td>Conta já existente</td>\n",
       "    </tr>\n",
       "    <tr>\n",
       "      <th>497</th>\n",
       "      <td>30101.0</td>\n",
       "      <td>ITAÚ</td>\n",
       "      <td>30/12/2024</td>\n",
       "      <td>RECEBIMENTO - Lançamento teste 7256</td>\n",
       "      <td>23,094,68</td>\n",
       "      <td>Conta já existente</td>\n",
       "    </tr>\n",
       "    <tr>\n",
       "      <th>498</th>\n",
       "      <td>30102.0</td>\n",
       "      <td>ITAÚ</td>\n",
       "      <td>30/12/2024</td>\n",
       "      <td>VENDA - Lançamento teste 3655</td>\n",
       "      <td>15,847,42</td>\n",
       "      <td>Conta já existente</td>\n",
       "    </tr>\n",
       "    <tr>\n",
       "      <th>499</th>\n",
       "      <td>20104.0</td>\n",
       "      <td>ITAÚ</td>\n",
       "      <td>31/12/2024</td>\n",
       "      <td>IMPOSTO - Lançamento teste 3267</td>\n",
       "      <td>-16,035,12</td>\n",
       "      <td>Conta já existente</td>\n",
       "    </tr>\n",
       "    <tr>\n",
       "      <th>500</th>\n",
       "      <td>20104.0</td>\n",
       "      <td>ITAÚ</td>\n",
       "      <td>20/12/2024</td>\n",
       "      <td>IMPOSTO - Lançamento teste 3253</td>\n",
       "      <td>-4,569,53</td>\n",
       "      <td>85.82%</td>\n",
       "    </tr>\n",
       "    <tr>\n",
       "      <th>501</th>\n",
       "      <td>20103.0</td>\n",
       "      <td>ITAÚ</td>\n",
       "      <td>20/12/2024</td>\n",
       "      <td>ANUNCIO - Lançamento teste 2657</td>\n",
       "      <td>-1,589,44</td>\n",
       "      <td>87.52%</td>\n",
       "    </tr>\n",
       "    <tr>\n",
       "      <th>502</th>\n",
       "      <td>30102.0</td>\n",
       "      <td>ITAÚ</td>\n",
       "      <td>22/12/2024</td>\n",
       "      <td>VENDA - Lançamento teste 9626</td>\n",
       "      <td>23,137,70</td>\n",
       "      <td>88.07%</td>\n",
       "    </tr>\n",
       "    <tr>\n",
       "      <th>503</th>\n",
       "      <td>20101.0</td>\n",
       "      <td>ITAÚ</td>\n",
       "      <td>24/12/2024</td>\n",
       "      <td>SALARIO - Lançamento teste 3147</td>\n",
       "      <td>-13,255,49</td>\n",
       "      <td>85.43%</td>\n",
       "    </tr>\n",
       "    <tr>\n",
       "      <th>504</th>\n",
       "      <td>30103.0</td>\n",
       "      <td>ITAÚ</td>\n",
       "      <td>24/12/2024</td>\n",
       "      <td>RENDIMENTO - Lançamento teste 3658</td>\n",
       "      <td>11,332,76</td>\n",
       "      <td>88.07%</td>\n",
       "    </tr>\n",
       "    <tr>\n",
       "      <th>505</th>\n",
       "      <td>20103.0</td>\n",
       "      <td>ITAÚ</td>\n",
       "      <td>25/12/2024</td>\n",
       "      <td>ANUNCIO - Lançamento teste 3712</td>\n",
       "      <td>-16,635,33</td>\n",
       "      <td>87.52%</td>\n",
       "    </tr>\n",
       "    <tr>\n",
       "      <th>506</th>\n",
       "      <td>30101.0</td>\n",
       "      <td>ITAÚ</td>\n",
       "      <td>25/12/2024</td>\n",
       "      <td>RECEBIMENTO - Lançamento teste 6968</td>\n",
       "      <td>1,358,59</td>\n",
       "      <td>88.07%</td>\n",
       "    </tr>\n",
       "    <tr>\n",
       "      <th>507</th>\n",
       "      <td>20104.0</td>\n",
       "      <td>ITAÚ</td>\n",
       "      <td>25/12/2024</td>\n",
       "      <td>IMPOSTO - Lançamento teste 5668</td>\n",
       "      <td>-19,393,29</td>\n",
       "      <td>85.82%</td>\n",
       "    </tr>\n",
       "    <tr>\n",
       "      <th>508</th>\n",
       "      <td>30101.0</td>\n",
       "      <td>ITAÚ</td>\n",
       "      <td>25/12/2024</td>\n",
       "      <td>RECEBIMENTO - Lançamento teste 4918</td>\n",
       "      <td>7,058,39</td>\n",
       "      <td>88.07%</td>\n",
       "    </tr>\n",
       "    <tr>\n",
       "      <th>509</th>\n",
       "      <td>20105.0</td>\n",
       "      <td>ITAÚ</td>\n",
       "      <td>25/12/2024</td>\n",
       "      <td>FORNECEDOR - Lançamento teste 8684</td>\n",
       "      <td>-19,313,65</td>\n",
       "      <td>89.45%</td>\n",
       "    </tr>\n",
       "    <tr>\n",
       "      <th>510</th>\n",
       "      <td>20104.0</td>\n",
       "      <td>ITAÚ</td>\n",
       "      <td>29/12/2024</td>\n",
       "      <td>IMPOSTO - Lançamento teste 8218</td>\n",
       "      <td>-7,388,43</td>\n",
       "      <td>85.82%</td>\n",
       "    </tr>\n",
       "    <tr>\n",
       "      <th>511</th>\n",
       "      <td>30101.0</td>\n",
       "      <td>ITAÚ</td>\n",
       "      <td>30/12/2024</td>\n",
       "      <td>RECEBIMENTO - Lançamento teste 7256</td>\n",
       "      <td>23,094,68</td>\n",
       "      <td>88.07%</td>\n",
       "    </tr>\n",
       "    <tr>\n",
       "      <th>512</th>\n",
       "      <td>30102.0</td>\n",
       "      <td>ITAÚ</td>\n",
       "      <td>30/12/2024</td>\n",
       "      <td>VENDA - Lançamento teste 3655</td>\n",
       "      <td>15,847,42</td>\n",
       "      <td>88.07%</td>\n",
       "    </tr>\n",
       "    <tr>\n",
       "      <th>513</th>\n",
       "      <td>20104.0</td>\n",
       "      <td>ITAÚ</td>\n",
       "      <td>31/12/2024</td>\n",
       "      <td>IMPOSTO - Lançamento teste 3267</td>\n",
       "      <td>-16,035,12</td>\n",
       "      <td>85.82%</td>\n",
       "    </tr>\n",
       "  </tbody>\n",
       "</table>\n",
       "</div>"
      ],
      "text/plain": [
       "       CONTA BANCO        DATA              DESCRIÇÃO DO LANÇAMENTO  \\\n",
       "495  20105.0  ITAÚ  25/12/2024   FORNECEDOR - Lançamento teste 8684   \n",
       "496  20104.0  ITAÚ  29/12/2024      IMPOSTO - Lançamento teste 8218   \n",
       "497  30101.0  ITAÚ  30/12/2024  RECEBIMENTO - Lançamento teste 7256   \n",
       "498  30102.0  ITAÚ  30/12/2024        VENDA - Lançamento teste 3655   \n",
       "499  20104.0  ITAÚ  31/12/2024      IMPOSTO - Lançamento teste 3267   \n",
       "500  20104.0  ITAÚ  20/12/2024      IMPOSTO - Lançamento teste 3253   \n",
       "501  20103.0  ITAÚ  20/12/2024      ANUNCIO - Lançamento teste 2657   \n",
       "502  30102.0  ITAÚ  22/12/2024        VENDA - Lançamento teste 9626   \n",
       "503  20101.0  ITAÚ  24/12/2024      SALARIO - Lançamento teste 3147   \n",
       "504  30103.0  ITAÚ  24/12/2024   RENDIMENTO - Lançamento teste 3658   \n",
       "505  20103.0  ITAÚ  25/12/2024      ANUNCIO - Lançamento teste 3712   \n",
       "506  30101.0  ITAÚ  25/12/2024  RECEBIMENTO - Lançamento teste 6968   \n",
       "507  20104.0  ITAÚ  25/12/2024      IMPOSTO - Lançamento teste 5668   \n",
       "508  30101.0  ITAÚ  25/12/2024  RECEBIMENTO - Lançamento teste 4918   \n",
       "509  20105.0  ITAÚ  25/12/2024   FORNECEDOR - Lançamento teste 8684   \n",
       "510  20104.0  ITAÚ  29/12/2024      IMPOSTO - Lançamento teste 8218   \n",
       "511  30101.0  ITAÚ  30/12/2024  RECEBIMENTO - Lançamento teste 7256   \n",
       "512  30102.0  ITAÚ  30/12/2024        VENDA - Lançamento teste 3655   \n",
       "513  20104.0  ITAÚ  31/12/2024      IMPOSTO - Lançamento teste 3267   \n",
       "\n",
       "          VALOR  CLASSIFICAÇÃO_PROB  \n",
       "495  -19,313,65  Conta já existente  \n",
       "496   -7,388,43  Conta já existente  \n",
       "497   23,094,68  Conta já existente  \n",
       "498   15,847,42  Conta já existente  \n",
       "499  -16,035,12  Conta já existente  \n",
       "500   -4,569,53              85.82%  \n",
       "501   -1,589,44              87.52%  \n",
       "502   23,137,70              88.07%  \n",
       "503  -13,255,49              85.43%  \n",
       "504   11,332,76              88.07%  \n",
       "505  -16,635,33              87.52%  \n",
       "506    1,358,59              88.07%  \n",
       "507  -19,393,29              85.82%  \n",
       "508    7,058,39              88.07%  \n",
       "509  -19,313,65              89.45%  \n",
       "510   -7,388,43              85.82%  \n",
       "511   23,094,68              88.07%  \n",
       "512   15,847,42              88.07%  \n",
       "513  -16,035,12              85.82%  "
      ]
     },
     "execution_count": 154,
     "metadata": {},
     "output_type": "execute_result"
    }
   ],
   "source": [
    "# Gerando planilha final com os resultados\n",
    "# Preenchendo os espaços vazios com \"Conta já existente\"\n",
    "df_training[\"CLASSIFICAÇÃO_PROB\"] = \"Conta já existente\"\n",
    "df_final = pd.concat([df_training, df_for_class], ignore_index=True)\n",
    "output_file = 'classificacao_contas_resultado.xlsx'\n",
    "df_final.to_excel(output_file, index=False)\n",
    "display(Markdown(f\"\\nPlanilha final salva como '{output_file}' com {len(df_final)} lançamentos.\"))\n",
    "df_final.tail(len(df_for_class)+5)"
   ]
  }
 ],
 "metadata": {
  "kernelspec": {
   "display_name": "Python 3 (ipykernel)",
   "language": "python",
   "name": "python3"
  },
  "language_info": {
   "codemirror_mode": {
    "name": "ipython",
    "version": 3
   },
   "file_extension": ".py",
   "mimetype": "text/x-python",
   "name": "python",
   "nbconvert_exporter": "python",
   "pygments_lexer": "ipython3",
   "version": "3.12.3"
  }
 },
 "nbformat": 4,
 "nbformat_minor": 5
}
