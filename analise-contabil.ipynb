{
 "cells": [
  {
   "cell_type": "markdown",
   "id": "6d117bd1",
   "metadata": {},
   "source": [
    "# Classificador de contas contábeis\n",
    "O objetivo deste projeto é criar um classificador de contas contábeis para ajudar a identificar e categorizar lançamentos financeiros de uma empresa. Nessa primeira etapa, vamos explorar e analisar os dados para entender melhor o problema e identificar as características relevantes para o classificador.\n",
    "\n",
    "## Quais serão os próximos passos?\n",
    "- Aumentar a probabilidade de acerto para acima de 70%\n",
    "- Preencher a conta contábil quando estiver vazia e a probabilidade for maior de 70%. Caso contrário, dê uma sugestão da conta a ser preenchida na coluna \"Probabilidade\".\n",
    "- Criar um relatório de classificação com a matriz de confusão\n",
    "- Preencher a conta contábil e a probabilidade, gerando uma nova planilha com os resultados"
   ]
  },
  {
   "cell_type": "markdown",
   "id": "9ae083b6",
   "metadata": {},
   "source": [
    "## Bibliotecas utilizadas\n",
    "- Pandas: carregamento, manipulação e tratamento de dados, transformando-os em DataFrame\n",
    "- Numpy: computação numérica\n",
    "- Scikit-learn: para o desenvolvimento do projeto (treinamento e avaliação do modelo)\n",
    "- Nltk: ferramenta para processamento de texto (stopwords)\n",
    "- Matplotlib, Plotly e Seaborn: visualização dos dados"
   ]
  },
  {
   "cell_type": "code",
   "execution_count": 19,
   "id": "0",
   "metadata": {},
   "outputs": [
    {
     "name": "stdout",
     "output_type": "stream",
     "text": [
      "Bibliotecas importadas com sucesso!\n"
     ]
    },
    {
     "name": "stderr",
     "output_type": "stream",
     "text": [
      "[nltk_data] Downloading package stopwords to\n",
      "[nltk_data]     C:\\Users\\administrador\\AppData\\Roaming\\nltk_data...\n",
      "[nltk_data]   Package stopwords is already up-to-date!\n"
     ]
    }
   ],
   "source": [
    "# - Bibliotecas para manipulação e análise de dados\n",
    "import pandas as pd\n",
    "import numpy as np\n",
    "import openpyxl\n",
    "\n",
    "# - Bibliotecas para visualização de dados\n",
    "import plotly.express as px\n",
    "import seaborn as sns\n",
    "import matplotlib.pyplot as plt\n",
    "\n",
    "# - Bibliotecas para ML\n",
    "import nltk\n",
    "nltk.download('stopwords')\n",
    "from sklearn.model_selection import train_test_split\n",
    "from sklearn.feature_extraction.text import TfidfVectorizer\n",
    "from sklearn.feature_extraction.text import CountVectorizer\n",
    "from sklearn.naive_bayes import MultinomialNB\n",
    "from sklearn.pipeline import Pipeline\n",
    "from sklearn.metrics import classification_report, confusion_matrix\n",
    "\n",
    "sns.set_style(\"whitegrid\")\n",
    "\n",
    "print(\"Bibliotecas importadas com sucesso!\")"
   ]
  },
  {
   "cell_type": "markdown",
   "id": "0ffafd5e",
   "metadata": {},
   "source": [
    "## DataFrame com os dados\n",
    "A planilha a ser utilizada está disponível neste repositório como **lanc_cont_ml.xlsx**. Ela possui 5 colunas\n",
    "\n",
    "| Nome da Coluna          | Descrição                                             |\n",
    "|-------------------------|-------------------------------------------------------|\n",
    "| CONTA                   | Número da conta contábil.                             |\n",
    "| BANCO                   | Banco vinculado ao lançamento/conta contábil.         |\n",
    "| DATA                    | Data do lançamento.                                   |\n",
    "| DESCRIÇÃO DO LANÇAMENTO | Descrição do lançamento (Ex: Pagto. Salário).         |\n",
    "| VALOR                   | Valor monetário do lançamento.                        |\n",
    "\n",
    "Antes de iniciarmos as análises e testes de modelo, vamos verificar nosso *dataset*, analisando as 5 primeiras entradas e as dimensões do mesmo."
   ]
  },
  {
   "cell_type": "code",
   "execution_count": 20,
   "id": "1",
   "metadata": {},
   "outputs": [
    {
     "data": {
      "text/html": [
       "<div>\n",
       "<style scoped>\n",
       "    .dataframe tbody tr th:only-of-type {\n",
       "        vertical-align: middle;\n",
       "    }\n",
       "\n",
       "    .dataframe tbody tr th {\n",
       "        vertical-align: top;\n",
       "    }\n",
       "\n",
       "    .dataframe thead th {\n",
       "        text-align: right;\n",
       "    }\n",
       "</style>\n",
       "<table border=\"1\" class=\"dataframe\">\n",
       "  <thead>\n",
       "    <tr style=\"text-align: right;\">\n",
       "      <th></th>\n",
       "      <th>CONTA</th>\n",
       "      <th>NOME DA CONTA</th>\n",
       "      <th>BANCO</th>\n",
       "      <th>DATA</th>\n",
       "      <th>DESCRIÇÃO DO LANÇAMENTO</th>\n",
       "      <th>VALOR</th>\n",
       "    </tr>\n",
       "  </thead>\n",
       "  <tbody>\n",
       "    <tr>\n",
       "      <th>0</th>\n",
       "      <td>20102</td>\n",
       "      <td>Despesas Administrativas</td>\n",
       "      <td>ITAÚ</td>\n",
       "      <td>01/01/2024</td>\n",
       "      <td>ALUGUEL - Lançamento teste 5506</td>\n",
       "      <td>-548,96</td>\n",
       "    </tr>\n",
       "    <tr>\n",
       "      <th>1</th>\n",
       "      <td>20104</td>\n",
       "      <td>Impostos e Taxas</td>\n",
       "      <td>ITAÚ</td>\n",
       "      <td>02/01/2024</td>\n",
       "      <td>IMPOSTO - Lançamento teste 2679</td>\n",
       "      <td>-4,503,05</td>\n",
       "    </tr>\n",
       "    <tr>\n",
       "      <th>2</th>\n",
       "      <td>30102</td>\n",
       "      <td>Receita de Venda de Produtos</td>\n",
       "      <td>ITAÚ</td>\n",
       "      <td>02/01/2024</td>\n",
       "      <td>VENDA - Lançamento teste 7912</td>\n",
       "      <td>2,653,82</td>\n",
       "    </tr>\n",
       "    <tr>\n",
       "      <th>3</th>\n",
       "      <td>20101</td>\n",
       "      <td>Despesas com Pessoal</td>\n",
       "      <td>ITAÚ</td>\n",
       "      <td>02/01/2024</td>\n",
       "      <td>SALARIO - Lançamento teste 4582</td>\n",
       "      <td>-644,45</td>\n",
       "    </tr>\n",
       "    <tr>\n",
       "      <th>4</th>\n",
       "      <td>20104</td>\n",
       "      <td>Impostos e Taxas</td>\n",
       "      <td>ITAÚ</td>\n",
       "      <td>04/01/2024</td>\n",
       "      <td>IMPOSTO - Lançamento teste 1434</td>\n",
       "      <td>-10,131,84</td>\n",
       "    </tr>\n",
       "  </tbody>\n",
       "</table>\n",
       "</div>"
      ],
      "text/plain": [
       "   CONTA                 NOME DA CONTA BANCO        DATA  \\\n",
       "0  20102      Despesas Administrativas  ITAÚ  01/01/2024   \n",
       "1  20104              Impostos e Taxas  ITAÚ  02/01/2024   \n",
       "2  30102  Receita de Venda de Produtos  ITAÚ  02/01/2024   \n",
       "3  20101          Despesas com Pessoal  ITAÚ  02/01/2024   \n",
       "4  20104              Impostos e Taxas  ITAÚ  04/01/2024   \n",
       "\n",
       "           DESCRIÇÃO DO LANÇAMENTO       VALOR  \n",
       "0  ALUGUEL - Lançamento teste 5506     -548,96  \n",
       "1  IMPOSTO - Lançamento teste 2679   -4,503,05  \n",
       "2    VENDA - Lançamento teste 7912    2,653,82  \n",
       "3  SALARIO - Lançamento teste 4582     -644,45  \n",
       "4  IMPOSTO - Lançamento teste 1434  -10,131,84  "
      ]
     },
     "execution_count": 20,
     "metadata": {},
     "output_type": "execute_result"
    }
   ],
   "source": [
    "# Criando o DataFrame\n",
    "df = pd.read_excel('lanc_cont_ml.xlsx')\n",
    "\n",
    "# Exibindo as primeiras linhas do DataFrame\n",
    "df.head()"
   ]
  },
  {
   "cell_type": "code",
   "execution_count": 21,
   "id": "2",
   "metadata": {},
   "outputs": [
    {
     "name": "stdout",
     "output_type": "stream",
     "text": [
      "O DataFrame possui 500 linhas e 6 colunas.\n",
      "--------------------------------\n",
      "<class 'pandas.core.frame.DataFrame'>\n",
      "RangeIndex: 500 entries, 0 to 499\n",
      "Data columns (total 6 columns):\n",
      " #   Column                   Non-Null Count  Dtype \n",
      "---  ------                   --------------  ----- \n",
      " 0   CONTA                    500 non-null    int64 \n",
      " 1   NOME DA CONTA            500 non-null    object\n",
      " 2   BANCO                    500 non-null    object\n",
      " 3   DATA                     500 non-null    object\n",
      " 4   DESCRIÇÃO DO LANÇAMENTO  500 non-null    object\n",
      " 5   VALOR                    500 non-null    object\n",
      "dtypes: int64(1), object(5)\n",
      "memory usage: 23.6+ KB\n",
      "--------------------------------\n",
      "['CONTA', 'NOME DA CONTA', 'BANCO', 'DATA', 'DESCRIÇÃO DO LANÇAMENTO', 'VALOR']\n",
      "--------------------------------\n",
      "Número de contas contábeis únicas: 10\n",
      "--------------------------------\n"
     ]
    }
   ],
   "source": [
    "# Mostrando a dimensão do DataFrame\n",
    "print(f\"O DataFrame possui {df.shape[0]} linhas e {df.shape[1]} colunas.\")\n",
    "print(\"--------------------------------\")\n",
    "# Informações técnicas do DataFrame\n",
    "df.info()\n",
    "print(\"--------------------------------\")\n",
    "# pegando colunas e colocando em dataset\n",
    "dataset = df.columns.tolist()\n",
    "print(dataset)\n",
    "\n",
    "print(\"--------------------------------\")\n",
    "# Verificando contas contábeis a serem classificadas\n",
    "num_classes = df['CONTA'].nunique()\n",
    "print(f\"Número de contas contábeis únicas: {num_classes}\")\n",
    "print(\"--------------------------------\")"
   ]
  },
  {
   "cell_type": "markdown",
   "id": "476096bf",
   "metadata": {},
   "source": [
    "## Como as contas estão distribuídas?\n",
    "Criando um *DataFrame* para mostrar a distribuição de lançamentos por conta contábil. Logo em seguida, plotarei esses dados para melhor visualização"
   ]
  },
  {
   "cell_type": "code",
   "execution_count": 22,
   "id": "3",
   "metadata": {},
   "outputs": [
    {
     "name": "stdout",
     "output_type": "stream",
     "text": [
      "Distribuição de lançamentos por conta contábil: \n",
      "CONTA\n",
      "20102    67\n",
      "20105    60\n",
      "30102    52\n",
      "30103    52\n",
      "30101    51\n",
      "20103    49\n",
      "20106    45\n",
      "20104    42\n",
      "20107    42\n",
      "20101    40\n",
      "Name: count, dtype: int64\n",
      "--------------------------------\n"
     ]
    },
    {
     "data": {
      "application/vnd.plotly.v1+json": {
       "config": {
        "plotlyServerURL": "https://plot.ly"
       },
       "data": [
        {
         "hovertemplate": "Conta Contábil=%{x}<br>Número de Lançamentos=%{y}<extra></extra>",
         "legendgroup": "20102",
         "marker": {
          "color": "#636EFA",
          "pattern": {
           "shape": ""
          }
         },
         "name": "20102",
         "orientation": "v",
         "showlegend": true,
         "textfont": {
          "size": 12
         },
         "textposition": "outside",
         "texttemplate": "%{y}",
         "type": "bar",
         "x": [
          "20102"
         ],
         "xaxis": "x",
         "y": {
          "bdata": "Qw==",
          "dtype": "i1"
         },
         "yaxis": "y"
        },
        {
         "hovertemplate": "Conta Contábil=%{x}<br>Número de Lançamentos=%{y}<extra></extra>",
         "legendgroup": "20105",
         "marker": {
          "color": "#EF553B",
          "pattern": {
           "shape": ""
          }
         },
         "name": "20105",
         "orientation": "v",
         "showlegend": true,
         "textfont": {
          "size": 12
         },
         "textposition": "outside",
         "texttemplate": "%{y}",
         "type": "bar",
         "x": [
          "20105"
         ],
         "xaxis": "x",
         "y": {
          "bdata": "PA==",
          "dtype": "i1"
         },
         "yaxis": "y"
        },
        {
         "hovertemplate": "Conta Contábil=%{x}<br>Número de Lançamentos=%{y}<extra></extra>",
         "legendgroup": "30102",
         "marker": {
          "color": "#00CC96",
          "pattern": {
           "shape": ""
          }
         },
         "name": "30102",
         "orientation": "v",
         "showlegend": true,
         "textfont": {
          "size": 12
         },
         "textposition": "outside",
         "texttemplate": "%{y}",
         "type": "bar",
         "x": [
          "30102"
         ],
         "xaxis": "x",
         "y": {
          "bdata": "NA==",
          "dtype": "i1"
         },
         "yaxis": "y"
        },
        {
         "hovertemplate": "Conta Contábil=%{x}<br>Número de Lançamentos=%{y}<extra></extra>",
         "legendgroup": "30103",
         "marker": {
          "color": "#AB63FA",
          "pattern": {
           "shape": ""
          }
         },
         "name": "30103",
         "orientation": "v",
         "showlegend": true,
         "textfont": {
          "size": 12
         },
         "textposition": "outside",
         "texttemplate": "%{y}",
         "type": "bar",
         "x": [
          "30103"
         ],
         "xaxis": "x",
         "y": {
          "bdata": "NA==",
          "dtype": "i1"
         },
         "yaxis": "y"
        },
        {
         "hovertemplate": "Conta Contábil=%{x}<br>Número de Lançamentos=%{y}<extra></extra>",
         "legendgroup": "30101",
         "marker": {
          "color": "#FFA15A",
          "pattern": {
           "shape": ""
          }
         },
         "name": "30101",
         "orientation": "v",
         "showlegend": true,
         "textfont": {
          "size": 12
         },
         "textposition": "outside",
         "texttemplate": "%{y}",
         "type": "bar",
         "x": [
          "30101"
         ],
         "xaxis": "x",
         "y": {
          "bdata": "Mw==",
          "dtype": "i1"
         },
         "yaxis": "y"
        },
        {
         "hovertemplate": "Conta Contábil=%{x}<br>Número de Lançamentos=%{y}<extra></extra>",
         "legendgroup": "20103",
         "marker": {
          "color": "#19D3F3",
          "pattern": {
           "shape": ""
          }
         },
         "name": "20103",
         "orientation": "v",
         "showlegend": true,
         "textfont": {
          "size": 12
         },
         "textposition": "outside",
         "texttemplate": "%{y}",
         "type": "bar",
         "x": [
          "20103"
         ],
         "xaxis": "x",
         "y": {
          "bdata": "MQ==",
          "dtype": "i1"
         },
         "yaxis": "y"
        },
        {
         "hovertemplate": "Conta Contábil=%{x}<br>Número de Lançamentos=%{y}<extra></extra>",
         "legendgroup": "20106",
         "marker": {
          "color": "#FF6692",
          "pattern": {
           "shape": ""
          }
         },
         "name": "20106",
         "orientation": "v",
         "showlegend": true,
         "textfont": {
          "size": 12
         },
         "textposition": "outside",
         "texttemplate": "%{y}",
         "type": "bar",
         "x": [
          "20106"
         ],
         "xaxis": "x",
         "y": {
          "bdata": "LQ==",
          "dtype": "i1"
         },
         "yaxis": "y"
        },
        {
         "hovertemplate": "Conta Contábil=%{x}<br>Número de Lançamentos=%{y}<extra></extra>",
         "legendgroup": "20104",
         "marker": {
          "color": "#B6E880",
          "pattern": {
           "shape": ""
          }
         },
         "name": "20104",
         "orientation": "v",
         "showlegend": true,
         "textfont": {
          "size": 12
         },
         "textposition": "outside",
         "texttemplate": "%{y}",
         "type": "bar",
         "x": [
          "20104"
         ],
         "xaxis": "x",
         "y": {
          "bdata": "Kg==",
          "dtype": "i1"
         },
         "yaxis": "y"
        },
        {
         "hovertemplate": "Conta Contábil=%{x}<br>Número de Lançamentos=%{y}<extra></extra>",
         "legendgroup": "20107",
         "marker": {
          "color": "#FF97FF",
          "pattern": {
           "shape": ""
          }
         },
         "name": "20107",
         "orientation": "v",
         "showlegend": true,
         "textfont": {
          "size": 12
         },
         "textposition": "outside",
         "texttemplate": "%{y}",
         "type": "bar",
         "x": [
          "20107"
         ],
         "xaxis": "x",
         "y": {
          "bdata": "Kg==",
          "dtype": "i1"
         },
         "yaxis": "y"
        },
        {
         "hovertemplate": "Conta Contábil=%{x}<br>Número de Lançamentos=%{y}<extra></extra>",
         "legendgroup": "20101",
         "marker": {
          "color": "#FECB52",
          "pattern": {
           "shape": ""
          }
         },
         "name": "20101",
         "orientation": "v",
         "showlegend": true,
         "textfont": {
          "size": 12
         },
         "textposition": "outside",
         "texttemplate": "%{y}",
         "type": "bar",
         "x": [
          "20101"
         ],
         "xaxis": "x",
         "y": {
          "bdata": "KA==",
          "dtype": "i1"
         },
         "yaxis": "y"
        }
       ],
       "layout": {
        "barmode": "relative",
        "legend": {
         "title": {
          "text": "Conta Contábil"
         },
         "tracegroupgap": 0
        },
        "template": {
         "data": {
          "bar": [
           {
            "error_x": {
             "color": "#2a3f5f"
            },
            "error_y": {
             "color": "#2a3f5f"
            },
            "marker": {
             "line": {
              "color": "#E5ECF6",
              "width": 0.5
             },
             "pattern": {
              "fillmode": "overlay",
              "size": 10,
              "solidity": 0.2
             }
            },
            "type": "bar"
           }
          ],
          "barpolar": [
           {
            "marker": {
             "line": {
              "color": "#E5ECF6",
              "width": 0.5
             },
             "pattern": {
              "fillmode": "overlay",
              "size": 10,
              "solidity": 0.2
             }
            },
            "type": "barpolar"
           }
          ],
          "carpet": [
           {
            "aaxis": {
             "endlinecolor": "#2a3f5f",
             "gridcolor": "white",
             "linecolor": "white",
             "minorgridcolor": "white",
             "startlinecolor": "#2a3f5f"
            },
            "baxis": {
             "endlinecolor": "#2a3f5f",
             "gridcolor": "white",
             "linecolor": "white",
             "minorgridcolor": "white",
             "startlinecolor": "#2a3f5f"
            },
            "type": "carpet"
           }
          ],
          "choropleth": [
           {
            "colorbar": {
             "outlinewidth": 0,
             "ticks": ""
            },
            "type": "choropleth"
           }
          ],
          "contour": [
           {
            "colorbar": {
             "outlinewidth": 0,
             "ticks": ""
            },
            "colorscale": [
             [
              0,
              "#0d0887"
             ],
             [
              0.1111111111111111,
              "#46039f"
             ],
             [
              0.2222222222222222,
              "#7201a8"
             ],
             [
              0.3333333333333333,
              "#9c179e"
             ],
             [
              0.4444444444444444,
              "#bd3786"
             ],
             [
              0.5555555555555556,
              "#d8576b"
             ],
             [
              0.6666666666666666,
              "#ed7953"
             ],
             [
              0.7777777777777778,
              "#fb9f3a"
             ],
             [
              0.8888888888888888,
              "#fdca26"
             ],
             [
              1,
              "#f0f921"
             ]
            ],
            "type": "contour"
           }
          ],
          "contourcarpet": [
           {
            "colorbar": {
             "outlinewidth": 0,
             "ticks": ""
            },
            "type": "contourcarpet"
           }
          ],
          "heatmap": [
           {
            "colorbar": {
             "outlinewidth": 0,
             "ticks": ""
            },
            "colorscale": [
             [
              0,
              "#0d0887"
             ],
             [
              0.1111111111111111,
              "#46039f"
             ],
             [
              0.2222222222222222,
              "#7201a8"
             ],
             [
              0.3333333333333333,
              "#9c179e"
             ],
             [
              0.4444444444444444,
              "#bd3786"
             ],
             [
              0.5555555555555556,
              "#d8576b"
             ],
             [
              0.6666666666666666,
              "#ed7953"
             ],
             [
              0.7777777777777778,
              "#fb9f3a"
             ],
             [
              0.8888888888888888,
              "#fdca26"
             ],
             [
              1,
              "#f0f921"
             ]
            ],
            "type": "heatmap"
           }
          ],
          "histogram": [
           {
            "marker": {
             "pattern": {
              "fillmode": "overlay",
              "size": 10,
              "solidity": 0.2
             }
            },
            "type": "histogram"
           }
          ],
          "histogram2d": [
           {
            "colorbar": {
             "outlinewidth": 0,
             "ticks": ""
            },
            "colorscale": [
             [
              0,
              "#0d0887"
             ],
             [
              0.1111111111111111,
              "#46039f"
             ],
             [
              0.2222222222222222,
              "#7201a8"
             ],
             [
              0.3333333333333333,
              "#9c179e"
             ],
             [
              0.4444444444444444,
              "#bd3786"
             ],
             [
              0.5555555555555556,
              "#d8576b"
             ],
             [
              0.6666666666666666,
              "#ed7953"
             ],
             [
              0.7777777777777778,
              "#fb9f3a"
             ],
             [
              0.8888888888888888,
              "#fdca26"
             ],
             [
              1,
              "#f0f921"
             ]
            ],
            "type": "histogram2d"
           }
          ],
          "histogram2dcontour": [
           {
            "colorbar": {
             "outlinewidth": 0,
             "ticks": ""
            },
            "colorscale": [
             [
              0,
              "#0d0887"
             ],
             [
              0.1111111111111111,
              "#46039f"
             ],
             [
              0.2222222222222222,
              "#7201a8"
             ],
             [
              0.3333333333333333,
              "#9c179e"
             ],
             [
              0.4444444444444444,
              "#bd3786"
             ],
             [
              0.5555555555555556,
              "#d8576b"
             ],
             [
              0.6666666666666666,
              "#ed7953"
             ],
             [
              0.7777777777777778,
              "#fb9f3a"
             ],
             [
              0.8888888888888888,
              "#fdca26"
             ],
             [
              1,
              "#f0f921"
             ]
            ],
            "type": "histogram2dcontour"
           }
          ],
          "mesh3d": [
           {
            "colorbar": {
             "outlinewidth": 0,
             "ticks": ""
            },
            "type": "mesh3d"
           }
          ],
          "parcoords": [
           {
            "line": {
             "colorbar": {
              "outlinewidth": 0,
              "ticks": ""
             }
            },
            "type": "parcoords"
           }
          ],
          "pie": [
           {
            "automargin": true,
            "type": "pie"
           }
          ],
          "scatter": [
           {
            "fillpattern": {
             "fillmode": "overlay",
             "size": 10,
             "solidity": 0.2
            },
            "type": "scatter"
           }
          ],
          "scatter3d": [
           {
            "line": {
             "colorbar": {
              "outlinewidth": 0,
              "ticks": ""
             }
            },
            "marker": {
             "colorbar": {
              "outlinewidth": 0,
              "ticks": ""
             }
            },
            "type": "scatter3d"
           }
          ],
          "scattercarpet": [
           {
            "marker": {
             "colorbar": {
              "outlinewidth": 0,
              "ticks": ""
             }
            },
            "type": "scattercarpet"
           }
          ],
          "scattergeo": [
           {
            "marker": {
             "colorbar": {
              "outlinewidth": 0,
              "ticks": ""
             }
            },
            "type": "scattergeo"
           }
          ],
          "scattergl": [
           {
            "marker": {
             "colorbar": {
              "outlinewidth": 0,
              "ticks": ""
             }
            },
            "type": "scattergl"
           }
          ],
          "scattermap": [
           {
            "marker": {
             "colorbar": {
              "outlinewidth": 0,
              "ticks": ""
             }
            },
            "type": "scattermap"
           }
          ],
          "scattermapbox": [
           {
            "marker": {
             "colorbar": {
              "outlinewidth": 0,
              "ticks": ""
             }
            },
            "type": "scattermapbox"
           }
          ],
          "scatterpolar": [
           {
            "marker": {
             "colorbar": {
              "outlinewidth": 0,
              "ticks": ""
             }
            },
            "type": "scatterpolar"
           }
          ],
          "scatterpolargl": [
           {
            "marker": {
             "colorbar": {
              "outlinewidth": 0,
              "ticks": ""
             }
            },
            "type": "scatterpolargl"
           }
          ],
          "scatterternary": [
           {
            "marker": {
             "colorbar": {
              "outlinewidth": 0,
              "ticks": ""
             }
            },
            "type": "scatterternary"
           }
          ],
          "surface": [
           {
            "colorbar": {
             "outlinewidth": 0,
             "ticks": ""
            },
            "colorscale": [
             [
              0,
              "#0d0887"
             ],
             [
              0.1111111111111111,
              "#46039f"
             ],
             [
              0.2222222222222222,
              "#7201a8"
             ],
             [
              0.3333333333333333,
              "#9c179e"
             ],
             [
              0.4444444444444444,
              "#bd3786"
             ],
             [
              0.5555555555555556,
              "#d8576b"
             ],
             [
              0.6666666666666666,
              "#ed7953"
             ],
             [
              0.7777777777777778,
              "#fb9f3a"
             ],
             [
              0.8888888888888888,
              "#fdca26"
             ],
             [
              1,
              "#f0f921"
             ]
            ],
            "type": "surface"
           }
          ],
          "table": [
           {
            "cells": {
             "fill": {
              "color": "#EBF0F8"
             },
             "line": {
              "color": "white"
             }
            },
            "header": {
             "fill": {
              "color": "#C8D4E3"
             },
             "line": {
              "color": "white"
             }
            },
            "type": "table"
           }
          ]
         },
         "layout": {
          "annotationdefaults": {
           "arrowcolor": "#2a3f5f",
           "arrowhead": 0,
           "arrowwidth": 1
          },
          "autotypenumbers": "strict",
          "coloraxis": {
           "colorbar": {
            "outlinewidth": 0,
            "ticks": ""
           }
          },
          "colorscale": {
           "diverging": [
            [
             0,
             "#8e0152"
            ],
            [
             0.1,
             "#c51b7d"
            ],
            [
             0.2,
             "#de77ae"
            ],
            [
             0.3,
             "#f1b6da"
            ],
            [
             0.4,
             "#fde0ef"
            ],
            [
             0.5,
             "#f7f7f7"
            ],
            [
             0.6,
             "#e6f5d0"
            ],
            [
             0.7,
             "#b8e186"
            ],
            [
             0.8,
             "#7fbc41"
            ],
            [
             0.9,
             "#4d9221"
            ],
            [
             1,
             "#276419"
            ]
           ],
           "sequential": [
            [
             0,
             "#0d0887"
            ],
            [
             0.1111111111111111,
             "#46039f"
            ],
            [
             0.2222222222222222,
             "#7201a8"
            ],
            [
             0.3333333333333333,
             "#9c179e"
            ],
            [
             0.4444444444444444,
             "#bd3786"
            ],
            [
             0.5555555555555556,
             "#d8576b"
            ],
            [
             0.6666666666666666,
             "#ed7953"
            ],
            [
             0.7777777777777778,
             "#fb9f3a"
            ],
            [
             0.8888888888888888,
             "#fdca26"
            ],
            [
             1,
             "#f0f921"
            ]
           ],
           "sequentialminus": [
            [
             0,
             "#0d0887"
            ],
            [
             0.1111111111111111,
             "#46039f"
            ],
            [
             0.2222222222222222,
             "#7201a8"
            ],
            [
             0.3333333333333333,
             "#9c179e"
            ],
            [
             0.4444444444444444,
             "#bd3786"
            ],
            [
             0.5555555555555556,
             "#d8576b"
            ],
            [
             0.6666666666666666,
             "#ed7953"
            ],
            [
             0.7777777777777778,
             "#fb9f3a"
            ],
            [
             0.8888888888888888,
             "#fdca26"
            ],
            [
             1,
             "#f0f921"
            ]
           ]
          },
          "colorway": [
           "#636efa",
           "#EF553B",
           "#00cc96",
           "#ab63fa",
           "#FFA15A",
           "#19d3f3",
           "#FF6692",
           "#B6E880",
           "#FF97FF",
           "#FECB52"
          ],
          "font": {
           "color": "#2a3f5f"
          },
          "geo": {
           "bgcolor": "white",
           "lakecolor": "white",
           "landcolor": "#E5ECF6",
           "showlakes": true,
           "showland": true,
           "subunitcolor": "white"
          },
          "hoverlabel": {
           "align": "left"
          },
          "hovermode": "closest",
          "mapbox": {
           "style": "light"
          },
          "paper_bgcolor": "white",
          "plot_bgcolor": "#E5ECF6",
          "polar": {
           "angularaxis": {
            "gridcolor": "white",
            "linecolor": "white",
            "ticks": ""
           },
           "bgcolor": "#E5ECF6",
           "radialaxis": {
            "gridcolor": "white",
            "linecolor": "white",
            "ticks": ""
           }
          },
          "scene": {
           "xaxis": {
            "backgroundcolor": "#E5ECF6",
            "gridcolor": "white",
            "gridwidth": 2,
            "linecolor": "white",
            "showbackground": true,
            "ticks": "",
            "zerolinecolor": "white"
           },
           "yaxis": {
            "backgroundcolor": "#E5ECF6",
            "gridcolor": "white",
            "gridwidth": 2,
            "linecolor": "white",
            "showbackground": true,
            "ticks": "",
            "zerolinecolor": "white"
           },
           "zaxis": {
            "backgroundcolor": "#E5ECF6",
            "gridcolor": "white",
            "gridwidth": 2,
            "linecolor": "white",
            "showbackground": true,
            "ticks": "",
            "zerolinecolor": "white"
           }
          },
          "shapedefaults": {
           "line": {
            "color": "#2a3f5f"
           }
          },
          "ternary": {
           "aaxis": {
            "gridcolor": "white",
            "linecolor": "white",
            "ticks": ""
           },
           "baxis": {
            "gridcolor": "white",
            "linecolor": "white",
            "ticks": ""
           },
           "bgcolor": "#E5ECF6",
           "caxis": {
            "gridcolor": "white",
            "linecolor": "white",
            "ticks": ""
           }
          },
          "title": {
           "x": 0.05
          },
          "xaxis": {
           "automargin": true,
           "gridcolor": "white",
           "linecolor": "white",
           "ticks": "",
           "title": {
            "standoff": 15
           },
           "zerolinecolor": "white",
           "zerolinewidth": 2
          },
          "yaxis": {
           "automargin": true,
           "gridcolor": "white",
           "linecolor": "white",
           "ticks": "",
           "title": {
            "standoff": 15
           },
           "zerolinecolor": "white",
           "zerolinewidth": 2
          }
         }
        },
        "title": {
         "text": "Distribuição de Lançamentos por Conta Contábil"
        },
        "xaxis": {
         "anchor": "y",
         "categoryarray": [
          "20102",
          "20105",
          "30102",
          "30103",
          "30101",
          "20103",
          "20106",
          "20104",
          "20107",
          "20101"
         ],
         "categoryorder": "array",
         "domain": [
          0,
          1
         ],
         "tickangle": -90,
         "title": {
          "text": "Conta Contábil"
         }
        },
        "yaxis": {
         "anchor": "x",
         "domain": [
          0,
          1
         ],
         "title": {
          "text": "Número de Lançamentos"
         }
        }
       }
      }
     },
     "metadata": {},
     "output_type": "display_data"
    }
   ],
   "source": [
    "# Montagem de grafico de barras para visualizar a distribuição das classes\n",
    "print(\"Distribuição de lançamentos por conta contábil: \")\n",
    "count_contas = df['CONTA'].value_counts()\n",
    "print(count_contas)\n",
    "print(\"--------------------------------\")\n",
    "# Criando DF para Plotly\n",
    "df_plot = count_contas.reset_index()\n",
    "df_plot.columns = [\"Conta Contábil\", \"Número de Lançamentos\"]\n",
    "# Garante que a coluna de contas seja tratada como texto\n",
    "df_plot[\"Conta Contábil\"] = df_plot[\"Conta Contábil\"].astype(str)\n",
    "\n",
    "# Adicionado o parâmetro 'text_auto=True' para mostrar os valores\n",
    "fig = px.bar(\n",
    "    df_plot,\n",
    "    x=\"Conta Contábil\",\n",
    "    y=\"Número de Lançamentos\",\n",
    "    title=\"Distribuição de Lançamentos por Conta Contábil\",\n",
    "    color=\"Conta Contábil\",  \n",
    "    color_discrete_sequence=px.colors.qualitative.Plotly,  \n",
    "    text_auto=True,\n",
    ")\n",
    "\n",
    "# Customiza a aparência do texto nas barras para melhor legibilidade\n",
    "fig.update_traces(\n",
    "    textposition=\"outside\", textfont_size=12  # Coloca o texto fora (acima) da barra\n",
    ")\n",
    "fig.update_layout(xaxis_tickangle=-90)\n",
    "fig.show()"
   ]
  },
  {
   "cell_type": "markdown",
   "id": "f5d98f1a",
   "metadata": {},
   "source": [
    "## Como podemos tratar o texto para fazer a classificação?\n",
    "Para tratar o texto, vamos utilizar o *nltk* para limpar o texto com as *stopwords*.\n",
    "\n",
    "- **Stopwords**: são as palavras mais comuns e frequentes em um idioma ou contexto, que servem como conexão para formar uma oração ou frase. Elas podem ser removidas do texto para melhorar a qualidade da classificação.\n",
    "\n",
    "O *dataset* a seguir faz a comparação do histórico original com o histórico limpo."
   ]
  },
  {
   "cell_type": "code",
   "execution_count": 23,
   "id": "4",
   "metadata": {},
   "outputs": [
    {
     "name": "stdout",
     "output_type": "stream",
     "text": [
      "Limpando os textos das descrições...\n",
      "Comparação entre texto original e texto limpo:\n"
     ]
    },
    {
     "data": {
      "text/html": [
       "<div>\n",
       "<style scoped>\n",
       "    .dataframe tbody tr th:only-of-type {\n",
       "        vertical-align: middle;\n",
       "    }\n",
       "\n",
       "    .dataframe tbody tr th {\n",
       "        vertical-align: top;\n",
       "    }\n",
       "\n",
       "    .dataframe thead th {\n",
       "        text-align: right;\n",
       "    }\n",
       "</style>\n",
       "<table border=\"1\" class=\"dataframe\">\n",
       "  <thead>\n",
       "    <tr style=\"text-align: right;\">\n",
       "      <th></th>\n",
       "      <th>DESCRIÇÃO DO LANÇAMENTO</th>\n",
       "      <th>DESCRIÇÃO_LIMPA</th>\n",
       "    </tr>\n",
       "  </thead>\n",
       "  <tbody>\n",
       "    <tr>\n",
       "      <th>0</th>\n",
       "      <td>ALUGUEL - Lançamento teste 5506</td>\n",
       "      <td>aluguel lançamento teste</td>\n",
       "    </tr>\n",
       "    <tr>\n",
       "      <th>1</th>\n",
       "      <td>IMPOSTO - Lançamento teste 2679</td>\n",
       "      <td>imposto lançamento teste</td>\n",
       "    </tr>\n",
       "    <tr>\n",
       "      <th>2</th>\n",
       "      <td>VENDA - Lançamento teste 7912</td>\n",
       "      <td>venda lançamento teste</td>\n",
       "    </tr>\n",
       "    <tr>\n",
       "      <th>3</th>\n",
       "      <td>SALARIO - Lançamento teste 4582</td>\n",
       "      <td>salario lançamento teste</td>\n",
       "    </tr>\n",
       "    <tr>\n",
       "      <th>4</th>\n",
       "      <td>IMPOSTO - Lançamento teste 1434</td>\n",
       "      <td>imposto lançamento teste</td>\n",
       "    </tr>\n",
       "    <tr>\n",
       "      <th>5</th>\n",
       "      <td>VENDA - Lançamento teste 9928</td>\n",
       "      <td>venda lançamento teste</td>\n",
       "    </tr>\n",
       "    <tr>\n",
       "      <th>6</th>\n",
       "      <td>VIAGEM - Lançamento teste 5557</td>\n",
       "      <td>viagem lançamento teste</td>\n",
       "    </tr>\n",
       "    <tr>\n",
       "      <th>7</th>\n",
       "      <td>SALARIO - Lançamento teste 3615</td>\n",
       "      <td>salario lançamento teste</td>\n",
       "    </tr>\n",
       "    <tr>\n",
       "      <th>8</th>\n",
       "      <td>VIAGEM - Lançamento teste 3547</td>\n",
       "      <td>viagem lançamento teste</td>\n",
       "    </tr>\n",
       "    <tr>\n",
       "      <th>9</th>\n",
       "      <td>IMPOSTO - Lançamento teste 6514</td>\n",
       "      <td>imposto lançamento teste</td>\n",
       "    </tr>\n",
       "  </tbody>\n",
       "</table>\n",
       "</div>"
      ],
      "text/plain": [
       "           DESCRIÇÃO DO LANÇAMENTO           DESCRIÇÃO_LIMPA\n",
       "0  ALUGUEL - Lançamento teste 5506  aluguel lançamento teste\n",
       "1  IMPOSTO - Lançamento teste 2679  imposto lançamento teste\n",
       "2    VENDA - Lançamento teste 7912    venda lançamento teste\n",
       "3  SALARIO - Lançamento teste 4582  salario lançamento teste\n",
       "4  IMPOSTO - Lançamento teste 1434  imposto lançamento teste\n",
       "5    VENDA - Lançamento teste 9928    venda lançamento teste\n",
       "6   VIAGEM - Lançamento teste 5557   viagem lançamento teste\n",
       "7  SALARIO - Lançamento teste 3615  salario lançamento teste\n",
       "8   VIAGEM - Lançamento teste 3547   viagem lançamento teste\n",
       "9  IMPOSTO - Lançamento teste 6514  imposto lançamento teste"
      ]
     },
     "execution_count": 23,
     "metadata": {},
     "output_type": "execute_result"
    }
   ],
   "source": [
    "# Tratamento de texto - descrição\n",
    "import re\n",
    "from nltk.corpus import stopwords\n",
    "\n",
    "# função para limpar o texto\n",
    "def clean_text(text):\n",
    "    # transformar em minúsculas\n",
    "    text = str(text).lower()\n",
    "    # remover numeros\n",
    "    text = re.sub(r'\\d+', ' ', text)\n",
    "    # remover pontuação e caracteres especiais\n",
    "    text = re.sub(r'[^\\w\\s]', ' ', text)\n",
    "    # remover espaços extras\n",
    "    text = text.strip()\n",
    "    text = re.sub(r'\\s+', ' ', text)\n",
    "    # remover stopwords\n",
    "    stopwords_pt = set(stopwords.words('portuguese'))\n",
    "    # Opcional: adicionar stopwords condizentes ao contexto\n",
    "    custom_stopwords = {'Lançamento', 'pagto', 'aplicações'}\n",
    "    # update\n",
    "    stopwords_pt.update(custom_stopwords)\n",
    "    # Separar as palavras\n",
    "    words = text.split()\n",
    "    # Remover as stopwords\n",
    "    words_filtered = [word for word in words if word not in stopwords_pt and len(word) > 2]\n",
    "    # Juntar as palavras novamente\n",
    "    clean_text = ' '.join(words_filtered)\n",
    "    return clean_text\n",
    "\n",
    "print(\"Limpando os textos das descrições...\")\n",
    "# Aplicando a função de limpeza ao DataFrame\n",
    "# Criando uma coluna com o texto limpo\n",
    "df[\"DESCRIÇÃO_LIMPA\"] = df[\"DESCRIÇÃO DO LANÇAMENTO\"].apply(clean_text)\n",
    "# Comparação\n",
    "print(\"Comparação entre texto original e texto limpo:\")\n",
    "df[[\"DESCRIÇÃO DO LANÇAMENTO\", \"DESCRIÇÃO_LIMPA\"]].head(10)"
   ]
  },
  {
   "cell_type": "markdown",
   "id": "ed3c7109",
   "metadata": {},
   "source": [
    "## Quais são as palavras mais frequentes?\n",
    "O *dataset* a seguir mostra as palavras mais frequentes após o tratamento do histórico."
   ]
  },
  {
   "cell_type": "code",
   "execution_count": 24,
   "id": "5",
   "metadata": {},
   "outputs": [
    {
     "name": "stdout",
     "output_type": "stream",
     "text": [
      "Palavras mais frequentes nas descrições limpas:\n"
     ]
    },
    {
     "data": {
      "text/html": [
       "<div>\n",
       "<style scoped>\n",
       "    .dataframe tbody tr th:only-of-type {\n",
       "        vertical-align: middle;\n",
       "    }\n",
       "\n",
       "    .dataframe tbody tr th {\n",
       "        vertical-align: top;\n",
       "    }\n",
       "\n",
       "    .dataframe thead th {\n",
       "        text-align: right;\n",
       "    }\n",
       "</style>\n",
       "<table border=\"1\" class=\"dataframe\">\n",
       "  <thead>\n",
       "    <tr style=\"text-align: right;\">\n",
       "      <th></th>\n",
       "      <th>Palavra</th>\n",
       "      <th>Frequência</th>\n",
       "    </tr>\n",
       "  </thead>\n",
       "  <tbody>\n",
       "    <tr>\n",
       "      <th>0</th>\n",
       "      <td>lançamento</td>\n",
       "      <td>500</td>\n",
       "    </tr>\n",
       "    <tr>\n",
       "      <th>1</th>\n",
       "      <td>teste</td>\n",
       "      <td>500</td>\n",
       "    </tr>\n",
       "    <tr>\n",
       "      <th>2</th>\n",
       "      <td>aluguel</td>\n",
       "      <td>67</td>\n",
       "    </tr>\n",
       "    <tr>\n",
       "      <th>3</th>\n",
       "      <td>fornecedor</td>\n",
       "      <td>60</td>\n",
       "    </tr>\n",
       "    <tr>\n",
       "      <th>4</th>\n",
       "      <td>venda</td>\n",
       "      <td>52</td>\n",
       "    </tr>\n",
       "    <tr>\n",
       "      <th>5</th>\n",
       "      <td>rendimento</td>\n",
       "      <td>52</td>\n",
       "    </tr>\n",
       "    <tr>\n",
       "      <th>6</th>\n",
       "      <td>recebimento</td>\n",
       "      <td>51</td>\n",
       "    </tr>\n",
       "    <tr>\n",
       "      <th>7</th>\n",
       "      <td>anuncio</td>\n",
       "      <td>49</td>\n",
       "    </tr>\n",
       "    <tr>\n",
       "      <th>8</th>\n",
       "      <td>software</td>\n",
       "      <td>45</td>\n",
       "    </tr>\n",
       "    <tr>\n",
       "      <th>9</th>\n",
       "      <td>imposto</td>\n",
       "      <td>42</td>\n",
       "    </tr>\n",
       "    <tr>\n",
       "      <th>10</th>\n",
       "      <td>viagem</td>\n",
       "      <td>42</td>\n",
       "    </tr>\n",
       "    <tr>\n",
       "      <th>11</th>\n",
       "      <td>salario</td>\n",
       "      <td>40</td>\n",
       "    </tr>\n",
       "  </tbody>\n",
       "</table>\n",
       "</div>"
      ],
      "text/plain": [
       "        Palavra  Frequência\n",
       "0    lançamento         500\n",
       "1         teste         500\n",
       "2       aluguel          67\n",
       "3    fornecedor          60\n",
       "4         venda          52\n",
       "5    rendimento          52\n",
       "6   recebimento          51\n",
       "7       anuncio          49\n",
       "8      software          45\n",
       "9       imposto          42\n",
       "10       viagem          42\n",
       "11      salario          40"
      ]
     },
     "execution_count": 24,
     "metadata": {},
     "output_type": "execute_result"
    }
   ],
   "source": [
    "# Análise de frequência das palavras\n",
    "\n",
    "count_vectorizer = CountVectorizer()\n",
    "# matriz de contagem de palavras\n",
    "arr_count = count_vectorizer.fit_transform(df[\"DESCRIÇÃO_LIMPA\"])\n",
    "# Somando as ocorrências de cada palavra\n",
    "sum_words = arr_count.sum(axis=0)\n",
    "# Criando um dicionário de palavras e suas frequências\n",
    "words_freq = [(word, sum_words[0, idx]) for word, idx in count_vectorizer.vocabulary_.items()]\n",
    "# Ordenar lista da mais frequente para a menos frequente\n",
    "words_freq_sorted = sorted(words_freq, key=lambda x: x[1], reverse=True)\n",
    "# Criando DataFrame\n",
    "df_words_freq = pd.DataFrame(words_freq_sorted, columns=['Palavra', 'Frequência'])\n",
    "\n",
    "# Mostrando as palavras mais frequentes\n",
    "print(\"Palavras mais frequentes nas descrições limpas:\")\n",
    "df_words_freq.head(50) "
   ]
  },
  {
   "cell_type": "markdown",
   "id": "49a76c93",
   "metadata": {},
   "source": [
    "## Criando o modelo\n",
    "Antes de criar o modelo, é criado um filtro para prepará-lo. A divisão do modelo deve ter estratificação com pelo menos 5 ocorrências por classe. A divisão entre dados é composta por: **70% treino e 30% teste**.\n",
    "Lembrando que:\n",
    "\n",
    "##### **X = coluna com histórico**\n",
    "##### **y = coluna com as contas contábeis**"
   ]
  },
  {
   "cell_type": "code",
   "execution_count": 25,
   "id": "6",
   "metadata": {},
   "outputs": [
    {
     "name": "stdout",
     "output_type": "stream",
     "text": [
      "Modelo treinado com sucesso!\n"
     ]
    }
   ],
   "source": [
    "# Criando filtro para preparar modelo. A divisão do modelo deve ter estratificação com pelo menos 5 ocorrências por classe\n",
    "count_acc = df['CONTA'].value_counts()\n",
    "valid_acc = count_acc[count_acc >= 5].index\n",
    "df_filtered = df[df['CONTA'].isin(valid_acc)]\n",
    "\n",
    "# Criando primeiro modelo de teste\n",
    "X = df_filtered[\"DESCRIÇÃO_LIMPA\"]\n",
    "y = df_filtered[\"CONTA\"]\n",
    "# Divisão entre dados de treino e teste: 70% treino e 30% teste\n",
    "X_train, X_test, y_train, y_test = train_test_split(X, y, test_size=0.3, random_state=42, stratify=y)\n",
    "# Definir e criar pipeline\n",
    "text_clf_pipeline = Pipeline([\n",
    "    ('tfidf', TfidfVectorizer()),\n",
    "    ('clf', MultinomialNB()),\n",
    "])   \n",
    "# Treinando o pipeline\n",
    "text_clf_pipeline.fit(X_train, y_train)\n",
    "print(\"Modelo treinado com sucesso!\")    "
   ]
  },
  {
   "cell_type": "markdown",
   "id": "91d8aecf",
   "metadata": {},
   "source": [
    "# Relatorio de classificação\n",
    "O relatório nos mostrará o resultado da classificação dividido em 4 colunas:\n",
    "\n",
    "- **Precision**: de toda a classificação, qual a porcentagem de acertos? (Mede a qualidade da previsão)\n",
    "- **Recall**: de todos os exemplos que realmente eram de *X*, quantos o modelo conseguiu encontrar? (Mede a quantidade de acertos)\n",
    "- **F1-Score**: uma média entre *Precision* e *Recall*. Ótima métrica para verificar o balanceamento do *dataset*\n",
    "- **Accuracy**: Acurácia é a porcentagem de acertos em relação ao total de previsões\n",
    "(Acurácia = Número de acertos / Número total de amostras)\n",
    "\n",
    "## Matriz de confusão\n",
    "Para ter uma visão mais detalhada de onde tivemos acertos e erros, usaremos a Matriz de Confusão\n",
    "\n",
    "- Linhas representam a conta real\n",
    "- Colunas representam a conta prevista pelo modelo\n",
    "- Os números na diagonal principal são os acertos\n",
    "- Qualquer número fora da diagonal representa um erro de classificação"
   ]
  },
  {
   "cell_type": "code",
   "execution_count": 26,
   "id": "7",
   "metadata": {},
   "outputs": [
    {
     "name": "stdout",
     "output_type": "stream",
     "text": [
      "Relatório de Classificação: \n",
      "              precision    recall  f1-score   support\n",
      "\n",
      "       20101       1.00      1.00      1.00        12\n",
      "       20102       1.00      1.00      1.00        20\n",
      "       20103       1.00      1.00      1.00        15\n",
      "       20104       1.00      1.00      1.00        13\n",
      "       20105       1.00      1.00      1.00        18\n",
      "       20106       1.00      1.00      1.00        13\n",
      "       20107       1.00      1.00      1.00        12\n",
      "       30101       1.00      1.00      1.00        15\n",
      "       30102       1.00      1.00      1.00        16\n",
      "       30103       1.00      1.00      1.00        16\n",
      "\n",
      "    accuracy                           1.00       150\n",
      "   macro avg       1.00      1.00      1.00       150\n",
      "weighted avg       1.00      1.00      1.00       150\n",
      "\n"
     ]
    },
    {
     "data": {
      "application/vnd.plotly.v1+json": {
       "config": {
        "plotlyServerURL": "https://plot.ly"
       },
       "data": [
        {
         "coloraxis": "coloraxis",
         "hovertemplate": "<b>Conta Prevista</b>: %{x}<br><b>Conta Real</b>: %{y}<br><b>Número de Ocorrências</b>: %{z}<extra></extra>",
         "name": "0",
         "texttemplate": "%{z}",
         "type": "heatmap",
         "x": [
          "20101",
          "20102",
          "20103",
          "20104",
          "20105",
          "20106",
          "20107",
          "30101",
          "30102",
          "30103"
         ],
         "xaxis": "x",
         "y": [
          "20101",
          "20102",
          "20103",
          "20104",
          "20105",
          "20106",
          "20107",
          "30101",
          "30102",
          "30103"
         ],
         "yaxis": "y",
         "z": {
          "bdata": "DAAAAAAAAAAAAAAUAAAAAAAAAAAAAA8AAAAAAAAAAAAADQAAAAAAAAAAAAASAAAAAAAAAAAAAA0AAAAAAAAAAAAADAAAAAAAAAAAAAAPAAAAAAAAAAAAABAAAAAAAAAAAAAAEA==",
          "dtype": "i1",
          "shape": "10, 10"
         }
        }
       ],
       "layout": {
        "coloraxis": {
         "colorbar": {
          "title": {
           "text": "<b>Número de Ocorrências</b>"
          }
         },
         "colorscale": [
          [
           0,
           "rgb(247,251,255)"
          ],
          [
           0.125,
           "rgb(222,235,247)"
          ],
          [
           0.25,
           "rgb(198,219,239)"
          ],
          [
           0.375,
           "rgb(158,202,225)"
          ],
          [
           0.5,
           "rgb(107,174,214)"
          ],
          [
           0.625,
           "rgb(66,146,198)"
          ],
          [
           0.75,
           "rgb(33,113,181)"
          ],
          [
           0.875,
           "rgb(8,81,156)"
          ],
          [
           1,
           "rgb(8,48,107)"
          ]
         ]
        },
        "height": 800,
        "template": {
         "data": {
          "bar": [
           {
            "error_x": {
             "color": "#2a3f5f"
            },
            "error_y": {
             "color": "#2a3f5f"
            },
            "marker": {
             "line": {
              "color": "#E5ECF6",
              "width": 0.5
             },
             "pattern": {
              "fillmode": "overlay",
              "size": 10,
              "solidity": 0.2
             }
            },
            "type": "bar"
           }
          ],
          "barpolar": [
           {
            "marker": {
             "line": {
              "color": "#E5ECF6",
              "width": 0.5
             },
             "pattern": {
              "fillmode": "overlay",
              "size": 10,
              "solidity": 0.2
             }
            },
            "type": "barpolar"
           }
          ],
          "carpet": [
           {
            "aaxis": {
             "endlinecolor": "#2a3f5f",
             "gridcolor": "white",
             "linecolor": "white",
             "minorgridcolor": "white",
             "startlinecolor": "#2a3f5f"
            },
            "baxis": {
             "endlinecolor": "#2a3f5f",
             "gridcolor": "white",
             "linecolor": "white",
             "minorgridcolor": "white",
             "startlinecolor": "#2a3f5f"
            },
            "type": "carpet"
           }
          ],
          "choropleth": [
           {
            "colorbar": {
             "outlinewidth": 0,
             "ticks": ""
            },
            "type": "choropleth"
           }
          ],
          "contour": [
           {
            "colorbar": {
             "outlinewidth": 0,
             "ticks": ""
            },
            "colorscale": [
             [
              0,
              "#0d0887"
             ],
             [
              0.1111111111111111,
              "#46039f"
             ],
             [
              0.2222222222222222,
              "#7201a8"
             ],
             [
              0.3333333333333333,
              "#9c179e"
             ],
             [
              0.4444444444444444,
              "#bd3786"
             ],
             [
              0.5555555555555556,
              "#d8576b"
             ],
             [
              0.6666666666666666,
              "#ed7953"
             ],
             [
              0.7777777777777778,
              "#fb9f3a"
             ],
             [
              0.8888888888888888,
              "#fdca26"
             ],
             [
              1,
              "#f0f921"
             ]
            ],
            "type": "contour"
           }
          ],
          "contourcarpet": [
           {
            "colorbar": {
             "outlinewidth": 0,
             "ticks": ""
            },
            "type": "contourcarpet"
           }
          ],
          "heatmap": [
           {
            "colorbar": {
             "outlinewidth": 0,
             "ticks": ""
            },
            "colorscale": [
             [
              0,
              "#0d0887"
             ],
             [
              0.1111111111111111,
              "#46039f"
             ],
             [
              0.2222222222222222,
              "#7201a8"
             ],
             [
              0.3333333333333333,
              "#9c179e"
             ],
             [
              0.4444444444444444,
              "#bd3786"
             ],
             [
              0.5555555555555556,
              "#d8576b"
             ],
             [
              0.6666666666666666,
              "#ed7953"
             ],
             [
              0.7777777777777778,
              "#fb9f3a"
             ],
             [
              0.8888888888888888,
              "#fdca26"
             ],
             [
              1,
              "#f0f921"
             ]
            ],
            "type": "heatmap"
           }
          ],
          "histogram": [
           {
            "marker": {
             "pattern": {
              "fillmode": "overlay",
              "size": 10,
              "solidity": 0.2
             }
            },
            "type": "histogram"
           }
          ],
          "histogram2d": [
           {
            "colorbar": {
             "outlinewidth": 0,
             "ticks": ""
            },
            "colorscale": [
             [
              0,
              "#0d0887"
             ],
             [
              0.1111111111111111,
              "#46039f"
             ],
             [
              0.2222222222222222,
              "#7201a8"
             ],
             [
              0.3333333333333333,
              "#9c179e"
             ],
             [
              0.4444444444444444,
              "#bd3786"
             ],
             [
              0.5555555555555556,
              "#d8576b"
             ],
             [
              0.6666666666666666,
              "#ed7953"
             ],
             [
              0.7777777777777778,
              "#fb9f3a"
             ],
             [
              0.8888888888888888,
              "#fdca26"
             ],
             [
              1,
              "#f0f921"
             ]
            ],
            "type": "histogram2d"
           }
          ],
          "histogram2dcontour": [
           {
            "colorbar": {
             "outlinewidth": 0,
             "ticks": ""
            },
            "colorscale": [
             [
              0,
              "#0d0887"
             ],
             [
              0.1111111111111111,
              "#46039f"
             ],
             [
              0.2222222222222222,
              "#7201a8"
             ],
             [
              0.3333333333333333,
              "#9c179e"
             ],
             [
              0.4444444444444444,
              "#bd3786"
             ],
             [
              0.5555555555555556,
              "#d8576b"
             ],
             [
              0.6666666666666666,
              "#ed7953"
             ],
             [
              0.7777777777777778,
              "#fb9f3a"
             ],
             [
              0.8888888888888888,
              "#fdca26"
             ],
             [
              1,
              "#f0f921"
             ]
            ],
            "type": "histogram2dcontour"
           }
          ],
          "mesh3d": [
           {
            "colorbar": {
             "outlinewidth": 0,
             "ticks": ""
            },
            "type": "mesh3d"
           }
          ],
          "parcoords": [
           {
            "line": {
             "colorbar": {
              "outlinewidth": 0,
              "ticks": ""
             }
            },
            "type": "parcoords"
           }
          ],
          "pie": [
           {
            "automargin": true,
            "type": "pie"
           }
          ],
          "scatter": [
           {
            "fillpattern": {
             "fillmode": "overlay",
             "size": 10,
             "solidity": 0.2
            },
            "type": "scatter"
           }
          ],
          "scatter3d": [
           {
            "line": {
             "colorbar": {
              "outlinewidth": 0,
              "ticks": ""
             }
            },
            "marker": {
             "colorbar": {
              "outlinewidth": 0,
              "ticks": ""
             }
            },
            "type": "scatter3d"
           }
          ],
          "scattercarpet": [
           {
            "marker": {
             "colorbar": {
              "outlinewidth": 0,
              "ticks": ""
             }
            },
            "type": "scattercarpet"
           }
          ],
          "scattergeo": [
           {
            "marker": {
             "colorbar": {
              "outlinewidth": 0,
              "ticks": ""
             }
            },
            "type": "scattergeo"
           }
          ],
          "scattergl": [
           {
            "marker": {
             "colorbar": {
              "outlinewidth": 0,
              "ticks": ""
             }
            },
            "type": "scattergl"
           }
          ],
          "scattermap": [
           {
            "marker": {
             "colorbar": {
              "outlinewidth": 0,
              "ticks": ""
             }
            },
            "type": "scattermap"
           }
          ],
          "scattermapbox": [
           {
            "marker": {
             "colorbar": {
              "outlinewidth": 0,
              "ticks": ""
             }
            },
            "type": "scattermapbox"
           }
          ],
          "scatterpolar": [
           {
            "marker": {
             "colorbar": {
              "outlinewidth": 0,
              "ticks": ""
             }
            },
            "type": "scatterpolar"
           }
          ],
          "scatterpolargl": [
           {
            "marker": {
             "colorbar": {
              "outlinewidth": 0,
              "ticks": ""
             }
            },
            "type": "scatterpolargl"
           }
          ],
          "scatterternary": [
           {
            "marker": {
             "colorbar": {
              "outlinewidth": 0,
              "ticks": ""
             }
            },
            "type": "scatterternary"
           }
          ],
          "surface": [
           {
            "colorbar": {
             "outlinewidth": 0,
             "ticks": ""
            },
            "colorscale": [
             [
              0,
              "#0d0887"
             ],
             [
              0.1111111111111111,
              "#46039f"
             ],
             [
              0.2222222222222222,
              "#7201a8"
             ],
             [
              0.3333333333333333,
              "#9c179e"
             ],
             [
              0.4444444444444444,
              "#bd3786"
             ],
             [
              0.5555555555555556,
              "#d8576b"
             ],
             [
              0.6666666666666666,
              "#ed7953"
             ],
             [
              0.7777777777777778,
              "#fb9f3a"
             ],
             [
              0.8888888888888888,
              "#fdca26"
             ],
             [
              1,
              "#f0f921"
             ]
            ],
            "type": "surface"
           }
          ],
          "table": [
           {
            "cells": {
             "fill": {
              "color": "#EBF0F8"
             },
             "line": {
              "color": "white"
             }
            },
            "header": {
             "fill": {
              "color": "#C8D4E3"
             },
             "line": {
              "color": "white"
             }
            },
            "type": "table"
           }
          ]
         },
         "layout": {
          "annotationdefaults": {
           "arrowcolor": "#2a3f5f",
           "arrowhead": 0,
           "arrowwidth": 1
          },
          "autotypenumbers": "strict",
          "coloraxis": {
           "colorbar": {
            "outlinewidth": 0,
            "ticks": ""
           }
          },
          "colorscale": {
           "diverging": [
            [
             0,
             "#8e0152"
            ],
            [
             0.1,
             "#c51b7d"
            ],
            [
             0.2,
             "#de77ae"
            ],
            [
             0.3,
             "#f1b6da"
            ],
            [
             0.4,
             "#fde0ef"
            ],
            [
             0.5,
             "#f7f7f7"
            ],
            [
             0.6,
             "#e6f5d0"
            ],
            [
             0.7,
             "#b8e186"
            ],
            [
             0.8,
             "#7fbc41"
            ],
            [
             0.9,
             "#4d9221"
            ],
            [
             1,
             "#276419"
            ]
           ],
           "sequential": [
            [
             0,
             "#0d0887"
            ],
            [
             0.1111111111111111,
             "#46039f"
            ],
            [
             0.2222222222222222,
             "#7201a8"
            ],
            [
             0.3333333333333333,
             "#9c179e"
            ],
            [
             0.4444444444444444,
             "#bd3786"
            ],
            [
             0.5555555555555556,
             "#d8576b"
            ],
            [
             0.6666666666666666,
             "#ed7953"
            ],
            [
             0.7777777777777778,
             "#fb9f3a"
            ],
            [
             0.8888888888888888,
             "#fdca26"
            ],
            [
             1,
             "#f0f921"
            ]
           ],
           "sequentialminus": [
            [
             0,
             "#0d0887"
            ],
            [
             0.1111111111111111,
             "#46039f"
            ],
            [
             0.2222222222222222,
             "#7201a8"
            ],
            [
             0.3333333333333333,
             "#9c179e"
            ],
            [
             0.4444444444444444,
             "#bd3786"
            ],
            [
             0.5555555555555556,
             "#d8576b"
            ],
            [
             0.6666666666666666,
             "#ed7953"
            ],
            [
             0.7777777777777778,
             "#fb9f3a"
            ],
            [
             0.8888888888888888,
             "#fdca26"
            ],
            [
             1,
             "#f0f921"
            ]
           ]
          },
          "colorway": [
           "#636efa",
           "#EF553B",
           "#00cc96",
           "#ab63fa",
           "#FFA15A",
           "#19d3f3",
           "#FF6692",
           "#B6E880",
           "#FF97FF",
           "#FECB52"
          ],
          "font": {
           "color": "#2a3f5f"
          },
          "geo": {
           "bgcolor": "white",
           "lakecolor": "white",
           "landcolor": "#E5ECF6",
           "showlakes": true,
           "showland": true,
           "subunitcolor": "white"
          },
          "hoverlabel": {
           "align": "left"
          },
          "hovermode": "closest",
          "mapbox": {
           "style": "light"
          },
          "paper_bgcolor": "white",
          "plot_bgcolor": "#E5ECF6",
          "polar": {
           "angularaxis": {
            "gridcolor": "white",
            "linecolor": "white",
            "ticks": ""
           },
           "bgcolor": "#E5ECF6",
           "radialaxis": {
            "gridcolor": "white",
            "linecolor": "white",
            "ticks": ""
           }
          },
          "scene": {
           "xaxis": {
            "backgroundcolor": "#E5ECF6",
            "gridcolor": "white",
            "gridwidth": 2,
            "linecolor": "white",
            "showbackground": true,
            "ticks": "",
            "zerolinecolor": "white"
           },
           "yaxis": {
            "backgroundcolor": "#E5ECF6",
            "gridcolor": "white",
            "gridwidth": 2,
            "linecolor": "white",
            "showbackground": true,
            "ticks": "",
            "zerolinecolor": "white"
           },
           "zaxis": {
            "backgroundcolor": "#E5ECF6",
            "gridcolor": "white",
            "gridwidth": 2,
            "linecolor": "white",
            "showbackground": true,
            "ticks": "",
            "zerolinecolor": "white"
           }
          },
          "shapedefaults": {
           "line": {
            "color": "#2a3f5f"
           }
          },
          "ternary": {
           "aaxis": {
            "gridcolor": "white",
            "linecolor": "white",
            "ticks": ""
           },
           "baxis": {
            "gridcolor": "white",
            "linecolor": "white",
            "ticks": ""
           },
           "bgcolor": "#E5ECF6",
           "caxis": {
            "gridcolor": "white",
            "linecolor": "white",
            "ticks": ""
           }
          },
          "title": {
           "x": 0.05
          },
          "xaxis": {
           "automargin": true,
           "gridcolor": "white",
           "linecolor": "white",
           "ticks": "",
           "title": {
            "standoff": 15
           },
           "zerolinecolor": "white",
           "zerolinewidth": 2
          },
          "yaxis": {
           "automargin": true,
           "gridcolor": "white",
           "linecolor": "white",
           "ticks": "",
           "title": {
            "standoff": 15
           },
           "zerolinecolor": "white",
           "zerolinewidth": 2
          }
         }
        },
        "title": {
         "text": "<b>Matriz de Confusão</b>",
         "x": 0.5
        },
        "width": 800,
        "xaxis": {
         "anchor": "y",
         "constrain": "domain",
         "domain": [
          0,
          1
         ],
         "scaleanchor": "y",
         "tickangle": -45,
         "title": {
          "text": "<b>Conta Prevista</b>"
         }
        },
        "yaxis": {
         "anchor": "x",
         "autorange": "reversed",
         "constrain": "domain",
         "domain": [
          0,
          1
         ],
         "title": {
          "text": "<b>Conta Real</b>"
         }
        }
       }
      }
     },
     "metadata": {},
     "output_type": "display_data"
    }
   ],
   "source": [
    "# Avaliando o modelo, criando matriz de confusão e relatório de classificação\n",
    "# Usando o pipeline para fazer previsões\n",
    "y_pred = text_clf_pipeline.predict(X_test)\n",
    "# Imprimindo o relatório de classificação\n",
    "print(\"Relatório de Classificação: \")\n",
    "print(classification_report(y_test, y_pred))\n",
    "# Gerar e visualizar matriz de confusão\n",
    "conf_matrix = confusion_matrix(y_test, y_pred)\n",
    "labels = sorted(y_test.unique().astype(str))  # Garantir que os rótulos estejam em ordem e como strings\n",
    "# Criando matriz de confusão com Plotly\n",
    "fig = px.imshow(\n",
    "    conf_matrix,\n",
    "    x=labels,\n",
    "    y=labels,\n",
    "    text_auto=True,\n",
    "    title=\"<b>Matriz de Confusão</b>\",\n",
    "    labels=dict(x=\"<b>Conta Prevista</b>\", y=\"<b>Conta Real</b>\", color=\"<b>Número de Ocorrências</b>\"),\n",
    "    color_continuous_scale=px.colors.sequential.Blues\n",
    ")\n",
    "# Ajuste de layout para melhor visualização\n",
    "fig.update_layout(\n",
    "    width=800,\n",
    "    height=800,\n",
    "    xaxis_tickangle=-45,\n",
    "    title_x=0.5  # Centraliza o título\n",
    ")\n",
    "fig.show()"
   ]
  },
  {
   "cell_type": "markdown",
   "id": "6bc9dfeb",
   "metadata": {},
   "source": [
    "## Análise de keywords\n",
    "Aqui será analisado a distribuição das keywords, dividindo seus resultados em 3 colunas:\n",
    "\n",
    "- Keyword: são as palavras consideradas como principais na classificação do lançamento\n",
    "- Frequência total: quantas vezes elas aparecem\n",
    "- Conta dominante: nas vezes em que aparecem, em quais contas seus lançamentos costumam ser atribuídos\n",
    "  \n",
    "Através desses dados, é possível prever quais palavras são mais determinantes e menos ambíguas na hora de realizar a classificação dos lançamentos"
   ]
  },
  {
   "cell_type": "code",
   "execution_count": 27,
   "id": "8",
   "metadata": {},
   "outputs": [
    {
     "name": "stdout",
     "output_type": "stream",
     "text": [
      "Iniciando análise de palavras-chave...\n",
      "Vocabulário extraído com 12 palavras.\n"
     ]
    },
    {
     "data": {
      "application/vnd.jupyter.widget-view+json": {
       "model_id": "02e35f57ee364e4fad4620ca4f048d09",
       "version_major": 2,
       "version_minor": 0
      },
      "text/plain": [
       "Analisando palavras:   0%|          | 0/12 [00:00<?, ?it/s]"
      ]
     },
     "metadata": {},
     "output_type": "display_data"
    },
    {
     "name": "stdout",
     "output_type": "stream",
     "text": [
      "Palavras com maior exclusividade:\n",
      "        Keyword  Frequência Total  Conta dominante  \\\n",
      "4    lançamento               500            20102   \n",
      "9         teste               500            20102   \n",
      "0       aluguel                67            20102   \n",
      "1       anuncio                49            20103   \n",
      "2    fornecedor                60            20105   \n",
      "3       imposto                42            20104   \n",
      "5   recebimento                51            30101   \n",
      "6    rendimento                52            30103   \n",
      "7       salario                40            20101   \n",
      "8      software                45            20106   \n",
      "10        venda                52            30102   \n",
      "11       viagem                42            20107   \n",
      "\n",
      "    Frequência na conta dominante  Exclusividade (%)  \n",
      "4                              67               13.4  \n",
      "9                              67               13.4  \n",
      "0                              67              100.0  \n",
      "1                              49              100.0  \n",
      "2                              60              100.0  \n",
      "3                              42              100.0  \n",
      "5                              51              100.0  \n",
      "6                              52              100.0  \n",
      "7                              40              100.0  \n",
      "8                              45              100.0  \n",
      "10                             52              100.0  \n",
      "11                             42              100.0  \n",
      "--------------------------------\n",
      "Palavras com menor exclusividade:\n",
      "        Keyword  Frequência Total  Conta dominante  \\\n",
      "0       aluguel                67            20102   \n",
      "1       anuncio                49            20103   \n",
      "2    fornecedor                60            20105   \n",
      "3       imposto                42            20104   \n",
      "5   recebimento                51            30101   \n",
      "6    rendimento                52            30103   \n",
      "7       salario                40            20101   \n",
      "8      software                45            20106   \n",
      "10        venda                52            30102   \n",
      "11       viagem                42            20107   \n",
      "4    lançamento               500            20102   \n",
      "9         teste               500            20102   \n",
      "\n",
      "    Frequência na conta dominante  Exclusividade (%)  \n",
      "0                              67              100.0  \n",
      "1                              49              100.0  \n",
      "2                              60              100.0  \n",
      "3                              42              100.0  \n",
      "5                              51              100.0  \n",
      "6                              52              100.0  \n",
      "7                              40              100.0  \n",
      "8                              45              100.0  \n",
      "10                             52              100.0  \n",
      "11                             42              100.0  \n",
      "4                              67               13.4  \n",
      "9                              67               13.4  \n"
     ]
    }
   ],
   "source": [
    "# Analisando a distribuição das keywords, verificando se pertencem a mais de uma conta\n",
    "from tqdm.auto import tqdm # barra de progresso\n",
    "print(\"Iniciando análise de palavras-chave...\")\n",
    "df_analysis = df_filtered.copy()\n",
    "# Extraindo todo o vocabulário\n",
    "vectorizer_vocab = CountVectorizer(min_df=2)\n",
    "vectorizer_vocab.fit(df_analysis[\"DESCRIÇÃO_LIMPA\"])\n",
    "vocab = vectorizer_vocab.get_feature_names_out()\n",
    "print(f\"Vocabulário extraído com {len(vocab)} palavras.\")\n",
    "\n",
    "# Iterar sobre cada palavra e calcular as estatísticas\n",
    "analysis_list = []\n",
    "for word in tqdm(vocab, desc=\"Analisando palavras\"):\n",
    "    # Filtrar linhas que contêm a palavra\n",
    "    df_word = df_analysis[df_analysis[\"DESCRIÇÃO_LIMPA\"].str.contains(rf'\\b{word}\\b', regex=True)]\n",
    "    if not df_word.empty:\n",
    "        total_freq = len(df_word)\n",
    "        dist = df_word['CONTA'].value_counts()\n",
    "        dominant_acc = dist.index[0]\n",
    "        dominant_freq = dist.iloc[0]\n",
    "        exclusivity = (dominant_freq / total_freq) * 100\n",
    "        \n",
    "        # Guarda os resultados\n",
    "        analysis_list.append({\n",
    "            \"Keyword\": word,\n",
    "            \"Frequência Total\": total_freq,\n",
    "            \"Conta dominante\": dominant_acc,\n",
    "            \"Frequência na conta dominante\": dominant_freq,\n",
    "            \"Exclusividade (%)\": exclusivity\n",
    "        })\n",
    "# Criando DataFrame com os resultados\n",
    "df_keyword_analysis = pd.DataFrame(analysis_list)\n",
    "# Ordenando por exclusividade\n",
    "df_keyword_analysis_sorted = df_keyword_analysis.sort_values(by=\"Exclusividade (%)\", ascending=True)\n",
    "\n",
    "# Mostrando as palavras com maior exclusividade\n",
    "print(\"Palavras com maior exclusividade:\")\n",
    "print(df_keyword_analysis_sorted.head(50))\n",
    "print(\"--------------------------------\")\n",
    "# Menos exclusivas\n",
    "print(\"Palavras com menor exclusividade:\")\n",
    "print(df_keyword_analysis_sorted[df_keyword_analysis_sorted[\"Frequência Total\"] > 10].sort_values(by=\"Exclusividade (%)\", ascending=False).head(30))"
   ]
  },
  {
   "cell_type": "markdown",
   "id": "b0358c91",
   "metadata": {},
   "source": [
    "## Probabilidade de previsão\n",
    "Aqui será mostrado a probabilidade de previsão pela ordem das classes do modelo."
   ]
  },
  {
   "cell_type": "code",
   "execution_count": 28,
   "id": "9",
   "metadata": {},
   "outputs": [
    {
     "name": "stdout",
     "output_type": "stream",
     "text": [
      "Calculando probabilidades de previsão\n",
      "Ordem das classes conforme o modelo: [20101 20102 20103 20104 20105 20106 20107 30101 30102 30103]\n",
      "\n",
      "Resultado final...\n",
      "               DESCRIÇÃO DO LANÇAMENTO              DESCRIÇÃO_LIMPA  \\\n",
      "0      ALUGUEL - Lançamento teste 5506     aluguel lançamento teste   \n",
      "1      IMPOSTO - Lançamento teste 2679     imposto lançamento teste   \n",
      "2        VENDA - Lançamento teste 7912       venda lançamento teste   \n",
      "3      SALARIO - Lançamento teste 4582     salario lançamento teste   \n",
      "4      IMPOSTO - Lançamento teste 1434     imposto lançamento teste   \n",
      "5        VENDA - Lançamento teste 9928       venda lançamento teste   \n",
      "6       VIAGEM - Lançamento teste 5557      viagem lançamento teste   \n",
      "7      SALARIO - Lançamento teste 3615     salario lançamento teste   \n",
      "8       VIAGEM - Lançamento teste 3547      viagem lançamento teste   \n",
      "9      IMPOSTO - Lançamento teste 6514     imposto lançamento teste   \n",
      "10     ALUGUEL - Lançamento teste 2584     aluguel lançamento teste   \n",
      "11    SOFTWARE - Lançamento teste 5333    software lançamento teste   \n",
      "12     SALARIO - Lançamento teste 9785     salario lançamento teste   \n",
      "13     ALUGUEL - Lançamento teste 7201     aluguel lançamento teste   \n",
      "14     ALUGUEL - Lançamento teste 6925     aluguel lançamento teste   \n",
      "15  RENDIMENTO - Lançamento teste 2139  rendimento lançamento teste   \n",
      "16     SALARIO - Lançamento teste 5741     salario lançamento teste   \n",
      "17     ALUGUEL - Lançamento teste 2654     aluguel lançamento teste   \n",
      "18      VIAGEM - Lançamento teste 6977      viagem lançamento teste   \n",
      "19     ANUNCIO - Lançamento teste 4432     anuncio lançamento teste   \n",
      "\n",
      "   CLASSIFICAÇÃO_PROB  \n",
      "0              79.18%  \n",
      "1              69.26%  \n",
      "2              74.14%  \n",
      "3              68.40%  \n",
      "4              69.26%  \n",
      "5              74.14%  \n",
      "6              70.08%  \n",
      "7              68.40%  \n",
      "8              70.08%  \n",
      "9              69.26%  \n",
      "10             79.18%  \n",
      "11             71.57%  \n",
      "12             68.40%  \n",
      "13             79.18%  \n",
      "14             79.18%  \n",
      "15             74.14%  \n",
      "16             68.40%  \n",
      "17             79.18%  \n",
      "18             70.08%  \n",
      "19             72.92%  \n"
     ]
    }
   ],
   "source": [
    "# Probabilidade de previsão e coluna de classificação\n",
    "print(\"Calculando probabilidades de previsão\")\n",
    "# Obter a matriz de probabilidades\n",
    "arr_proba = text_clf_pipeline.predict_proba(X)\n",
    "# Ordem da classe conforme o modelo\n",
    "model_classes = text_clf_pipeline.classes_\n",
    "print(f\"Ordem das classes conforme o modelo: {model_classes}\")\n",
    "# Criação do map para encontrar o índice da classe\n",
    "class_index_map = {cls: i for i, cls in enumerate(model_classes)}\n",
    "# Para cada linha do dataset, descobrir qual o indice da classe\n",
    "# Pegando dados de y, que são as contas reais de cada lançamento\n",
    "index_real_cls = y.map(class_index_map).values\n",
    "# Calculando a probabilidade da classe real para cada linha\n",
    "real_proba = arr_proba[np.arange(len(y)), index_real_cls]\n",
    "# Criando coluna no DataFrame\n",
    "df_filtered.loc[:, 'CLASSIFICAÇÃO_PROB'] = real_proba * 100\n",
    "\n",
    "# Mostrando o resultado final\n",
    "print(\"\\nResultado final...\")\n",
    "df_display = df_filtered.copy()\n",
    "df_display['CLASSIFICAÇÃO_PROB'] = df_display['CLASSIFICAÇÃO_PROB'].map('{:.2f}%'.format)\n",
    "\n",
    "# Exibir colunas mais importantes\n",
    "columns_to_display = ['DESCRIÇÃO DO LANÇAMENTO', 'DESCRIÇÃO_LIMPA', 'CLASSIFICAÇÃO_PROB']\n",
    "print(df_display[columns_to_display].head(20))"
   ]
  },
  {
   "cell_type": "markdown",
   "id": "5298be00",
   "metadata": {},
   "source": [
    "## Testando inserção de dados\n",
    "Testada uma nova entrada e retornando a probabilidade de previsão. Nota-se que a probabilidade de previsão vai diminuindo conforme o modelo aprende mais das contas."
   ]
  },
  {
   "cell_type": "code",
   "execution_count": 29,
   "id": "10",
   "metadata": {},
   "outputs": [
    {
     "name": "stdout",
     "output_type": "stream",
     "text": [
      "Resultados das previsões para novos lançamentos:\n",
      "      Probabilidade\n",
      "20102        83.41%\n",
      "20105         1.90%\n",
      "30101         1.86%\n",
      "30102         1.86%\n",
      "30103         1.86%\n",
      "20103         1.85%\n",
      "20106         1.83%\n",
      "20107         1.82%\n",
      "20104         1.80%\n",
      "20101         1.79%\n",
      "Analisando a melhor previsão do modelo...\n",
      "Melhor previsão: Conta 20102 com probabilidade de 83.41%\n"
     ]
    }
   ],
   "source": [
    "# Testando com novo lançamento\n",
    "new_entries = [\"pagto aluguel\"]\n",
    "# Limpando os novos lançamentos\n",
    "new_entries_clean = clean_text(new_entries)\n",
    "# Fazendo previsões\n",
    "proba = text_clf_pipeline.predict_proba([new_entries_clean])\n",
    "# Obtendo classes previstas\n",
    "classes = text_clf_pipeline.classes_\n",
    "# DataFrame mostrando resultados. O .T deixa as contas como linhas\n",
    "df_results = pd.DataFrame(proba, columns=classes).T\n",
    "df_results.rename(columns={0: 'Probabilidade'}, inplace=True)\n",
    "# Convertendo para porcentagem\n",
    "df_results['Probabilidade'] = df_results['Probabilidade'] * 100\n",
    "# Ordenando da maior para a menor probabilidade\n",
    "df_results_sorted = df_results.sort_values(by='Probabilidade', ascending=False)\n",
    "df_results_sorted['Probabilidade'] = df_results_sorted['Probabilidade'].map('{:.2f}%'.format) \n",
    "print(\"Resultados das previsões para novos lançamentos:\")\n",
    "print(df_results_sorted)\n",
    "\n",
    "# Mostrando a melhor e pior previsão do modelo\n",
    "print(\"Analisando a melhor previsão do modelo...\")\n",
    "# Encontrando a melhor previsão\n",
    "best_acc = df_results_sorted.iloc[0]\n",
    "best_proba = df_results_sorted.iloc[0,0]\n",
    "print(f\"Melhor previsão: Conta {best_acc.name} com probabilidade de {best_proba}\")"
   ]
  },
  {
   "cell_type": "code",
   "execution_count": 30,
   "id": "0a691731",
   "metadata": {},
   "outputs": [
    {
     "name": "stdout",
     "output_type": "stream",
     "text": [
      "Modelo salvo em modelo_contabil_pipeline.joblib\n"
     ]
    }
   ],
   "source": [
    "# Salvando modelo treinado\n",
    "import joblib\n",
    "model_name = 'modelo_contabil_pipeline.joblib'\n",
    "joblib.dump(text_clf_pipeline, model_name)\n",
    "print(f\"Modelo salvo em {model_name}\")"
   ]
  },
  {
   "cell_type": "markdown",
   "id": "92660407",
   "metadata": {},
   "source": [
    "## Testando o modelo já salvo\n",
    "Repetindo os testes anteriores, mas agora usando o modelo salvo."
   ]
  },
  {
   "cell_type": "code",
   "execution_count": 31,
   "id": "835bff41",
   "metadata": {},
   "outputs": [
    {
     "name": "stdout",
     "output_type": "stream",
     "text": [
      "\n",
      "Testando modelo salvo...\n",
      "O lançamento 'TESTE. pagto aluguel' foi classificado na conta '20102' com probabilidade de 81.22%\n"
     ]
    }
   ],
   "source": [
    "# Testando modelo salvo\n",
    "load_model = joblib.load(model_name)\n",
    "test_entry = [\"TESTE. pagto aluguel\"]\n",
    "# Usando modelo carregado para fazer previsão\n",
    "predict = load_model.predict(test_entry)\n",
    "proba = load_model.predict_proba(test_entry)\n",
    "# Pega a probabilidade da classe prevista\n",
    "max_prob = proba.max()\n",
    "\n",
    "print(\"\\nTestando modelo salvo...\")\n",
    "print(f\"O lançamento '{test_entry[0]}' foi classificado na conta '{predict[0]}' com probabilidade de {max_prob*100:.2f}%\")"
   ]
  },
  {
   "cell_type": "markdown",
   "id": "44662a58",
   "metadata": {},
   "source": [
    "# Testando o modelo para preencher as contas de lançamentos sem classificação"
   ]
  },
  {
   "cell_type": "code",
   "execution_count": 32,
   "id": "6abc4a9b",
   "metadata": {},
   "outputs": [
    {
     "name": "stdout",
     "output_type": "stream",
     "text": [
      "\n",
      "--- Separação de dados concluída ---\n",
      "Total de lançamentos carregados: 514\n",
      "Lançamentos para TREINO: 500\n",
      "Lançamentos para CLASSIFICAÇÃO: 14\n",
      "A soma dos lançamentos para treino e classificação confere com o total carregado.\n"
     ]
    }
   ],
   "source": [
    "# Testando modelo para preencher as contas de lançamentos sem classificação\n",
    "blank_sheet = 'lanc_cont_ml_blank.xlsx'\n",
    "df = pd.read_excel(blank_sheet)\n",
    "df.head(5)\n",
    "\n",
    "# Definindo as colunas e separando os dataframes \n",
    "col_his = 'DESCRIÇÃO DO LANÇAMENTO'\n",
    "col_acc = 'CONTA'  # Coluna onde a conta será preenchida\n",
    "\n",
    "# Condição para separar treino e classificação\n",
    "condition_for_class = df[col_acc].isna() | (df[col_acc].astype(str).str.strip() == '')\n",
    "# DataFrame para classificar\n",
    "df_for_class = df[condition_for_class].copy()\n",
    "# DF para treino usando o inverso da condição (~)\n",
    "df_training = df[~condition_for_class].copy() \n",
    "# Verificando os resultados obtidos\n",
    "print(\"\\n--- Separação de dados concluída ---\")\n",
    "print(f\"Total de lançamentos carregados: {len(df)}\")\n",
    "print(f\"Lançamentos para TREINO: {len(df_training)}\")\n",
    "print(f\"Lançamentos para CLASSIFICAÇÃO: {len(df_for_class)}\")\n",
    "\n",
    "if len(df) == (len(df_training) + len(df_for_class)):\n",
    "    print(\"A soma dos lançamentos para treino e classificação confere com o total carregado.\")\n",
    "else:\n",
    "    print(\"Atenção: A soma dos lançamentos para treino e classificação NÃO confere com o total carregado.\")"
   ]
  },
  {
   "cell_type": "code",
   "execution_count": 33,
   "id": "7ce2e5a5",
   "metadata": {},
   "outputs": [
    {
     "name": "stdout",
     "output_type": "stream",
     "text": [
      "Dados de treino divididos: 350 para treino e 150 para teste\n",
      "Treinando o modelo...\n",
      "Modelo treinado com sucesso!\n"
     ]
    }
   ],
   "source": [
    "# treinando modelo com regressão\n",
    "# filtrando df\n",
    "acc_count = df_training[col_acc].value_counts()\n",
    "cutoff = 7\n",
    "valid_acc = acc_count[acc_count >= cutoff].index\n",
    "df_filtered = df_training[df_training[col_acc].isin(valid_acc)].copy()\n",
    "\n",
    "df_filtered[col_acc] = df_filtered[col_acc].astype(int) \n",
    "df_filtered[\"DESCRIÇÃO_LIMPA\"] = df_filtered[col_his].apply(clean_text)\n",
    "X = df_filtered[\"DESCRIÇÃO_LIMPA\"]\n",
    "y = df_filtered[col_acc]\n",
    "\n",
    "X_train, X_test, y_train, y_test = train_test_split(X, y, test_size=0.3, random_state=42, stratify=y)\n",
    "print(f\"Dados de treino divididos: {len(X_train)} para treino e {len(X_test)} para teste\")\n",
    "\n",
    "from sklearn.linear_model import LogisticRegression\n",
    "# Definir e criar pipeline\n",
    "text_clf_pipeline = Pipeline([\n",
    "    ('tfidf', TfidfVectorizer(ngram_range=(1,2))),\n",
    "    ('clf', LogisticRegression(random_state=42)),\n",
    "    ])\n",
    "print(\"Treinando o modelo...\")\n",
    "text_clf_pipeline.fit(X_train, y_train)\n",
    "print(\"Modelo treinado com sucesso!\")"
   ]
  },
  {
   "cell_type": "code",
   "execution_count": 34,
   "id": "29828c75",
   "metadata": {},
   "outputs": [
    {
     "name": "stdout",
     "output_type": "stream",
     "text": [
      "Relatório de Classificação: \n",
      "              precision    recall  f1-score   support\n",
      "\n",
      "       20101       1.00      1.00      1.00        12\n",
      "       20102       1.00      1.00      1.00        20\n",
      "       20103       1.00      1.00      1.00        15\n",
      "       20104       1.00      1.00      1.00        13\n",
      "       20105       1.00      1.00      1.00        18\n",
      "       20106       1.00      1.00      1.00        13\n",
      "       20107       1.00      1.00      1.00        12\n",
      "       30101       1.00      1.00      1.00        15\n",
      "       30102       1.00      1.00      1.00        16\n",
      "       30103       1.00      1.00      1.00        16\n",
      "\n",
      "    accuracy                           1.00       150\n",
      "   macro avg       1.00      1.00      1.00       150\n",
      "weighted avg       1.00      1.00      1.00       150\n",
      "\n",
      "Matriz de Confusão:\n"
     ]
    },
    {
     "data": {
      "image/png": "[encoded data removed]",
      "text/plain": [
       "<Figure size 1600x1000 with 2 Axes>"
      ]
     },
     "metadata": {},
     "output_type": "display_data"
    }
   ],
   "source": [
    "# Avaliando novo modelo\n",
    "# Avaliando o modelo, criando matriz de confusão e relatório de classificação\n",
    "# Usando o pipeline para fazer previsões\n",
    "y_pred = text_clf_pipeline.predict(X_test)\n",
    "# Imprimindo o relatório de classificação\n",
    "print(\"Relatório de Classificação: \")\n",
    "print(classification_report(y_test, y_pred))\n",
    "# Gerar e visualizar matriz de confusão\n",
    "print(\"Matriz de Confusão:\")\n",
    "conf_matrix = confusion_matrix(y_test, y_pred)\n",
    "labels = sorted(y_test.unique())\n",
    "plt.figure(figsize=(16, 10))\n",
    "sns.heatmap(\n",
    "    conf_matrix,\n",
    "    annot=True,\n",
    "    fmt=\"d\",\n",
    "    cmap=\"Blues\",\n",
    "    xticklabels=labels,\n",
    "    yticklabels=labels,\n",
    ")\n",
    "plt.ylabel(\"Verdadeiro\")\n",
    "plt.xlabel(\"Modelo previsto\")\n",
    "plt.title(\"Matriz de Confusão pós filtragem\")\n",
    "plt.show()"
   ]
  },
  {
   "cell_type": "code",
   "execution_count": 35,
   "id": "244fba2b",
   "metadata": {},
   "outputs": [
    {
     "name": "stdout",
     "output_type": "stream",
     "text": [
      "Iniciando o processo de classificação...\n",
      "\n",
      "Classificação concluída. Resultados:\n",
      "                 DESCRIÇÃO DO LANÇAMENTO  CONTA CLASSIFICAÇÃO_PROB\n",
      "500      IMPOSTO - Lançamento teste 3253  20104             85.82%\n",
      "501      ANUNCIO - Lançamento teste 2657  20103             87.52%\n",
      "502        VENDA - Lançamento teste 9626  30102             88.07%\n",
      "503      SALARIO - Lançamento teste 3147  20101             85.43%\n",
      "504   RENDIMENTO - Lançamento teste 3658  30103             88.07%\n",
      "505      ANUNCIO - Lançamento teste 3712  20103             87.52%\n",
      "506  RECEBIMENTO - Lançamento teste 6968  30101             88.07%\n",
      "507      IMPOSTO - Lançamento teste 5668  20104             85.82%\n",
      "508  RECEBIMENTO - Lançamento teste 4918  30101             88.07%\n",
      "509   FORNECEDOR - Lançamento teste 8684  20105             89.45%\n",
      "510      IMPOSTO - Lançamento teste 8218  20104             85.82%\n",
      "511  RECEBIMENTO - Lançamento teste 7256  30101             88.07%\n",
      "512        VENDA - Lançamento teste 3655  30102             88.07%\n",
      "513      IMPOSTO - Lançamento teste 3267  20104             85.82%\n"
     ]
    }
   ],
   "source": [
    "# Aplicando regra de negócio para preencher as contas\n",
    "# Iniciando o processo de classificação\n",
    "print(\"Iniciando o processo de classificação...\")\n",
    "classify_texts = df_for_class[col_his].apply(clean_text)\n",
    "# usando o modelo para fazer as probabilidades\n",
    "arr_proba = text_clf_pipeline.predict_proba(classify_texts)\n",
    "# Processar os resultados e aplicar a regra de negócio\n",
    "fill_accounts = []\n",
    "final_proba = []\n",
    "confidence_limit = 0.70 # critério de 70%\n",
    "\n",
    "for i in range(len(arr_proba)):\n",
    "    # pega as probabilidades para o lançamento atual\n",
    "    lanc_proba = arr_proba[i]\n",
    "    # encontra o indice da maior probabilidade\n",
    "    best_acc_index = lanc_proba.argmax()\n",
    "    # valor da maior probabilidade\n",
    "    max_proba = lanc_proba[best_acc_index]\n",
    "    # pega o código da conta\n",
    "    predicted_acc = text_clf_pipeline.classes_[best_acc_index]\n",
    "    # aplica a regra de negócio\n",
    "    if max_proba >= confidence_limit:\n",
    "        fill_accounts.append(predicted_acc)\n",
    "        final_proba.append(f\"{max_proba:.2%}\")  # convertendo para porcentagem\n",
    "    else:\n",
    "        fill_accounts.append(predicted_acc) # não preencher\n",
    "        final_proba.append(f\"Revisar! Sugestão de conta: {predicted_acc} ({max_proba:.2%})\") # convertendo para porcentagem\n",
    "\n",
    "# Adicionando os resultados ao DataFrame original\n",
    "df_for_class['CONTA'] = fill_accounts\n",
    "df_for_class['CLASSIFICAÇÃO_PROB'] = final_proba\n",
    "\n",
    "print(\"\\nClassificação concluída. Resultados:\")\n",
    "print(df_for_class[[col_his, 'CONTA', 'CLASSIFICAÇÃO_PROB']].head(20))"
   ]
  },
  {
   "cell_type": "code",
   "execution_count": 36,
   "id": "116fc2be",
   "metadata": {},
   "outputs": [
    {
     "name": "stdout",
     "output_type": "stream",
     "text": [
      "\n",
      "Planilha final salva como 'classificacao_contas_resultado.xlsx' com 514 lançamentos.\n"
     ]
    },
    {
     "data": {
      "text/html": [
       "<div>\n",
       "<style scoped>\n",
       "    .dataframe tbody tr th:only-of-type {\n",
       "        vertical-align: middle;\n",
       "    }\n",
       "\n",
       "    .dataframe tbody tr th {\n",
       "        vertical-align: top;\n",
       "    }\n",
       "\n",
       "    .dataframe thead th {\n",
       "        text-align: right;\n",
       "    }\n",
       "</style>\n",
       "<table border=\"1\" class=\"dataframe\">\n",
       "  <thead>\n",
       "    <tr style=\"text-align: right;\">\n",
       "      <th></th>\n",
       "      <th>CONTA</th>\n",
       "      <th>BANCO</th>\n",
       "      <th>DATA</th>\n",
       "      <th>DESCRIÇÃO DO LANÇAMENTO</th>\n",
       "      <th>VALOR</th>\n",
       "      <th>CLASSIFICAÇÃO_PROB</th>\n",
       "    </tr>\n",
       "  </thead>\n",
       "  <tbody>\n",
       "    <tr>\n",
       "      <th>495</th>\n",
       "      <td>20105.0</td>\n",
       "      <td>ITAÚ</td>\n",
       "      <td>25/12/2024</td>\n",
       "      <td>FORNECEDOR - Lançamento teste 8684</td>\n",
       "      <td>-19,313,65</td>\n",
       "      <td>Conta já existente</td>\n",
       "    </tr>\n",
       "    <tr>\n",
       "      <th>496</th>\n",
       "      <td>20104.0</td>\n",
       "      <td>ITAÚ</td>\n",
       "      <td>29/12/2024</td>\n",
       "      <td>IMPOSTO - Lançamento teste 8218</td>\n",
       "      <td>-7,388,43</td>\n",
       "      <td>Conta já existente</td>\n",
       "    </tr>\n",
       "    <tr>\n",
       "      <th>497</th>\n",
       "      <td>30101.0</td>\n",
       "      <td>ITAÚ</td>\n",
       "      <td>30/12/2024</td>\n",
       "      <td>RECEBIMENTO - Lançamento teste 7256</td>\n",
       "      <td>23,094,68</td>\n",
       "      <td>Conta já existente</td>\n",
       "    </tr>\n",
       "    <tr>\n",
       "      <th>498</th>\n",
       "      <td>30102.0</td>\n",
       "      <td>ITAÚ</td>\n",
       "      <td>30/12/2024</td>\n",
       "      <td>VENDA - Lançamento teste 3655</td>\n",
       "      <td>15,847,42</td>\n",
       "      <td>Conta já existente</td>\n",
       "    </tr>\n",
       "    <tr>\n",
       "      <th>499</th>\n",
       "      <td>20104.0</td>\n",
       "      <td>ITAÚ</td>\n",
       "      <td>31/12/2024</td>\n",
       "      <td>IMPOSTO - Lançamento teste 3267</td>\n",
       "      <td>-16,035,12</td>\n",
       "      <td>Conta já existente</td>\n",
       "    </tr>\n",
       "    <tr>\n",
       "      <th>500</th>\n",
       "      <td>20104.0</td>\n",
       "      <td>ITAÚ</td>\n",
       "      <td>20/12/2024</td>\n",
       "      <td>IMPOSTO - Lançamento teste 3253</td>\n",
       "      <td>-4,569,53</td>\n",
       "      <td>85.82%</td>\n",
       "    </tr>\n",
       "    <tr>\n",
       "      <th>501</th>\n",
       "      <td>20103.0</td>\n",
       "      <td>ITAÚ</td>\n",
       "      <td>20/12/2024</td>\n",
       "      <td>ANUNCIO - Lançamento teste 2657</td>\n",
       "      <td>-1,589,44</td>\n",
       "      <td>87.52%</td>\n",
       "    </tr>\n",
       "    <tr>\n",
       "      <th>502</th>\n",
       "      <td>30102.0</td>\n",
       "      <td>ITAÚ</td>\n",
       "      <td>22/12/2024</td>\n",
       "      <td>VENDA - Lançamento teste 9626</td>\n",
       "      <td>23,137,70</td>\n",
       "      <td>88.07%</td>\n",
       "    </tr>\n",
       "    <tr>\n",
       "      <th>503</th>\n",
       "      <td>20101.0</td>\n",
       "      <td>ITAÚ</td>\n",
       "      <td>24/12/2024</td>\n",
       "      <td>SALARIO - Lançamento teste 3147</td>\n",
       "      <td>-13,255,49</td>\n",
       "      <td>85.43%</td>\n",
       "    </tr>\n",
       "    <tr>\n",
       "      <th>504</th>\n",
       "      <td>30103.0</td>\n",
       "      <td>ITAÚ</td>\n",
       "      <td>24/12/2024</td>\n",
       "      <td>RENDIMENTO - Lançamento teste 3658</td>\n",
       "      <td>11,332,76</td>\n",
       "      <td>88.07%</td>\n",
       "    </tr>\n",
       "    <tr>\n",
       "      <th>505</th>\n",
       "      <td>20103.0</td>\n",
       "      <td>ITAÚ</td>\n",
       "      <td>25/12/2024</td>\n",
       "      <td>ANUNCIO - Lançamento teste 3712</td>\n",
       "      <td>-16,635,33</td>\n",
       "      <td>87.52%</td>\n",
       "    </tr>\n",
       "    <tr>\n",
       "      <th>506</th>\n",
       "      <td>30101.0</td>\n",
       "      <td>ITAÚ</td>\n",
       "      <td>25/12/2024</td>\n",
       "      <td>RECEBIMENTO - Lançamento teste 6968</td>\n",
       "      <td>1,358,59</td>\n",
       "      <td>88.07%</td>\n",
       "    </tr>\n",
       "    <tr>\n",
       "      <th>507</th>\n",
       "      <td>20104.0</td>\n",
       "      <td>ITAÚ</td>\n",
       "      <td>25/12/2024</td>\n",
       "      <td>IMPOSTO - Lançamento teste 5668</td>\n",
       "      <td>-19,393,29</td>\n",
       "      <td>85.82%</td>\n",
       "    </tr>\n",
       "    <tr>\n",
       "      <th>508</th>\n",
       "      <td>30101.0</td>\n",
       "      <td>ITAÚ</td>\n",
       "      <td>25/12/2024</td>\n",
       "      <td>RECEBIMENTO - Lançamento teste 4918</td>\n",
       "      <td>7,058,39</td>\n",
       "      <td>88.07%</td>\n",
       "    </tr>\n",
       "    <tr>\n",
       "      <th>509</th>\n",
       "      <td>20105.0</td>\n",
       "      <td>ITAÚ</td>\n",
       "      <td>25/12/2024</td>\n",
       "      <td>FORNECEDOR - Lançamento teste 8684</td>\n",
       "      <td>-19,313,65</td>\n",
       "      <td>89.45%</td>\n",
       "    </tr>\n",
       "    <tr>\n",
       "      <th>510</th>\n",
       "      <td>20104.0</td>\n",
       "      <td>ITAÚ</td>\n",
       "      <td>29/12/2024</td>\n",
       "      <td>IMPOSTO - Lançamento teste 8218</td>\n",
       "      <td>-7,388,43</td>\n",
       "      <td>85.82%</td>\n",
       "    </tr>\n",
       "    <tr>\n",
       "      <th>511</th>\n",
       "      <td>30101.0</td>\n",
       "      <td>ITAÚ</td>\n",
       "      <td>30/12/2024</td>\n",
       "      <td>RECEBIMENTO - Lançamento teste 7256</td>\n",
       "      <td>23,094,68</td>\n",
       "      <td>88.07%</td>\n",
       "    </tr>\n",
       "    <tr>\n",
       "      <th>512</th>\n",
       "      <td>30102.0</td>\n",
       "      <td>ITAÚ</td>\n",
       "      <td>30/12/2024</td>\n",
       "      <td>VENDA - Lançamento teste 3655</td>\n",
       "      <td>15,847,42</td>\n",
       "      <td>88.07%</td>\n",
       "    </tr>\n",
       "    <tr>\n",
       "      <th>513</th>\n",
       "      <td>20104.0</td>\n",
       "      <td>ITAÚ</td>\n",
       "      <td>31/12/2024</td>\n",
       "      <td>IMPOSTO - Lançamento teste 3267</td>\n",
       "      <td>-16,035,12</td>\n",
       "      <td>85.82%</td>\n",
       "    </tr>\n",
       "  </tbody>\n",
       "</table>\n",
       "</div>"
      ],
      "text/plain": [
       "       CONTA BANCO        DATA              DESCRIÇÃO DO LANÇAMENTO  \\\n",
       "495  20105.0  ITAÚ  25/12/2024   FORNECEDOR - Lançamento teste 8684   \n",
       "496  20104.0  ITAÚ  29/12/2024      IMPOSTO - Lançamento teste 8218   \n",
       "497  30101.0  ITAÚ  30/12/2024  RECEBIMENTO - Lançamento teste 7256   \n",
       "498  30102.0  ITAÚ  30/12/2024        VENDA - Lançamento teste 3655   \n",
       "499  20104.0  ITAÚ  31/12/2024      IMPOSTO - Lançamento teste 3267   \n",
       "500  20104.0  ITAÚ  20/12/2024      IMPOSTO - Lançamento teste 3253   \n",
       "501  20103.0  ITAÚ  20/12/2024      ANUNCIO - Lançamento teste 2657   \n",
       "502  30102.0  ITAÚ  22/12/2024        VENDA - Lançamento teste 9626   \n",
       "503  20101.0  ITAÚ  24/12/2024      SALARIO - Lançamento teste 3147   \n",
       "504  30103.0  ITAÚ  24/12/2024   RENDIMENTO - Lançamento teste 3658   \n",
       "505  20103.0  ITAÚ  25/12/2024      ANUNCIO - Lançamento teste 3712   \n",
       "506  30101.0  ITAÚ  25/12/2024  RECEBIMENTO - Lançamento teste 6968   \n",
       "507  20104.0  ITAÚ  25/12/2024      IMPOSTO - Lançamento teste 5668   \n",
       "508  30101.0  ITAÚ  25/12/2024  RECEBIMENTO - Lançamento teste 4918   \n",
       "509  20105.0  ITAÚ  25/12/2024   FORNECEDOR - Lançamento teste 8684   \n",
       "510  20104.0  ITAÚ  29/12/2024      IMPOSTO - Lançamento teste 8218   \n",
       "511  30101.0  ITAÚ  30/12/2024  RECEBIMENTO - Lançamento teste 7256   \n",
       "512  30102.0  ITAÚ  30/12/2024        VENDA - Lançamento teste 3655   \n",
       "513  20104.0  ITAÚ  31/12/2024      IMPOSTO - Lançamento teste 3267   \n",
       "\n",
       "          VALOR  CLASSIFICAÇÃO_PROB  \n",
       "495  -19,313,65  Conta já existente  \n",
       "496   -7,388,43  Conta já existente  \n",
       "497   23,094,68  Conta já existente  \n",
       "498   15,847,42  Conta já existente  \n",
       "499  -16,035,12  Conta já existente  \n",
       "500   -4,569,53              85.82%  \n",
       "501   -1,589,44              87.52%  \n",
       "502   23,137,70              88.07%  \n",
       "503  -13,255,49              85.43%  \n",
       "504   11,332,76              88.07%  \n",
       "505  -16,635,33              87.52%  \n",
       "506    1,358,59              88.07%  \n",
       "507  -19,393,29              85.82%  \n",
       "508    7,058,39              88.07%  \n",
       "509  -19,313,65              89.45%  \n",
       "510   -7,388,43              85.82%  \n",
       "511   23,094,68              88.07%  \n",
       "512   15,847,42              88.07%  \n",
       "513  -16,035,12              85.82%  "
      ]
     },
     "execution_count": 36,
     "metadata": {},
     "output_type": "execute_result"
    }
   ],
   "source": [
    "# Gerando planilha final com os resultados\n",
    "# Preenchendo os espaços vazios com \"Conta já existente\"\n",
    "df_training[\"CLASSIFICAÇÃO_PROB\"] = \"Conta já existente\"\n",
    "df_final = pd.concat([df_training, df_for_class], ignore_index=True)\n",
    "output_file = 'classificacao_contas_resultado.xlsx'\n",
    "df_final.to_excel(output_file, index=False)\n",
    "print(f\"\\nPlanilha final salva como '{output_file}' com {len(df_final)} lançamentos.\")\n",
    "df_final.tail(len(df_for_class)+5)"
   ]
  }
 ],
 "metadata": {
  "kernelspec": {
   "display_name": "venv",
   "language": "python",
   "name": "python3"
  },
  "language_info": {
   "codemirror_mode": {
    "name": "ipython",
    "version": 3
   },
   "file_extension": ".py",
   "mimetype": "text/x-python",
   "name": "python",
   "nbconvert_exporter": "python",
   "pygments_lexer": "ipython3",
   "version": "3.12.2"
  }
 },
 "nbformat": 4,
 "nbformat_minor": 5
}
